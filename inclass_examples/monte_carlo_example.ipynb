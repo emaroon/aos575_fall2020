{
 "cells": [
  {
   "cell_type": "markdown",
   "metadata": {},
   "source": [
    "#### AOS 575 - Monte Carlo Example - Lecture, 9/16/2020\n",
    "Originally coded by Prof. Barnes (CSU), <br>\n",
    "updated/adapted for Jupyter Notebook/Python3 by Prof. Kay (CU), Last updated: January 10, 2019 <br>\n",
    "updated for AOS 575 by Prof. Maroon (UWisc)<br>\n",
    "Last Updated: Sept 14 2020"
   ]
  },
  {
   "cell_type": "code",
   "execution_count": 1,
   "metadata": {},
   "outputs": [],
   "source": [
    "#import packages\n",
    "import numpy as np\n",
    "import matplotlib.pyplot as plt"
   ]
  },
  {
   "cell_type": "markdown",
   "metadata": {},
   "source": [
    "From Barnes notes p42:<br> In January (31 days), the maximum daily temperature was 2.2 standard\n",
    "deviations from the climatological mean temperature. If we assume\n",
    "that the daily temperature is normally distributed, how rare is\n",
    "it to have a maximum of 2.2 standard deviations or greater in 31 daily samples?"
   ]
  },
  {
   "cell_type": "code",
   "execution_count": 2,
   "metadata": {},
   "outputs": [
    {
     "data": {
      "image/png": "[encoded data removed]",
      "text/plain": [
       "<Figure size 432x288 with 1 Axes>"
      ]
     },
     "metadata": {
      "needs_background": "light"
     },
     "output_type": "display_data"
    },
    {
     "name": "stdout",
     "output_type": "stream",
     "text": [
      "There is a  37.158 % probability of a max larger than  2.2\n"
     ]
    }
   ],
   "source": [
    "#What is the likely maximum in a normal distribution with sample size 31?\n",
    "#can't use z/t statistics for the maximum of a distribution, only the mean!\n",
    "#Let's Monte Carlo this situation by creating many 31-size normal distributions then selecting the max in each\n",
    "bin_width = .1\n",
    "drawn_max = 2.2      #2.2 standard deviations\n",
    "sample_length = 31   #sample size\n",
    "\n",
    "Z = np.random.randn(10000,1)    # very large random normal distribution\n",
    "M = np.empty([100000, 1])\n",
    "\n",
    "for iloop in range(100000):\n",
    "    ip = np.random.randint(low=0,high=Z.shape[0],size=sample_length)    #selecting the maximum in a sample of length N\n",
    "    M[iloop] = np.max(Z[ip])                                            #selecting the maximum from that sample\n",
    "\n",
    "bin_list = np.arange(-1,5,bin_width)\n",
    "n, bins = np.histogram(M, bins=bin_list, density=False)\n",
    "plt.plot([drawn_max, drawn_max],[0, .12],color='C1',linewidth=3,linestyle='--')\n",
    "plt.bar(bins[0:-1],n/float(len(M)),bin_width, facecolor='C0', alpha=0.4)\n",
    "#plt.plot(bins[0:-1]+bin_width/2,n/float(len(M)),color='C0')\n",
    "\n",
    "plt.xlabel('maximum value')\n",
    "plt.ylabel('frequency')\n",
    "titlename = 'Maximum value for sample of length N = ' + str(sample_length) \n",
    "plt.title(titlename)\n",
    "plt.show()\n",
    "\n",
    "print('There is a ', len(M[M>drawn_max])/len(M)*100,'% probability of a max larger than ',drawn_max)"
   ]
  },
  {
   "cell_type": "code",
   "execution_count": null,
   "metadata": {},
   "outputs": [],
   "source": []
  },
  {
   "cell_type": "code",
   "execution_count": null,
   "metadata": {},
   "outputs": [],
   "source": []
  },
  {
   "cell_type": "code",
   "execution_count": null,
   "metadata": {},
   "outputs": [],
   "source": []
  }
 ],
 "metadata": {
  "kernelspec": {
   "display_name": "Python 3",
   "language": "python",
   "name": "python3"
  },
  "language_info": {
   "codemirror_mode": {
    "name": "ipython",
    "version": 3
   },
   "file_extension": ".py",
   "mimetype": "text/x-python",
   "name": "python",
   "nbconvert_exporter": "python",
   "pygments_lexer": "ipython3",
   "version": "3.7.3"
  }
 },
 "nbformat": 4,
 "nbformat_minor": 4
}
