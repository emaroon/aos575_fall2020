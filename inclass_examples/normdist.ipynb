{
 "cells": [
  {
   "cell_type": "markdown",
   "metadata": {},
   "source": [
    "#### AOS 575 - normal distribution example - Lecture 9/10/2020\n",
    "Originally coded by Prof. Maroon (UWisc AOS) <br>\n",
    "Last updated 9/9/2020"
   ]
  },
  {
   "cell_type": "code",
   "execution_count": null,
   "metadata": {},
   "outputs": [],
   "source": [
    "#import packages\n",
    "import numpy as np\n",
    "import matplotlib.pyplot as plt"
   ]
  },
  {
   "cell_type": "code",
   "execution_count": null,
   "metadata": {},
   "outputs": [],
   "source": [
    "#a normal distribution with arbitrary mean and standard deviation \n",
    "mu=5\n",
    "sigma=3\n",
    "\n",
    "#make a evenly spaced for x and then calculate f(x)\n",
    "x=np.linspace(-4*(sigma)+mu,4.01*(sigma)+mu,101)\n",
    "fx=1/(np.sqrt(2*np.pi)*sigma)*np.exp((-(x-mu)**2)/(2*sigma**2))\n",
    "\n",
    "f=plt.figure(figsize=(8,4))\n",
    "plt.plot(x,fx,linewidth=3)\n",
    "plt.axhline(0,color='black',linewidth=1)\n",
    "plt.axvline(mu,color='black',linewidth=2)\n",
    "\n",
    "for vv in range(-3*sigma,4*sigma,sigma):\n",
    "    if np.abs(vv)==sigma: \n",
    "        plt.axvline(mu+vv,color='C1',linewidth=2,linestyle='dashed')\n",
    "    elif np.abs(vv)==2*sigma: \n",
    "        plt.axvline(mu+vv,color='C2',linewidth=2,linestyle='dashed')\n",
    "    elif np.abs(vv)==3*sigma: \n",
    "        plt.axvline(mu+vv,color='C4',linewidth=2,linestyle='dashed')\n",
    "\n",
    "plt.xlabel('x')\n",
    "plt.ylabel('f(x) PDF')"
   ]
  },
  {
   "cell_type": "code",
   "execution_count": null,
   "metadata": {},
   "outputs": [],
   "source": [
    "#integrating PDF into the normal cumulative distribution function \n",
    "dx=np.diff(x)[0]\n",
    "cdfx=np.cumsum(fx*dx)   #don't forget to multipy by dx!\n",
    "\n",
    "f=plt.figure(figsize=(8,4))\n",
    "plt.plot(x,cdfx,linewidth=3)\n",
    "plt.axhline(0,color='black',linewidth=1)\n",
    "plt.axvline(mu,color='black',linewidth=2)\n",
    "\n",
    "for vv in range(-3*sigma,4*sigma,sigma):\n",
    "    if np.abs(vv)==sigma: \n",
    "        plt.axvline(mu+vv,color='C1',linewidth=2,linestyle='dashed')\n",
    "    elif np.abs(vv)==2*sigma: \n",
    "        plt.axvline(mu+vv,color='C2',linewidth=2,linestyle='dashed')\n",
    "    elif np.abs(vv)==3*sigma: \n",
    "        plt.axvline(mu+vv,color='C4',linewidth=2,linestyle='dashed')\n",
    "\n",
    "plt.axhline(0.5,color='black',linewidth=1,linestyle='dashed')\n",
    "plt.xlabel('x')\n",
    "plt.ylabel('F(x) CDF')"
   ]
  },
  {
   "cell_type": "code",
   "execution_count": null,
   "metadata": {},
   "outputs": [],
   "source": [
    "#transforming x-->z, and f(x)-->f(z) the standardized normal distribution\n",
    "z=(x-mu)/sigma\n",
    "fz=1/np.sqrt((2*np.pi))*np.exp(-(z**2)/2)\n",
    "\n",
    "\n",
    "f=plt.figure(figsize=(8,4))\n",
    "plt.plot(z,fz,linewidth=3)\n",
    "plt.axhline(0,color='black',linewidth=1)\n",
    "plt.axvline(0,color='black',linewidth=2)\n",
    "for vv in range(-3,4,1):\n",
    "    if np.abs(vv)==1: \n",
    "        plt.axvline(vv,color='C1',linewidth=2,linestyle='dashed')\n",
    "    elif np.abs(vv)==2: \n",
    "        plt.axvline(vv,color='C2',linewidth=2,linestyle='dashed')\n",
    "    elif np.abs(vv)==3: \n",
    "        plt.axvline(vv,color='C4',linewidth=2,linestyle='dashed')\n",
    "   \n",
    "\n",
    "plt.xlabel('z')\n",
    "plt.ylabel('f(z) PDF');\n"
   ]
  },
  {
   "cell_type": "code",
   "execution_count": null,
   "metadata": {},
   "outputs": [],
   "source": [
    "#the standardized normal cumulative distribution function\n",
    "\n",
    "dz=np.diff(z)[0]\n",
    "cdfz=np.cumsum(fz*dz)  #don't forget to multipy by dz!\n",
    "\n",
    "f=plt.figure(figsize=(8,4))\n",
    "plt.plot(z,cdfz,linewidth=3)\n",
    "plt.axhline(0,color='black',linewidth=1)\n",
    "plt.axvline(0,color='black',linewidth=2)\n",
    "for vv in range(-3,4,1):\n",
    "    if np.abs(vv)==1: \n",
    "        plt.axvline(vv,color='C1',linewidth=2,linestyle='dashed')\n",
    "    elif np.abs(vv)==2: \n",
    "        plt.axvline(vv,color='C2',linewidth=2,linestyle='dashed')\n",
    "    elif np.abs(vv)==3: \n",
    "        plt.axvline(vv,color='C4',linewidth=2,linestyle='dashed')\n",
    "\n",
    "        \n",
    "plt.axhline(0.5,color='black',linewidth=1,linestyle='dashed')\n",
    "\n",
    "plt.xlabel('z')\n",
    "plt.ylabel('CDF');"
   ]
  },
  {
   "cell_type": "code",
   "execution_count": null,
   "metadata": {},
   "outputs": [],
   "source": []
  }
 ],
 "metadata": {
  "kernelspec": {
   "display_name": "Python [conda env:aos575]",
   "language": "python",
   "name": "conda-env-aos575-py"
  },
  "language_info": {
   "codemirror_mode": {
    "name": "ipython",
    "version": 3
   },
   "file_extension": ".py",
   "mimetype": "text/x-python",
   "name": "python",
   "nbconvert_exporter": "python",
   "pygments_lexer": "ipython3",
   "version": "3.8.5"
  }
 },
 "nbformat": 4,
 "nbformat_minor": 4
}
