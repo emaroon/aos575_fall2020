{
 "cells": [
  {
   "cell_type": "markdown",
   "metadata": {},
   "source": [
    "#### AOS 575 - Orthogonal Least Square - Lecture, 9/29/2020\n",
    "coded by Prof Libby Barnes (CSU) <br>\n",
    "with additional updates/coding by Prof. Jennifer Kay (CU); last updated January 28, 2019 <br>\n",
    "updated for UWisc 575 by Prof. Maroon <br>\n",
    "Last updated: September 26, 2020"
   ]
  },
  {
   "cell_type": "code",
   "execution_count": null,
   "metadata": {},
   "outputs": [],
   "source": [
    "#import packages\n",
    "import numpy as np\n",
    "import matplotlib\n",
    "%matplotlib inline\n",
    "import matplotlib.pyplot as plt\n",
    "import xarray\n",
    "import pandas as pd   ##pandas reads in .csv.\n",
    "from scipy import stats, odr\n",
    "import numpy.linalg as LA\n",
    "from sklearn import datasets, linear_model"
   ]
  },
  {
   "cell_type": "markdown",
   "metadata": {},
   "source": [
    "Make some synthetic data and plot it"
   ]
  },
  {
   "cell_type": "code",
   "execution_count": null,
   "metadata": {},
   "outputs": [],
   "source": [
    "LW = 2\n",
    "x = 5.*np.random.randn(50)             #50 randomly drawn numbers from normal distribution. \n",
    "                                       #Inflated by factor of 5 from standardized normal dist\n",
    "y = x+5.+3.*np.random.randn(len(x))    \n",
    "x = x - np.mean(x)                     #remove means\n",
    "y = y - np.mean(y)\n",
    "\n",
    "f=plt.figure(figsize=(5,5))\n",
    "plt.plot(x,y,'ok',markersize = 5, label = 'DATA')\n",
    "plt.ylabel('y value')\n",
    "plt.xlabel('x value')\n",
    "plt.xlim([-15,15])\n",
    "plt.ylim([-30, 30])\n",
    "plt.title('Data')\n",
    "plt.show()"
   ]
  },
  {
   "cell_type": "markdown",
   "metadata": {},
   "source": [
    "Least square fit. X independent, Y dependent:"
   ]
  },
  {
   "cell_type": "code",
   "execution_count": null,
   "metadata": {},
   "outputs": [],
   "source": [
    "# LSQ - X VERSUS Y\n",
    "slope_xy, intercept_xy, r_value, p_value, std_err = stats.linregress(x,y)\n",
    "\n",
    "f=plt.figure(figsize=(5,5))\n",
    "plt.plot(x,y,'ok',markersize = 5, label = 'DATA')\n",
    "plt.plot(x,intercept_xy+x*slope_xy,'-',color = 'blue', label = 'LSQ: x vs y', linewidth = LW)\n",
    "plt.ylabel('y value')\n",
    "plt.xlabel('x value')\n",
    "plt.xlim([-15,15])\n",
    "plt.ylim([-30, 30])\n",
    "plt.show()"
   ]
  },
  {
   "cell_type": "markdown",
   "metadata": {},
   "source": [
    "Least square fit. Y independent, X dependent:"
   ]
  },
  {
   "cell_type": "code",
   "execution_count": null,
   "metadata": {},
   "outputs": [],
   "source": [
    "# LSQ - Y VERSUS X\n",
    "slope_yx, intercept_yx, r_value, p_value, std_err = stats.linregress(y,x)\n",
    "\n",
    "f=plt.figure(figsize=(5,5))\n",
    "plt.plot(x,y,'ok',markersize = 5, label = 'DATA')\n",
    "plt.plot(x,intercept_xy+x*slope_xy,'-',color = 'blue', label = 'LSQ: x vs y', linewidth = LW)\n",
    "plt.ylabel('y value')\n",
    "plt.xlabel('x value')\n",
    "plt.xlim([-15,15])\n",
    "plt.ylim([-30, 30])\n",
    "plt.plot(x,(1./slope_yx)*x - intercept_yx/slope_yx,'-',color = 'green', label = 'LSQ: y vs x', linewidth = LW)\n",
    "plt.show()"
   ]
  },
  {
   "cell_type": "markdown",
   "metadata": {},
   "source": [
    "Orthogonal least squares fit"
   ]
  },
  {
   "cell_type": "code",
   "execution_count": null,
   "metadata": {},
   "outputs": [],
   "source": [
    "# OLS\n",
    "C = np.cov([x,y], rowvar = 1)\n",
    "LAM, E = LA.eig(C)\n",
    "\n",
    "f=plt.figure(figsize=(5,5))\n",
    "plt.title('Compare Linear Least Squares with Orthogonal Least Squares')\n",
    "\n",
    "plt.plot(x,y,'ok',markersize = 5, label = 'DATA')\n",
    "plt.plot(x,intercept_xy+x*slope_xy,'-',color = 'blue', label = 'LSQ: x vs y', linewidth = LW)\n",
    "plt.plot(x,(1./slope_yx)*x - intercept_yx/slope_yx,'-',color = 'green', label = 'LSQ: y vs x', linewidth = LW)\n",
    "plt.plot(np.array([-E[0][1],E[0][1]])*30.,np.array([-E[1][1],E[1][1]])*30.,'-', color = 'deeppink', linewidth = LW, label  = 'OLS')\n",
    "\n",
    "plt.ylabel('y value')\n",
    "plt.xlabel('x value')\n",
    "plt.xlim([-15,15])\n",
    "plt.ylim([-30, 30])\n",
    "plt.legend(frameon = 0, loc = 'upper left', fontsize = 15)\n",
    "plt.show()"
   ]
  },
  {
   "cell_type": "code",
   "execution_count": null,
   "metadata": {},
   "outputs": [],
   "source": []
  },
  {
   "cell_type": "code",
   "execution_count": null,
   "metadata": {},
   "outputs": [],
   "source": []
  }
 ],
 "metadata": {
  "kernelspec": {
   "display_name": "Python 3",
   "language": "python",
   "name": "python3"
  },
  "language_info": {
   "codemirror_mode": {
    "name": "ipython",
    "version": 3
   },
   "file_extension": ".py",
   "mimetype": "text/x-python",
   "name": "python",
   "nbconvert_exporter": "python",
   "pygments_lexer": "ipython3",
   "version": "3.7.3"
  }
 },
 "nbformat": 4,
 "nbformat_minor": 4
}
