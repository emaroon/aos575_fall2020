{
 "cells": [
  {
   "cell_type": "markdown",
   "metadata": {},
   "source": [
    "#### AOS 575 - PDFs - Lecture, 9/15/2020\n",
    "\n",
    "Originally coded by Prof. Barnes (CSU) <br>\n",
    "updated/adapted for Jupyter Notebook/Python3 by Prof. Kay (CU) ATOC7500 -What_is_pdf? - Lecture #1, Last updated: January 10, 2019 <br>\n",
    "updated for AOS 575 by Prof. Maroon (UWisc)\n",
    "Last updated: Sept 8, 2020"
   ]
  },
  {
   "cell_type": "code",
   "execution_count": null,
   "metadata": {},
   "outputs": [],
   "source": [
    "#import libraries\n",
    "import numpy as np\n",
    "import matplotlib.pyplot as plt\n",
    "import pandas as pd  \n",
    "%matplotlib inline "
   ]
  },
  {
   "cell_type": "code",
   "execution_count": null,
   "metadata": {},
   "outputs": [],
   "source": [
    "# draw random values from normal distribution\n",
    "n_small=10\n",
    "n_large=3000\n",
    "\n",
    "x_small = np.random.normal(0,1,size = (n_small,))   ## small sample\n",
    "x_large = np.random.normal(0,1,size = (n_large,))   ## big sample"
   ]
  },
  {
   "cell_type": "code",
   "execution_count": null,
   "metadata": {},
   "outputs": [],
   "source": [
    "f=plt.figure(figsize=(8,6))\n",
    "plt.xlabel('value')\n",
    "plt.ylabel('arbitrary')\n",
    "plt.yticks([])\n",
    "plt.title('values drawn from a normal distribution')\n",
    "plt.xlim(-4,4)\n",
    "plt.scatter(x_large,np.arange(0,np.size(y)),color='gray',s = 15,label='n='+str(n_large))\n",
    "plt.scatter(x_small,np.arange(0,np.size(x)),color='C3', s = 15,label='n='+str(n_small))\n",
    "xinc = np.arange(-4.5,5.5,.5)\n",
    "for ind, val in enumerate(xinc[1:]):\n",
    "    plt.plot([val - 0.25, val-0.25], [0, np.size(y)],'-', color = 'C0',linewidth=2,linestyle='dashed')\n",
    "plt.legend()\n",
    "plt.show()"
   ]
  },
  {
   "cell_type": "code",
   "execution_count": null,
   "metadata": {},
   "outputs": [],
   "source": [
    "## Plot Histogram Probability Distribution Function\n",
    "hx_sm = np.histogram(x_small,xinc)\n",
    "hx_lg = np.histogram(x_large,xinc)\n",
    "plt.xlabel('Value')\n",
    "plt.ylabel('Count')\n",
    "plt.bar(hx_lg[1][:-1],hx_lg[0],color='gray',width = .4, linewidth = 2)\n",
    "plt.bar(hx_sm[1][:-1],hx_sm[0],color='C3', width = .4, linewidth = 2)\n",
    "plt.show()"
   ]
  },
  {
   "cell_type": "code",
   "execution_count": null,
   "metadata": {},
   "outputs": [],
   "source": [
    "## Plot Normalized Probability Distribution Function\n",
    "hx_sm = np.histogram(x_small,xinc)\n",
    "hx_lg = np.histogram(x_large,xinc)\n",
    "plt.xlabel('Value')\n",
    "plt.ylabel('Frequency')\n",
    "plt.bar(hx_lg[1][:-1],hx_lg[0].astype(float)/np.size(x_large),color='gray', width = .4, linewidth = 2)\n",
    "plt.bar(hx_sm[1][:-1],hx_sm[0].astype(float)/np.size(x_small),color='C3', width = .4, linewidth = 2,alpha=0.7)\n",
    "plt.show()"
   ]
  },
  {
   "cell_type": "code",
   "execution_count": null,
   "metadata": {},
   "outputs": [],
   "source": [
    "## Plot Cumulative Distribution Function\n",
    "hx_sm_cdf = np.cumsum(hx_sm[0])\n",
    "hx_lg_cdf = np.cumsum(hx_lg[0])\n",
    "plt.xlabel('value')\n",
    "plt.ylabel('frequency')\n",
    "plt.bar(hx_lg[1][:-1],hx_lg_cdf.astype(float)/np.size(x_large),color = 'gray', width = .4, linewidth = 2)\n",
    "plt.bar(hx_sm[1][:-1],hx_sm_cdf.astype(float)/np.size(x_small),color = 'C3', width = .4, linewidth = 2,alpha=0.6)\n",
    "plt.show()"
   ]
  }
 ],
 "metadata": {
  "kernelspec": {
   "display_name": "Python 3",
   "language": "python",
   "name": "python3"
  },
  "language_info": {
   "codemirror_mode": {
    "name": "ipython",
    "version": 3
   },
   "file_extension": ".py",
   "mimetype": "text/x-python",
   "name": "python",
   "nbconvert_exporter": "python",
   "pygments_lexer": "ipython3",
   "version": "3.7.3"
  }
 },
 "nbformat": 4,
 "nbformat_minor": 4
}
