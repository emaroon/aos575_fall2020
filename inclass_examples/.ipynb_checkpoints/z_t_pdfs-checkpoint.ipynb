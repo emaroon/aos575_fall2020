{
 "cells": [
  {
   "cell_type": "markdown",
   "metadata": {},
   "source": [
    "#### AOS 575 - z_t_pdfs - Lecture 9/16/2020\n",
    "\n",
    "Originally coded by Prof. Barnes (CSU) <br>\n",
    "updated/adapted for Jupyter Notebook/Python3 by Prof. Kay (CU) ATOC 7500, Last updated: January 10, 2019 <br>\n",
    "updated for AOS 575 by Prof. Maroon (UWisc) <br>\n",
    "Last updated: 9/8/2020\n"
   ]
  },
  {
   "cell_type": "code",
   "execution_count": null,
   "metadata": {},
   "outputs": [],
   "source": [
    "#import packages\n",
    "import numpy as np\n",
    "import matplotlib.pyplot as plt\n",
    "from scipy import stats\n",
    "import seaborn as sns  #seaborn is a nice package for making plots more attractive"
   ]
  },
  {
   "cell_type": "code",
   "execution_count": null,
   "metadata": {},
   "outputs": [],
   "source": [
    "#%% plot Z versus t distributions\n",
    "df = 100  ## degrees of freedom\n",
    "x = np.arange(-6,6,.01)\n",
    "z = stats.norm.pdf(x,0,1)  #makes standard normal distribution (z)\n",
    "t = stats.t.pdf(x,df)      #makes t-distribution\n",
    "\n",
    "f=plt.figure(figsize=(20,6))\n",
    "plt.plot(x,z, color = 'black', label = 'Z');\n",
    "plt.plot(x,t,linestyle = '-', color = 'red', label = r\"t ($\\nu$ = \"+str(df)+')');\n",
    "\n",
    "plt.title('Z and Student-t probability density functions',fontsize=18)\n",
    "plt.ylabel('Probability of Occurrence: f(Z) or f(t)',fontsize=18)\n",
    "plt.legend(frameon = 0,fontsize=18)\n",
    "\n",
    "plt.xlim(-5,5);\n",
    "plt.ylim(0,.45);\n",
    "plt.yticks(np.arange(0,.5,.1));"
   ]
  },
  {
   "cell_type": "code",
   "execution_count": null,
   "metadata": {},
   "outputs": [],
   "source": [
    "# varying t-distribution by sample size N and comparing to z-statistic\n",
    "\n",
    "z = stats.norm.pdf(x,0,1)  #makes standard normal distribution (z)\n",
    "\n",
    "f=plt.figure(figsize=(20,6))\n",
    "plt.plot(x,z, color = 'black', label = 'Z');\n",
    "\n",
    "\n",
    "nrange=range(2,32,3)  #play around with nrange!\n",
    "cpal=sns.color_palette('hsv',len(nrange))\n",
    "\n",
    "for ii,nn in enumerate(nrange): #looping through a range of degrees of freedom; \n",
    "    #enumerate is a fancy way to loop through both ints and a list simultaneously\n",
    "    df=nn-1\n",
    "    t=stats.t.pdf(x,df)\n",
    "    plt.plot(x,t,linestyle = 'dashed',color=cpal[ii], label = r\"t ($\\nu$ = \"+str(df)+')',linewidth=2);\n",
    "\n",
    "plt.title('Z and Student-t probability density functions',fontsize=18)\n",
    "plt.ylabel('Probability of Occurrence: f(Z) or f(t)',fontsize=18)\n",
    "plt.legend(frameon = 0,fontsize=18)\n",
    "\n",
    "plt.xlim(-5,5);\n",
    "plt.ylim(0,.45);\n",
    "plt.yticks(np.arange(0,.5,.1));"
   ]
  }
 ],
 "metadata": {
  "kernelspec": {
   "display_name": "Python [conda env:aos575]",
   "language": "python",
   "name": "conda-env-aos575-py"
  },
  "language_info": {
   "codemirror_mode": {
    "name": "ipython",
    "version": 3
   },
   "file_extension": ".py",
   "mimetype": "text/x-python",
   "name": "python",
   "nbconvert_exporter": "python",
   "pygments_lexer": "ipython3",
   "version": "3.8.5"
  }
 },
 "nbformat": 4,
 "nbformat_minor": 4
}
