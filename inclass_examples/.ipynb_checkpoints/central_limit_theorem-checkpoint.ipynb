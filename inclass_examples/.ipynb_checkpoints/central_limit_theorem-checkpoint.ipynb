{
 "cells": [
  {
   "cell_type": "markdown",
   "metadata": {},
   "source": [
    "#### AOS 575 - PDFs - Lecture, 9/15/2020\n",
    "Originally coded by Prof. Barnes (CSU) <br>\n",
    "updated/adapted for Jupyter Notebook/Python3 by Prof. Kay (CU) for ATOC7500 - central_limit_theorem - Lecture #2, Last updated January 10, 2019<br>\n",
    "updated by Prof. Maroon (UWisc) for AOS 575. <br>\n",
    "Last updated: 9/8/2020"
   ]
  },
  {
   "cell_type": "code",
   "execution_count": null,
   "metadata": {},
   "outputs": [],
   "source": [
    "#import packages\n",
    "import numpy as np\n",
    "import matplotlib.pyplot as plt\n",
    "from scipy import stats  #importing the stats subpackage from scipy\n",
    "import pandas as pd  "
   ]
  },
  {
   "cell_type": "code",
   "execution_count": null,
   "metadata": {},
   "outputs": [],
   "source": [
    "### Plot Different Types of Distributions - Normal, Lognormal, Uniform\n",
    "N0 = 10000000  #Pick a very large number. What happens when you vary it? \n",
    "xinc = np.arange(-10,10,.01)\n",
    "Rblack = np.random.normal(0,1,size=(N0,))\n",
    "Rorange= np.random.lognormal(0.,2.,size=(N0,))\n",
    "Rblue = np.random.uniform(-5.,5.,size=(N0,))\n",
    "\n",
    "hx = np.histogram(Rblack,xinc)\n",
    "plt.plot(hx[1][:-1],hx[0]/float(N0),'-',color='k',label='normal')\n",
    "hx = np.histogram(Rorange,xinc)\n",
    "plt.plot(hx[1][:-1],hx[0]/float(N0),'-',color='C1',label='lognormal')   #looks like rainfall doesn't it?\n",
    "hx = np.histogram(Rblue,xinc)\n",
    "plt.plot(hx[1][:-1],hx[0]/float(N0),'-',color='C0',label='uniform') \n",
    "\n",
    "plt.legend(fontsize = 15)\n",
    "plt.ylabel('frequency')\n",
    "plt.xlim(-8,8)\n"
   ]
  },
  {
   "cell_type": "code",
   "execution_count": null,
   "metadata": {},
   "outputs": [],
   "source": [
    "### 1. Test Central Limit Theorem with a ***Normal Distribution***\n",
    "### Compare Monte Carlo selection of normal distribution (solid) with z-statistics calculation (dashed) for increasing N.\n",
    "### Distribution should narrow and approach 0 as N increases - Showing the central limit theorem.\n",
    "### In other words -- as the sample gets large enough you can use the normally distributed z-statistic to estimate\n",
    "### probabilities of getting that mean.\n",
    "bin_width = .05\n",
    "for N in (5, 25, 100):\n",
    "    y2 = []\n",
    "    if(N == 5):\n",
    "        clr = 'black'\n",
    "    elif(N==25):\n",
    "        clr = 'C1'\n",
    "    elif(N==100):\n",
    "        clr = 'C0'            \n",
    "    for i in np.arange(0,10000):    ### This is the Monte Carlo step\n",
    "        y2.append(np.mean(np.random.normal(loc = 0, scale = 1., size = N)))            \n",
    "    # calc histograms\n",
    "    bins = np.arange(-8,8,bin_width)\n",
    "    y2hist, x = np.histogram(y2,bins = bins)    \n",
    "    x = bins[0:-1]\n",
    "    plt.plot(x,y2hist/(float(len(y2))), color = clr, label = 'N = ' + str(N))\n",
    "    plt.plot(x,(bin_width)*stats.norm.pdf(x+bin_width/2, loc = 0, scale = 1./np.sqrt(N)), color = clr, linestyle = '--', linewidth = 1.75)\n",
    "    #the scale option scales the standard deviation from 1 (standard normal deviation) to a standard deviation of your choice\n",
    "    \n",
    "    \n",
    "plt.xticks(np.arange(-10,10,2))\n",
    "plt.xticks(np.arange(-2,2,.5))\n",
    "plt.xlim(-1.7,1.7)\n",
    "plt.xlabel(r'$\\overline{x}_N$')\n",
    "plt.ylabel('frequency')\n",
    "plt.legend(fontsize = 15)\n",
    "plt.title('Approaching Normal distribution of means sampling from Normal Distribution')\n",
    "plt.show()\n",
    "\n",
    "#Note how for normally distribute data, the means are also (dashed and solid lines are almost indistinguishable)"
   ]
  },
  {
   "cell_type": "code",
   "execution_count": null,
   "metadata": {},
   "outputs": [],
   "source": [
    "### 2. Test Central Limit Theorem with a ***LogNormal Distribution***\n",
    "### Plot Standard Log-Normal Distribution of Means for an increasing number of samples N\n",
    "### Compare monte carlo selection (solid) with z-statistics statistics calculation (dashed)\n",
    "bin_width = .05\n",
    "for N in (5, 25, 200):\n",
    "    y3 = []\n",
    "    if(N == 5):\n",
    "        clr = 'black'\n",
    "    elif(N==25):\n",
    "        clr = 'C1'\n",
    "    elif(N==200):\n",
    "        clr = 'C0'            \n",
    "    for i in np.arange(0,10000):    \n",
    "        y3.append(np.mean(np.random.lognormal(mean = 0, sigma = 1, size = N)))          \n",
    "    # calc histograms\n",
    "    bins = np.arange(-8,8,bin_width)\n",
    "    y3hist, x = np.histogram(y3,bins = bins)    \n",
    "    x = bins[0:-1]\n",
    "    plt.plot(x,y3hist/(float(len(y2))), color = clr, label = 'N = ' + str(N))\n",
    "    sigma_y3 = np.std(np.random.lognormal(mean = 0, sigma = 1, size = N))\n",
    "    plt.plot(x,(bin_width)*stats.norm.pdf(x+bin_width/2, loc = np.mean(y3), scale = sigma_y3/np.sqrt(N)), color = clr, linestyle = '--', linewidth = 1.75)\n",
    "\n",
    "plt.xticks(np.arange(-10,10,2))\n",
    "plt.xticks(np.arange(-2,5,.5))\n",
    "plt.xlim(-1.7,5)\n",
    "plt.ylim(0,0.2)\n",
    "plt.xlabel(r'$\\overline{x}_N$')\n",
    "plt.ylabel('frequency')\n",
    "plt.legend(fontsize = 15)\n",
    "plt.title('Approaching Normal distribution of means sampling from LogNormal Distribution')\n",
    "plt.show()\n",
    "\n",
    "#For lognormal distribution, for small sample size, the distribution of means deviates from the normal distribution,\n",
    "#But once you have sufficient sample (represented here by N=200), the distribution of means is close enough to normal."
   ]
  },
  {
   "cell_type": "code",
   "execution_count": null,
   "metadata": {},
   "outputs": [],
   "source": [
    "### 3. Test Central Limit Theorem with a ***Uniform Distribution***\n",
    "### Plot Standard Uniform Distribution of Means for an increasing number of samples N\n",
    "### Compare monte carlo selection (solid) with z-statistics statistics calculation (dashed)\n",
    "bin_width = .05\n",
    "for N in (5, 25, 200):\n",
    "    y4 = []\n",
    "    if(N == 5):\n",
    "        clr = 'black'\n",
    "    elif(N==25):\n",
    "        clr = 'C1'\n",
    "    elif(N==200):\n",
    "        clr = 'C0'            \n",
    "    for i in np.arange(0,10000):    \n",
    "        y4.append(np.mean(np.random.uniform(-5.,5.,size=(N,))))            \n",
    "    # calc histograms\n",
    "    bins = np.arange(-8,8,bin_width)\n",
    "    y4hist, x = np.histogram(y4,bins = bins)    \n",
    "    x = bins[0:-1]\n",
    "    plt.plot(x,y4hist/(float(len(y4))), color = clr, label = 'N = ' + str(N))\n",
    "    sigma_y4 = np.std(np.random.uniform(-5.,5.,size=(N,)))\n",
    "    plt.plot(x,(bin_width)*stats.norm.pdf(x+bin_width/2, loc = 0, scale = sigma_y4/np.sqrt(N)), color = clr, linestyle = '--', linewidth = 1.75)\n",
    "    #the scale option scales the standard deviation from 1 (standard normal deviation) to a standard deviation of your choice\n",
    "    \n",
    "    \n",
    "plt.xticks(np.arange(-10,10,2))\n",
    "plt.xticks(np.arange(-2,2,.5))\n",
    "plt.xlim(-1.7,1.7)\n",
    "plt.xlabel(r'$\\overline{x}_N$')\n",
    "plt.ylabel('frequency')\n",
    "plt.legend(fontsize = 15)\n",
    "plt.title('Approaching Normal distribution of means sampling from Uniform Distribution')\n",
    "plt.show()\n"
   ]
  },
  {
   "cell_type": "markdown",
   "metadata": {},
   "source": [
    "<b>The Central Limit Theorem is powerful: Regardless of an underlying distribution, the distribution of means (given large enough sample size) is NORMAL! This means that we can do statistical tests on the means using normal distributions!</b>"
   ]
  },
  {
   "cell_type": "code",
   "execution_count": null,
   "metadata": {},
   "outputs": [],
   "source": []
  },
  {
   "cell_type": "code",
   "execution_count": null,
   "metadata": {},
   "outputs": [],
   "source": []
  }
 ],
 "metadata": {
  "kernelspec": {
   "display_name": "Python 3",
   "language": "python",
   "name": "python3"
  },
  "language_info": {
   "codemirror_mode": {
    "name": "ipython",
    "version": 3
   },
   "file_extension": ".py",
   "mimetype": "text/x-python",
   "name": "python",
   "nbconvert_exporter": "python",
   "pygments_lexer": "ipython3",
   "version": "3.7.3"
  }
 },
 "nbformat": 4,
 "nbformat_minor": 4
}
