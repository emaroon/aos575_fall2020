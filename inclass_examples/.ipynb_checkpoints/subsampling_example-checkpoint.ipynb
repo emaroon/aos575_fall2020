{
 "cells": [
  {
   "cell_type": "markdown",
   "metadata": {},
   "source": [
    "#### AOS 575 - subsampling - Lecture, 9/16/2020\n",
    "Originally coded by Prof. Barnes (CSU), <br>\n",
    "updated/adapted for Jupyter Notebook/Python3 by Prof. Kay (CU), Last updated: January 10, 2019 <br>\n",
    "updated for AOS 575 by Prof. Maroon (UWisc)<br>\n",
    "Last updated: September 11, 2020"
   ]
  },
  {
   "cell_type": "code",
   "execution_count": null,
   "metadata": {},
   "outputs": [],
   "source": [
    "#import packages\n",
    "import numpy as np\n",
    "import matplotlib.pyplot as plt\n",
    "from scipy import stats\n",
    "import scipy.io as sio\n",
    "import pandas as pd"
   ]
  },
  {
   "cell_type": "code",
   "execution_count": null,
   "metadata": {},
   "outputs": [],
   "source": [
    "### Load data (provides an example of loading data from matlab)\n",
    "#Note that we're not using xarray here, instead using scipy's input/output (IO) functionality\n",
    "DATA = sio.loadmat('subsampling_example_Z500_August.mat') \n",
    "X = DATA['X'][:,0]        #the zero selects one specific location in the dataset\n",
    "LAT = DATA['LAT'][0][0]\n",
    "LONG = DATA['LONG'][0][0]\n",
    "\n",
    "print('The shape of our data is:',np.shape(X))"
   ]
  },
  {
   "cell_type": "code",
   "execution_count": null,
   "metadata": {},
   "outputs": [],
   "source": [
    "## Randomly grab 20 days and take the mean \n",
    "## Do it 2500 times to build up a distribution of sample means\n",
    "sample_length = 20\n",
    "P = np.empty(2500)\n",
    "for j, val in enumerate(P):\n",
    "    ir = stats.randint.rvs(0,len(X)-1,size = sample_length)  #randomly selects N integers as indices to then use as the random sample\n",
    "    P[j] = np.nanmean(X[ir])                                 #takes the means of the dataset at the randomly drawn 20 indices"
   ]
  },
  {
   "cell_type": "code",
   "execution_count": null,
   "metadata": {},
   "outputs": [],
   "source": [
    "### Plot the distribution of X\n",
    "h, bins = np.histogram(X,20)\n",
    "plt.plot(bins[:-1],h)\n",
    "\n",
    "plt.xlabel('geopotential height (m)')\n",
    "plt.ylabel('frequency')\n",
    "plt.plot([np.mean(X), np.mean(X)],[0., 150],'--', color = 'black')\n",
    "plt.title('August Z500 at ' + str(np.round(LAT)) + '$^o$N, ' + str(round(LONG)) + '$^o$E')\n",
    "Z = (X-np.mean(X))/np.std(X)\n",
    "plt.text(5725, 140, 'skewness = ' + str(round(stats.skew(Z[:]), 2))) \n",
    "plt.xlim(5700, 6000)"
   ]
  },
  {
   "cell_type": "code",
   "execution_count": null,
   "metadata": {},
   "outputs": [],
   "source": [
    "#Plot the distribution of the randomly drawn N-length sample means\n",
    "\n",
    "f=plt.figure(figsize=(12,8))\n",
    "\n",
    "mp = 0.\n",
    "h, bins = np.histogram(P-mp,20)\n",
    "plt.plot(bins[:-1],h, color = 'C0', label = 'means')\n",
    "plt.plot((np.mean(X), np.mean(X)),(0., 400),'--', color = 'grey', label = 'mean of sample means');\n",
    " \n",
    "#uses bootstrapping to find the actual 95% bounds in the samples\n",
    "a1 = np.percentile(P-mp,2.5)      #the 2.5th percentile\n",
    "a2 = np.percentile(P-mp,100.-2.5) #the 97.25th percentile -- 95% fall betweens!\n",
    "\n",
    "plt.plot((a1,a1),(0,400),'--',color = 'C1', linewidth = 2, label = '95% confidence bounds')\n",
    "plt.plot((a2,a2),(0,400),'--',color = 'C1', linewidth = 2)\n",
    "\n",
    "#Assumes the distribution is normal and uses the t-statistic to estimate the 95% confidence\n",
    "t_inc = (stats.t.ppf(0.975, sample_length - 1))*np.std(X)/np.sqrt(sample_length-1)\n",
    "\n",
    "\n",
    "plt.plot(np.ones((2,))*(np.mean(X)-t_inc), (0,400), '--',color = 'black', label = 'critical t')\n",
    "plt.plot(np.ones((2,))*(np.mean(X)+t_inc), (0,400), '--',color = 'black')\n",
    "\n",
    "plt.legend(fontsize = 10)\n",
    "plt.xlabel('geopotential height (m)')\n",
    "plt.ylabel('frequency')\n",
    "plt.title('distribution of random sample means of ' + str(sample_length) + ' days length')\n",
    "plt.xlim(5800, 5900)"
   ]
  },
  {
   "cell_type": "code",
   "execution_count": null,
   "metadata": {},
   "outputs": [],
   "source": [
    "### Check if your results are significant at the 95% confidence level\n",
    "### In other words - is your average geopotential height when you have aerosol\n",
    "### formation outside of 95% confidence interval?\n",
    "### You should find that it is, enabling you to reject the null hypothesis.\n",
    "### Null Hypothesis = your sample mean is not diferent than the population mean.\n",
    "print('min 95% confidence interval - geopotential height (m):',round(np.mean(X)-t_inc,0))\n",
    "print('max 95% confidence interval - geopotential height (m):',round(np.mean(X)+t_inc,0))\n",
    "print('value we are testing - geopotential height (m)',5900)"
   ]
  },
  {
   "cell_type": "code",
   "execution_count": null,
   "metadata": {},
   "outputs": [],
   "source": []
  },
  {
   "cell_type": "code",
   "execution_count": null,
   "metadata": {},
   "outputs": [],
   "source": []
  },
  {
   "cell_type": "code",
   "execution_count": null,
   "metadata": {},
   "outputs": [],
   "source": []
  }
 ],
 "metadata": {
  "kernelspec": {
   "display_name": "Python 3",
   "language": "python",
   "name": "python3"
  },
  "language_info": {
   "codemirror_mode": {
    "name": "ipython",
    "version": 3
   },
   "file_extension": ".py",
   "mimetype": "text/x-python",
   "name": "python",
   "nbconvert_exporter": "python",
   "pygments_lexer": "ipython3",
   "version": "3.7.3"
  }
 },
 "nbformat": 4,
 "nbformat_minor": 4
}
