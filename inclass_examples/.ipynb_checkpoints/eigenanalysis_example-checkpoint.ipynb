{
 "cells": [
  {
   "cell_type": "markdown",
   "metadata": {},
   "source": [
    "#### AOS 575 - 2d Eigenanalysis example - Lecture 10/8/2020\n",
    "coded by Vineel Yettella (University of Colorado), Last updated February 15, 2019 <br>\n",
    "Updated for AOS 575 by Prof. Maroon (UWisc) <br>\n",
    "Last updated 10/6/2020"
   ]
  },
  {
   "cell_type": "code",
   "execution_count": 2,
   "metadata": {},
   "outputs": [],
   "source": [
    "#import packages\n",
    "import numpy as np\n",
    "import matplotlib.pyplot as plt\n",
    "import pandas as pd\n",
    "import numpy.linalg as LA"
   ]
  },
  {
   "cell_type": "markdown",
   "metadata": {},
   "source": [
    "#### 1) Create a synthetic 2d dataset, plot it, and print some summary statistics."
   ]
  },
  {
   "cell_type": "code",
   "execution_count": 5,
   "metadata": {},
   "outputs": [],
   "source": [
    "## Create the synthetic 2d dataset\n",
    "#Choose the number of samples M\n",
    "M = 50\n",
    "\n",
    "variance_x1 = 4\n",
    "variance_x2 = 1\n",
    "mean_x1 = 3\n",
    "mean_x2 = 10\n",
    "\n",
    "#specified correlation between -1 and 1 to construct a valid covariance matrix\n",
    "rho12 = 0.8"
   ]
  },
  {
   "cell_type": "code",
   "execution_count": 8,
   "metadata": {},
   "outputs": [
    {
     "name": "stdout",
     "output_type": "stream",
     "text": [
      "[[4.  1.6]\n",
      " [1.6 1. ]]\n"
     ]
    }
   ],
   "source": [
    "#create the population covariance matrix\n",
    "covariance_matrix = [[variance_x1, rho12*np.sqrt(variance_x1*variance_x2)], [rho12*np.sqrt(variance_x1*variance_x2), variance_x2]]\n",
    "covariance_matrix = np.around(covariance_matrix, decimals=3)\n",
    "\n",
    "means = [mean_x1, mean_x2]\n",
    "means = np.around(means, decimals=3)\n",
    "\n",
    "#show the covraince matrix\n",
    "print(covariance_matrix)\n",
    "\n",
    "\n"
   ]
  },
  {
   "cell_type": "code",
   "execution_count": 10,
   "metadata": {},
   "outputs": [
    {
     "name": "stdout",
     "output_type": "stream",
     "text": [
      "x1:\n",
      "[2.06053177 6.24186531 5.40004849 0.19704575 2.92678325]\n",
      "\n",
      "\n",
      "x2:\n",
      "[ 9.36125781 11.25855003 10.76860864  9.07010271 10.37598963]\n",
      "\n",
      "\n",
      "Sample mean of x1: 3.165265614264383\n",
      "Sample mean of x2: 9.945115600609203\n",
      "Sample variance of x1: 3.8096921809263615\n",
      "Sample variance of x2: 0.6716588016790065\n",
      "Total variance in the data: 4.481350982605368\n"
     ]
    },
    {
     "data": {
      "image/png": "[encoded data removed]",
      "text/plain": [
       "<Figure size 432x288 with 1 Axes>"
      ]
     },
     "metadata": {
      "needs_background": "light"
     },
     "output_type": "display_data"
    }
   ],
   "source": [
    "#simulate\n",
    "x1, x2 = np.random.multivariate_normal(means, covariance_matrix, M).T    \n",
    "#the above numpy function creates 2 random normal samples of length M that have the covariance properties in the supplied covariance matrix\n",
    "\n",
    "#print a few values\n",
    "print ('x1:')\n",
    "print(x1[0:5])\n",
    "print('\\n')\n",
    "print('x2:')\n",
    "print(x2[0:5])\n",
    "\n",
    "#print some summary statistics\n",
    "print('\\n')\n",
    "print(\"Sample mean of x1: {}\".format(np.mean(x1)))\n",
    "print(\"Sample mean of x2: {}\".format(np.mean(x2)))\n",
    "print(\"Sample variance of x1: {}\".format(np.var(x1)))\n",
    "print(\"Sample variance of x2: {}\".format(np.var(x2)))\n",
    "print(\"Total variance in the data: {}\".format(np.var(x1) + np.var(x2)))\n",
    "#THese numbers should be similar to the statistics we set above, but not quite the same because our samples are small\n",
    "\n",
    "#plot x1, x2\n",
    "plt.scatter(x1, x2, s=75, color = 'black')\n",
    "plt.axis('equal')\n",
    "plt.xlabel('x1')\n",
    "plt.ylabel('x2')\n",
    "plt.grid(alpha = 0.4)\n",
    "plt.rcParams['axes.labelsize']=15\n"
   ]
  },
  {
   "cell_type": "markdown",
   "metadata": {},
   "source": [
    "### 2) Calculate the eigenvectors and eigenvalues of the synthetic 2d dataset."
   ]
  },
  {
   "cell_type": "code",
   "execution_count": 11,
   "metadata": {},
   "outputs": [
    {
     "name": "stdout",
     "output_type": "stream",
     "text": [
      "Data matrix X shape:\n",
      "(50, 2)\n"
     ]
    }
   ],
   "source": [
    "##Do the eigenanalysis; a few data cleanup and construction steps first.\n",
    "\n",
    "#construct data matrix X, convention: variables across columns and observations across rows\n",
    "X = np.array([x1, x2]).T\n",
    "print('Data matrix X shape:')\n",
    "print(X.shape)\n",
    "\n",
    "#remove mean from each column\n",
    "X = X - np.mean(X, axis = 0)\n",
    "\n",
    "#construct sample covariance matrix C\n",
    "C  = (1/(M - 1))*np.dot(X.T, X)\n",
    "#Alternatively, you could use numpy's cov function\n",
    "\n"
   ]
  },
  {
   "cell_type": "code",
   "execution_count": 14,
   "metadata": {},
   "outputs": [
    {
     "name": "stdout",
     "output_type": "stream",
     "text": [
      "\n",
      "\n",
      "eigenvalues:\n",
      "[4.34166064 0.23114649]\n",
      "\n",
      "\n",
      "eigenvectors:\n",
      "[[ 0.94313207 -0.33241827]\n",
      " [ 0.33241827  0.94313207]]\n",
      "\n",
      "\n",
      "Sum of eigenvalues:\n",
      "4.572807125107518\n",
      "Total variance in the data\n",
      "4.572807125107518\n"
     ]
    }
   ],
   "source": [
    "#compute eigenvectors and eigenvalues\n",
    "eigenvals, eigenvecs = LA.eig(C)    #function that does the eigenanalysis of matrix C\n",
    "\n",
    "#sort eigen values in descending order\n",
    "inds = np.argsort(eigenvals)\n",
    "eigenvals = eigenvals[inds[::-1]]\n",
    "#sort eigen vectors accordingly\n",
    "eigenvecs = eigenvecs[:, inds[::-1]]\n",
    "\n",
    "print('\\n')\n",
    "print('eigenvalues:')\n",
    "print(eigenvals)\n",
    "print('\\n')\n",
    "print('eigenvectors:')\n",
    "print(eigenvecs)\n",
    "\n",
    "print('\\n')\n",
    "print('Sum of eigenvalues:')\n",
    "print(np.sum(eigenvals))\n",
    "\n",
    "print('Total variance in the data')\n",
    "print(np.sum(np.diag(C)))"
   ]
  },
  {
   "cell_type": "markdown",
   "metadata": {},
   "source": [
    "### 3) Plot the eigenvectors to show how they capture the orthogonal directions along which most of the variability in the dataset is explained."
   ]
  },
  {
   "cell_type": "code",
   "execution_count": 17,
   "metadata": {},
   "outputs": [
    {
     "data": {
      "image/png": "[encoded data removed]",
      "text/plain": [
       "<Figure size 432x288 with 1 Axes>"
      ]
     },
     "metadata": {
      "needs_background": "light"
     },
     "output_type": "display_data"
    }
   ],
   "source": [
    "#plot eigen vectors\n",
    "fig, ax = plt.subplots()\n",
    "plt.scatter(x1, x2, s=100, color = 'black')\n",
    "plt.axis('equal')\n",
    "plt.xlabel('x1')\n",
    "plt.ylabel('x2')\n",
    "plt.grid(alpha = 0.4)\n",
    "ylim = plt.ylim()\n",
    "xlim = plt.xlim()\n",
    "#plot eigen vector 1\n",
    "plt.plot([-100*eigenvecs[0,0] + np.mean(x1), 100*eigenvecs[0,0] + np.mean(x1)],\n",
    "         [-100*eigenvecs[1,0] + np.mean(x2), 100*eigenvecs[1,0] + np.mean(x2)], \n",
    "         linestyle = '--',color = 'C1', label = 'eigenvector 1')\n",
    "#plot eigen vector 2\n",
    "plt.plot([-100*eigenvecs[0,1] + np.mean(x1), 100*eigenvecs[0,1] + np.mean(x1)],\n",
    "         [-100*eigenvecs[1,1] + np.mean(x2), 100*eigenvecs[1,1] + np.mean(x2)], \n",
    "         linestyle = '--',color = 'C0', label = 'eigenvector 2')\n",
    "plt.ylim(ylim);\n",
    "plt.xlim(xlim);\n",
    "plt.legend(fontsize = 13);"
   ]
  },
  {
   "cell_type": "code",
   "execution_count": null,
   "metadata": {},
   "outputs": [],
   "source": []
  },
  {
   "cell_type": "code",
   "execution_count": null,
   "metadata": {},
   "outputs": [],
   "source": []
  }
 ],
 "metadata": {
  "kernelspec": {
   "display_name": "Python 3",
   "language": "python",
   "name": "python3"
  },
  "language_info": {
   "codemirror_mode": {
    "name": "ipython",
    "version": 3
   },
   "file_extension": ".py",
   "mimetype": "text/x-python",
   "name": "python",
   "nbconvert_exporter": "python",
   "pygments_lexer": "ipython3",
   "version": "3.7.3"
  }
 },
 "nbformat": 4,
 "nbformat_minor": 4
}
