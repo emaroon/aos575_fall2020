{
 "cells": [
  {
   "cell_type": "markdown",
   "metadata": {},
   "source": [
    "#### AOS 575 - jackknife example - Lecture, 9/16/2020\n",
    "Originally coded by Prof. Barnes (CSU), <br>\n",
    "updated/adapted for Jupyter Notebook/Python3 by Prof. Kay (CU), Last updated: January 10, 2019 <br>\n",
    "updated for AOS 575 by Prof. Maroon <br>\n",
    "Last updated 9/11/2020"
   ]
  },
  {
   "cell_type": "code",
   "execution_count": null,
   "metadata": {},
   "outputs": [],
   "source": [
    "#import packages\n",
    "import numpy as np\n",
    "import matplotlib.pyplot as plt\n",
    "import scipy.io as sio\n",
    "import seaborn as sns"
   ]
  },
  {
   "cell_type": "code",
   "execution_count": null,
   "metadata": {},
   "outputs": [],
   "source": [
    "#load data\n",
    "DATA = sio.loadmat('nao_timeseries.mat')         #loading in NAO index from a Matlab file\n",
    "X = DATA['NAO'][:,0] # grab January data only\n",
    "TIME_NAO = DATA['TIME_NAO'][:,0]\n",
    "\n",
    "#%% plot data\n",
    "plt.plot(TIME_NAO,X,color = 'black', linewidth = 1.5)\n",
    "pfull = np.polyfit(TIME_NAO,X,1)                                #calculating linear trend\n",
    "plt.plot(TIME_NAO,TIME_NAO*pfull[0]+pfull[1],'--',color = 'black', linewidth = 1.5)\n",
    "plt.xlabel('year');\n",
    "plt.ylabel('NAO index');\n",
    "plt.title('Estimation of NAO trend using all points');\n",
    "plt.ylim(-2.4,2.4);\n",
    "plt.xlim(min(TIME_NAO), max(TIME_NAO));"
   ]
  },
  {
   "cell_type": "code",
   "execution_count": null,
   "metadata": {},
   "outputs": [],
   "source": [
    "cpal=sns.color_palette('hsv',len(X))\n",
    "\n",
    "M = np.empty([len(X),2])\n",
    "\n",
    "for j, val in enumerate(X):     #loop through all possible values\n",
    "    X2 = X                      #reset our subsampled X2 to original X\n",
    "    X2 = np.delete(X2,j)        #get rid of time at chosen index\n",
    "    T2 = TIME_NAO               #reset our subsampled NAO to original NAO\n",
    "    T2 = np.delete(T2,j)        #get rid of NAO at chosen index\n",
    "    pfull = np.polyfit(T2,X2,1) #fit linear trend\n",
    "    \n",
    "    M[j,0] = pfull[0]\n",
    "    M[j,1] = pfull[1]\n",
    "    \n",
    "    plt.plot(TIME_NAO[j],val,'.',color = 'black', markersize = 15)\n",
    "    plt.plot(T2,T2*pfull[0] + pfull[1],'--', color = cpal[j])"
   ]
  },
  {
   "cell_type": "code",
   "execution_count": null,
   "metadata": {},
   "outputs": [],
   "source": [
    "xint = np.arange(.01,.02,.00025)\n",
    "y, bin_edges = np.histogram(M,xint)\n",
    "plt.plot(bin_edges[:-1],y/float(len(M)))\n",
    "plt.xlabel('slope')\n",
    "plt.ylabel('frequency')\n",
    "plt.title('Distribution of NAO slopes from jackknife')\n",
    "plt.show()\n",
    "\n",
    "xint = np.arange(-36.,-22.,.5)\n",
    "y, bin_edges = np.histogram(M,xint)\n",
    "plt.plot(bin_edges[:-1],y/float(len(M)))\n",
    "plt.xlabel('y-intercept')\n",
    "plt.ylabel('frequency')\n",
    "plt.title('Distribution of NAO slopes from jackknife')\n",
    "plt.show()"
   ]
  }
 ],
 "metadata": {
  "kernelspec": {
   "display_name": "Python 3",
   "language": "python",
   "name": "python3"
  },
  "language_info": {
   "codemirror_mode": {
    "name": "ipython",
    "version": 3
   },
   "file_extension": ".py",
   "mimetype": "text/x-python",
   "name": "python",
   "nbconvert_exporter": "python",
   "pygments_lexer": "ipython3",
   "version": "3.7.3"
  }
 },
 "nbformat": 4,
 "nbformat_minor": 4
}
