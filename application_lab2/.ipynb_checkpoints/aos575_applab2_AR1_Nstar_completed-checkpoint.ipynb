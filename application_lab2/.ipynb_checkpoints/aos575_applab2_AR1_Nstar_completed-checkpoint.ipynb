{
 "cells": [
  {
   "cell_type": "markdown",
   "metadata": {},
   "source": [
    "### AOS 575 Application Lab 2 - aos575_applab2_AR1_NSTAR.ipynb\n",
    "Written by Jennifer Kay (CU), Elizabeth Maroon (CU), and Hannah Zanowski (CU), last updated Sept 23, 2020 <br>\n",
    "Updated for AOS 575 by Elizabeth Maroon (UW); switched to truax dataset, Sept 29, 2020 <br>"
   ]
  },
  {
   "cell_type": "markdown",
   "metadata": {},
   "source": [
    "#### Learning Goals\n",
    "1) Calculate the autocorrelation at a range of lags using two methods available in python (np.correlate, dot products) <br>\n",
    "2) Estimate the effective sample size ($N^{*}$) using the lag-1 autocorrelation <br>\n",
    "3) Evaluate the influence of changing the sampling frequency on the autocorrelation and on ($N^{*}$). <br>\n"
   ]
  },
  {
   "cell_type": "markdown",
   "metadata": {},
   "source": [
    "#### Data and Underlying Science: \n",
    "\n",
    "Here, you will analyze memory in the 2019 weather observations from Truax Field (Madison's airport). These observations were sampled hourly. The notebook is initially set up to subsample daily (at midnight) and to analyze air temperature, but can be edited to examine other variables in the truax_2019.csv dataset. "
   ]
  },
  {
   "cell_type": "markdown",
   "metadata": {},
   "source": [
    "Import packages to be used here:"
   ]
  },
  {
   "cell_type": "code",
   "execution_count": 77,
   "metadata": {},
   "outputs": [],
   "source": [
    "import numpy as np\n",
    "import matplotlib\n",
    "import matplotlib.pyplot as plt\n",
    "import pandas as pd   ##pandas reads in .csv.\n",
    "from scipy import stats\n",
    "import seaborn as sns  ### seaborn just makes things pretty -- no new typing\n",
    "sns.set_style('whitegrid')  ###  change away from grey grid (seaborn default) to white grid"
   ]
  },
  {
   "cell_type": "markdown",
   "metadata": {},
   "source": [
    "Read in the data:"
   ]
  },
  {
   "cell_type": "code",
   "execution_count": 78,
   "metadata": {},
   "outputs": [
    {
     "data": {
      "text/html": [
       "<div>\n",
       "<style scoped>\n",
       "    .dataframe tbody tr th:only-of-type {\n",
       "        vertical-align: middle;\n",
       "    }\n",
       "\n",
       "    .dataframe tbody tr th {\n",
       "        vertical-align: top;\n",
       "    }\n",
       "\n",
       "    .dataframe thead th {\n",
       "        text-align: right;\n",
       "    }\n",
       "</style>\n",
       "<table border=\"1\" class=\"dataframe\">\n",
       "  <thead>\n",
       "    <tr style=\"text-align: right;\">\n",
       "      <th></th>\n",
       "      <th>year</th>\n",
       "      <th>month</th>\n",
       "      <th>day</th>\n",
       "      <th>hour</th>\n",
       "      <th>airtemp_degc</th>\n",
       "      <th>dewpoint_degc</th>\n",
       "      <th>slp_hpa</th>\n",
       "      <th>winddir_degrees</th>\n",
       "      <th>windspeed_ms</th>\n",
       "      <th>skycond_oktas</th>\n",
       "      <th>liqprec_mm</th>\n",
       "    </tr>\n",
       "  </thead>\n",
       "  <tbody>\n",
       "    <tr>\n",
       "      <th>0</th>\n",
       "      <td>2019</td>\n",
       "      <td>1</td>\n",
       "      <td>1</td>\n",
       "      <td>0</td>\n",
       "      <td>-0.6</td>\n",
       "      <td>-1.1</td>\n",
       "      <td>1007.0</td>\n",
       "      <td>350.0</td>\n",
       "      <td>6.2</td>\n",
       "      <td>8.0</td>\n",
       "      <td>NaN</td>\n",
       "    </tr>\n",
       "    <tr>\n",
       "      <th>1</th>\n",
       "      <td>2019</td>\n",
       "      <td>1</td>\n",
       "      <td>1</td>\n",
       "      <td>1</td>\n",
       "      <td>-1.1</td>\n",
       "      <td>-1.7</td>\n",
       "      <td>1008.4</td>\n",
       "      <td>340.0</td>\n",
       "      <td>4.1</td>\n",
       "      <td>NaN</td>\n",
       "      <td>0.3</td>\n",
       "    </tr>\n",
       "    <tr>\n",
       "      <th>2</th>\n",
       "      <td>2019</td>\n",
       "      <td>1</td>\n",
       "      <td>1</td>\n",
       "      <td>2</td>\n",
       "      <td>-1.1</td>\n",
       "      <td>-2.2</td>\n",
       "      <td>1009.6</td>\n",
       "      <td>350.0</td>\n",
       "      <td>5.1</td>\n",
       "      <td>NaN</td>\n",
       "      <td>0.5</td>\n",
       "    </tr>\n",
       "    <tr>\n",
       "      <th>3</th>\n",
       "      <td>2019</td>\n",
       "      <td>1</td>\n",
       "      <td>1</td>\n",
       "      <td>3</td>\n",
       "      <td>-1.1</td>\n",
       "      <td>-2.2</td>\n",
       "      <td>1011.4</td>\n",
       "      <td>340.0</td>\n",
       "      <td>4.1</td>\n",
       "      <td>NaN</td>\n",
       "      <td>0.5</td>\n",
       "    </tr>\n",
       "    <tr>\n",
       "      <th>4</th>\n",
       "      <td>2019</td>\n",
       "      <td>1</td>\n",
       "      <td>1</td>\n",
       "      <td>4</td>\n",
       "      <td>-1.1</td>\n",
       "      <td>-2.2</td>\n",
       "      <td>1013.4</td>\n",
       "      <td>340.0</td>\n",
       "      <td>4.1</td>\n",
       "      <td>NaN</td>\n",
       "      <td>-0.1</td>\n",
       "    </tr>\n",
       "  </tbody>\n",
       "</table>\n",
       "</div>"
      ],
      "text/plain": [
       "   year  month  day  hour  airtemp_degc  dewpoint_degc  slp_hpa  \\\n",
       "0  2019      1    1     0          -0.6           -1.1   1007.0   \n",
       "1  2019      1    1     1          -1.1           -1.7   1008.4   \n",
       "2  2019      1    1     2          -1.1           -2.2   1009.6   \n",
       "3  2019      1    1     3          -1.1           -2.2   1011.4   \n",
       "4  2019      1    1     4          -1.1           -2.2   1013.4   \n",
       "\n",
       "   winddir_degrees  windspeed_ms  skycond_oktas  liqprec_mm  \n",
       "0            350.0           6.2            8.0         NaN  \n",
       "1            340.0           4.1            NaN         0.3  \n",
       "2            350.0           5.1            NaN         0.5  \n",
       "3            340.0           4.1            NaN         0.5  \n",
       "4            340.0           4.1            NaN        -0.1  "
      ]
     },
     "execution_count": 78,
     "metadata": {},
     "output_type": "execute_result"
    }
   ],
   "source": [
    "filename = 'truax_2019.csv'\n",
    "data=pd.read_csv(filename,sep=',')\n",
    "data.head()"
   ]
  },
  {
   "cell_type": "markdown",
   "metadata": {},
   "source": [
    "#### Plot your initial data\n",
    "\n",
    "Plot midnight temperature data for Madison, Wisconsin"
   ]
  },
  {
   "cell_type": "code",
   "execution_count": 79,
   "metadata": {},
   "outputs": [
    {
     "name": "stdout",
     "output_type": "stream",
     "text": [
      "minimum data value:  -26.7\n",
      "maximum data value:  32.2\n"
     ]
    },
    {
     "data": {
      "image/png": "[encoded data removed]",
      "text/plain": [
       "<Figure size 720x432 with 1 Axes>"
      ]
     },
     "metadata": {},
     "output_type": "display_data"
    }
   ],
   "source": [
    "samplingrate=24\n",
    "\n",
    "X=data['airtemp_degc']\n",
    "X_daily=X[0::samplingrate] ## sample the hourly data every 24 hours; the 0 indicates the midnight entry\n",
    "print('minimum data value: ',X_daily.min())\n",
    "print('maximum data value: ',X_daily.max())\n",
    "\n",
    "#Quick and dirty replacing of NaNs with climatology\n",
    "X_daily[np.isnan(X_daily)]=np.nanmean(X_daily)\n",
    "\n",
    "xindex = (np.arange(0,np.size(X),1))/24\n",
    "xindex_daily=xindex[0::samplingrate] ## sample the index every 24 hours\n",
    "\n",
    "#make plot\n",
    "f=plt.figure(figsize=(10,6))\n",
    "plt.plot(xindex_daily, X_daily, linewidth = 0.75)\n",
    "v = np.std(X_daily)\n",
    "plt.text(0.95, 0.925,'$\\sigma = $' + str(np.round(v)) + '$^{\\circ}$C', ha='right', transform=plt.gca().transAxes, color = 'k')\n",
    "ymin, ymax = plt.ylim();\n",
    "xmin, xmax = plt.xlim();\n",
    "lines = plt.plot((xmin, xmax),(0, 0),(0, 0),(ymin, ymax));\n",
    "plt.setp(lines,color='black', linewidth=1);\n",
    "plt.ylim((ymin, ymax));\n",
    "plt.xlim((xmin, xmax));\n",
    "plt.ylabel('Temperature (deg. C)');\n",
    "plt.xlabel('Day');\n",
    "plt.title('Hourly midnight temperature - Madison, Wisconsin');"
   ]
  },
  {
   "cell_type": "markdown",
   "metadata": {},
   "source": [
    "#### 1. Find the lag-one autocorrelation (AR1). \n",
    "\n",
    "We are going to use two different methods, np.correlate() and using np.dot (dot products). Equation numbers are provided to compare to the Barnes notes. "
   ]
  },
  {
   "cell_type": "code",
   "execution_count": 80,
   "metadata": {},
   "outputs": [],
   "source": [
    "tseries=X_daily\n",
    "sigma=np.std(tseries)  ## calculate the standard deviation\n",
    "mean=np.mean(tseries)  ## calculate the mean\n",
    "n=len(tseries)         ## calculate the length of the timeseries\n",
    "lag=1                  ## warning: you cannot change this to be a negative lag. \n",
    "                       ## this cell does not work for negative lags - Can you see why?\n",
    "\n",
    "## remove the mean\n",
    "tseries1=tseries-mean\n",
    "\n",
    "##Create two timeseries of the data at t=t1 and t=t2\n",
    "t1_m=tseries1[0:-1*lag]  \n",
    "t2_m=tseries1[lag:]\n",
    "#print(t1_m.shape)\n",
    "#print(t2_m.shape)\n",
    "\n"
   ]
  },
  {
   "cell_type": "markdown",
   "metadata": {},
   "source": [
    "Method 1: np.correlate()"
   ]
  },
  {
   "cell_type": "code",
   "execution_count": 81,
   "metadata": {},
   "outputs": [
    {
     "name": "stdout",
     "output_type": "stream",
     "text": [
      "lag 1 autocorrelation np.correlate: 0.937\n"
     ]
    }
   ],
   "source": [
    "#Calculate the autocorrelation using numpy correlate lagN\n",
    "lagNauto_np=np.correlate(t1_m,t2_m,mode='valid')/(n-lag)/(sigma**2)\n",
    "print('lag',lag,'autocorrelation np.correlate:',np.round(lagNauto_np[0],3))\n"
   ]
  },
  {
   "cell_type": "markdown",
   "metadata": {},
   "source": [
    "Method 2: direct calculation via dot product"
   ]
  },
  {
   "cell_type": "code",
   "execution_count": 82,
   "metadata": {},
   "outputs": [
    {
     "name": "stdout",
     "output_type": "stream",
     "text": [
      "lag 1 autocorrelation direct calc: 0.937\n"
     ]
    }
   ],
   "source": [
    "#direct calculation\n",
    "#Calculate the autocorrelation using numpy dot\n",
    "## (https://docs.scipy.org/doc/numpy-1.13.0/reference/generated/numpy.dot.html)\n",
    "lagNauto=np.dot(t1_m,t2_m)/(n-lag)/sigma**2 ## Barnes Chapter 2 Eq. 68 divided by the variance\n",
    "print('lag',lag,'autocorrelation direct calc:',np.round(lagNauto,3))\n",
    "\n",
    "if lag==1: alpha=lagNauto"
   ]
  },
  {
   "cell_type": "markdown",
   "metadata": {},
   "source": [
    "Do you get the same autocorrelation for the two calculations of autocorrelation? What is it? Is it high or low? Are you surprised by this magnitude?"
   ]
  },
  {
   "cell_type": "markdown",
   "metadata": {},
   "source": [
    "<b>Your answer here:</b> Yes, there is the same autocorrelation for the two methods. The daily lag-1 autocorrelation is 0.937. This autocorrelation is quite close to 1, indicating very high persistence/memory in day-to-day temperature. Since there's a seasonal cycle that influences day-to-day persistence of temperature, I'm not surprised. "
   ]
  },
  {
   "cell_type": "markdown",
   "metadata": {},
   "source": [
    "#### 2. Calculate the autocorrelation at all lags\n",
    "\n",
    "Calculate the autocorrelation at all lags. Is it symmetric about 0 lag? Should it be? "
   ]
  },
  {
   "cell_type": "markdown",
   "metadata": {},
   "source": [
    "<b>Your answer here:</b> Yes, autocorrelation is symmetric about 0. This makes sense because if we are correlating a time series with itself lagged in time, then sliding one time series to the right by X and then computing the correlation is identical to sliding that same time series to the left by X and then computing the correlation."
   ]
  },
  {
   "cell_type": "code",
   "execution_count": 83,
   "metadata": {},
   "outputs": [
    {
     "data": {
      "image/png": "[encoded data removed]",
      "text/plain": [
       "<Figure size 432x288 with 1 Axes>"
      ]
     },
     "metadata": {},
     "output_type": "display_data"
    }
   ],
   "source": [
    "tseries1=tseries-mean\n",
    "half=int(len(tseries)/2)\n",
    "\n",
    "if len(tseries)%2==1:   #The %-sign is the modulo operator (how much remainder when / by two\n",
    "    lags=np.arange(-1*half,half+0.01,1.)\n",
    "elif len(tseries)%2==0:  #We need to check if the dataset is odd or even in length so that we get the correct lags x-axis\n",
    "    lags=np.arange(-1*half+1,half+0.01,1.)\n",
    "#print(len(tseries1))\n",
    "#print(len(lags))\n",
    "#print(len(np.correlate(tseries1,tseries1,mode='same')))\n",
    "\n",
    "autocorrelation_function=np.correlate(tseries1,tseries1,mode='same')/((n-np.abs(lags))*sigma**2)  ##Barnes Eq. 67 divided by variance\n",
    "\n",
    "plt.axhline(0,color='darkgray',linewidth=2)\n",
    "plt.axvline(0,color='darkgray',linewidth=2)\n",
    "plt.plot(lags,autocorrelation_function)\n",
    "#plt.xlim([-40,40]);\n",
    "#plt.ylim([0.0,1.0]);\n",
    "plt.xlabel('Lag (Days)',fontsize=14);\n",
    "plt.ylabel('Autocorrelation',fontsize=14);\n"
   ]
  },
  {
   "cell_type": "markdown",
   "metadata": {},
   "source": [
    "How does the autocorrelation change as lag increases from -40 to +40 days?  When is autocorrelation negative? Why is the autocorrelation negative then?"
   ]
  },
  {
   "cell_type": "markdown",
   "metadata": {},
   "source": [
    "<b>Your answer here:</b> The autocorrelation decreases as the lag (positive or negative) increases. The autocorrelation becomes negative at +/- 90 days. This is because of the seasonal cycle: at a lag of 90 days, we're effectively correlating oppositely signed anomalies (e.g., at 180 lag, summer time anomalies (warm) are correlated with wintertime anomalies (cold))."
   ]
  },
  {
   "cell_type": "markdown",
   "metadata": {},
   "source": [
    "#### 3. Calculate the effective sample size (N$^{*}$) for this dataset\n",
    "\n",
    "Compare your estimate of the number of independent samples (N$^{*}$) to the number of samples in the original dataset (N)"
   ]
  },
  {
   "cell_type": "code",
   "execution_count": 84,
   "metadata": {},
   "outputs": [
    {
     "name": "stdout",
     "output_type": "stream",
     "text": [
      "# samples, N:  365\n",
      "lag-1 autocorrelation:  0.94\n",
      "#independent samples, N*:  12.0\n"
     ]
    }
   ],
   "source": [
    "N=len(tseries)\n",
    "print('# samples, N: ',N)\n",
    "print('lag-1 autocorrelation: ',round(alpha,2))\n",
    "print('#independent samples, N*: ',round((1-np.abs(alpha))/(1+np.abs(alpha))*N,0)) ## Chapter 2 Barnes Eq. 88\n",
    "## Note that the value of the autocorrelation used in Eq. 88 should be the absolute value otherwise\n",
    "## if alpha is negative you end up with more independent samples than original samples"
   ]
  },
  {
   "cell_type": "markdown",
   "metadata": {},
   "source": [
    "How much memory is there in daily temperature sampled at midnight? How many truly independent samples are there?"
   ]
  },
  {
   "cell_type": "markdown",
   "metadata": {},
   "source": [
    "<b>Your answer here:</b> The lag-1 correlation is 0.937 (memory) because of the seasonal cycle. This means that there's only 12 independent samples in this entire dataset of 365 samples!"
   ]
  },
  {
   "cell_type": "markdown",
   "metadata": {},
   "source": [
    "#### 4. Time to tinker\n",
    "Make minor adjustments to the original code to see how results change. <br>\n",
    "\n",
    "Repeat steps 1-3 when you change to a different sampling frequency (e.g., every 6 hours, every 7 days, every month). How do the results change? How do results change if you switch variables (e.g., slp_hpa, dewpoint_degc, etc.)?  <br>\n",
    "\n",
    "Hint: You might want to make a copy of the notebook for your tinkering so that you can refer back to your original answers more easily."
   ]
  },
  {
   "cell_type": "markdown",
   "metadata": {},
   "source": [
    "<b> Changing sampling frequency:</b>\n",
    "Switching to 6-hourly sample runs into NaNs which break the notebook. What's the best ways to infill for the missing value? Three (imperfect) strategies: 1) set the missing value equal to climatology (the whole dataset's mean). 2) set the missing value equal to the previous hour's value. 3) set the missing value equal to the monthly mean. Each of these strategies has its limitations, some more than others.<br>\n",
    "Changing to 6-hourly does not change results much. We do have 4x more independent samples, but our dataset is also 4x larger. <br>\n",
    "Switching to weekly sampling: Autocorrelation decreased a little to 0.86. Now there's only 4 independent samples. <br>\n",
    "Switching to monthly sampling: There's few samples left (effective or otherwise) but the broad autocorrelation pattern is the same (=1 at lag 0 and falling toward negative). Only 2 truly independent samples left"
   ]
  },
  {
   "cell_type": "markdown",
   "metadata": {},
   "source": [
    "<b>Trying other variable types:</b><br>\n",
    "SLP: Day-to-day SLP has much less memory. Its lag-1 autocorrelation is 0.44. With that are more effective samples (139) than there was for air temperature. <br>\n",
    "Dewpoint: Daily dewpoint has almost as much memory as air temperature; lag-1 autocorrelation of 0.88 and 21 effective samples. <br>\n"
   ]
  },
  {
   "cell_type": "code",
   "execution_count": null,
   "metadata": {},
   "outputs": [],
   "source": []
  },
  {
   "cell_type": "code",
   "execution_count": null,
   "metadata": {},
   "outputs": [],
   "source": []
  },
  {
   "cell_type": "code",
   "execution_count": null,
   "metadata": {},
   "outputs": [],
   "source": []
  },
  {
   "cell_type": "code",
   "execution_count": null,
   "metadata": {},
   "outputs": [],
   "source": []
  },
  {
   "cell_type": "code",
   "execution_count": null,
   "metadata": {},
   "outputs": [],
   "source": []
  },
  {
   "cell_type": "code",
   "execution_count": null,
   "metadata": {},
   "outputs": [],
   "source": []
  },
  {
   "cell_type": "markdown",
   "metadata": {},
   "source": [
    "Ignore below unless you're really interested in determining exactly what np.correlate(mode='full') is doing."
   ]
  },
  {
   "cell_type": "code",
   "execution_count": 85,
   "metadata": {},
   "outputs": [
    {
     "data": {
      "text/plain": [
       "Text(0.5, 0, 'lags (days)')"
      ]
     },
     "execution_count": 85,
     "metadata": {},
     "output_type": "execute_result"
    },
    {
     "data": {
      "image/png": "[encoded data removed]",
      "text/plain": [
       "<Figure size 432x288 with 1 Axes>"
      ]
     },
     "metadata": {},
     "output_type": "display_data"
    }
   ],
   "source": [
    "## Unsolved mystery -- If you want to plot the full autocorrrelation (i.e., vs. all lags)\n",
    "## You end up with values greater than 1.  But the autocorrelation should be between -1 and 1\n",
    "\n",
    "lags_full=np.arange(-n,n+1);\n",
    "foo=np.correlate(tseries1,tseries1,mode='full')/((n-np.abs(lags_full[1:-1]))*sigma**2);\n",
    "plt.plot(lags_full[1:-1],foo);\n",
    "plt.xlabel('lags (days)')\n",
    "\n",
    "##Elizabeth idea: check out Wilks pp58-59. Does it have to do with the sigma+sigma- ~sigma^2 approximation?"
   ]
  },
  {
   "cell_type": "code",
   "execution_count": null,
   "metadata": {},
   "outputs": [],
   "source": []
  },
  {
   "cell_type": "code",
   "execution_count": null,
   "metadata": {},
   "outputs": [],
   "source": []
  },
  {
   "cell_type": "code",
   "execution_count": null,
   "metadata": {},
   "outputs": [],
   "source": []
  },
  {
   "cell_type": "code",
   "execution_count": null,
   "metadata": {},
   "outputs": [],
   "source": []
  },
  {
   "cell_type": "code",
   "execution_count": null,
   "metadata": {},
   "outputs": [],
   "source": []
  }
 ],
 "metadata": {
  "kernelspec": {
   "display_name": "Python [conda env:aos575]",
   "language": "python",
   "name": "conda-env-aos575-py"
  },
  "language_info": {
   "codemirror_mode": {
    "name": "ipython",
    "version": 3
   },
   "file_extension": ".py",
   "mimetype": "text/x-python",
   "name": "python",
   "nbconvert_exporter": "python",
   "pygments_lexer": "ipython3",
   "version": "3.8.5"
  }
 },
 "nbformat": 4,
 "nbformat_minor": 4
}
