{
 "cells": [
  {
   "cell_type": "markdown",
   "metadata": {},
   "source": [
    "#### AOS 575 Application Lab 1: Significance testing\n",
    "\n",
    "Originally coded by Prof. Jennifer Kay (CU) with input from Elizabeth Maroon (CU ATOC/CIRES Postdoc 2018); last updated September 2, 2020 <br>\n",
    "Updated/adapted for AOS 575 by Prof. Maroon (UWisc) <br>\n",
    "Last updated: September 14, 2020"
   ]
  },
  {
   "cell_type": "markdown",
   "metadata": {},
   "source": [
    "LEARNING GOALS: <br>\n",
    "1) Working in an ipython notebook: read in netcdf file, make line plots and histograms <br>\n",
    "2) Calculate statistical significance of the changes in the normalized mean using a z-statistic and a t-statistic <br>\n",
    "3) Calculate confidence intervals on CESM-LE global warming using z-statistic and t-statistic\n"
   ]
  },
  {
   "cell_type": "code",
   "execution_count": null,
   "metadata": {},
   "outputs": [],
   "source": [
    "#import packages\n",
    "import matplotlib   # library for plotting\n",
    "import matplotlib.pyplot as plt # basic plotting; later you will type plt.$COMMAND\n",
    "import numpy as np # basic math library  you will type np.$STUFF  e.g., np.cos(1)\n",
    "import scipy.stats as stats # imports stats functions https://docs.scipy.org/doc/scipy/reference/stats.html  \n",
    "import xarray  ##netcdf manipulation - slick array manipulation"
   ]
  },
  {
   "cell_type": "markdown",
   "metadata": {},
   "source": [
    "LEARNING GOAL #1 <br>\n",
    "Read in the data from netcdf files <br>\n",
    "These data are global annual mean surface temperatures from the CESM Large Ensemble Project: https://doi.org/10.1175/BAMS-D-13-00255.1."
   ]
  },
  {
   "cell_type": "code",
   "execution_count": null,
   "metadata": {},
   "outputs": [],
   "source": [
    "fname=\"TS_timeseries_cesmle_1920_2100.nc\"\n",
    "ds=xarray.open_dataset(fname)\n",
    "#ds  ## note: uncommenting this line prints information about the data you read in\n"
   ]
  },
  {
   "cell_type": "markdown",
   "metadata": {},
   "source": [
    "Print out ds (uncomment above).  What variables, coordinates, and dimensions do you see in this dataset?"
   ]
  },
  {
   "cell_type": "markdown",
   "metadata": {},
   "source": [
    "Insert answer here"
   ]
  },
  {
   "cell_type": "code",
   "execution_count": null,
   "metadata": {},
   "outputs": [],
   "source": [
    "fname1=\"TS_timeseries_cesmle_1850.nc\"\n",
    "ds1=xarray.open_dataset(fname1)\n",
    "gts=ds[\"gts_ann_allcesmle\"]\n",
    "ats=ds[\"ats_ann_allcesmle\"]\n",
    "year=ds[\"year\"]\n",
    "#gts  ## note: uncommenting this line prints information about the variable gts\n",
    "gts_1850=ds1[\"gts_annual\"]"
   ]
  },
  {
   "cell_type": "markdown",
   "metadata": {},
   "source": [
    "<b>It's always a good idea to plot your data before you start doing any calculations.</b>  \"Look at your data\"!\n",
    "Let's make a quick line plot of global annual mean temperature timeseries from the 1850 control and the ensemble members."
   ]
  },
  {
   "cell_type": "code",
   "execution_count": null,
   "metadata": {},
   "outputs": [],
   "source": [
    "plt.rcParams[\"figure.figsize\"] = [22,4]\n",
    "[plt.plot(year,gts.sel(member=i),color=\"grey\") for i in range(1,31)] ## plot all 30 ensemble members\n",
    "plt.plot(year,gts.mean(\"member\"),color=\"black\")  ## plot ensemble mean\n",
    "plt.xlabel('year')\n",
    "plt.ylabel('global surface temperature (deg C)')\n",
    "plt.xticks(np.arange(1920,2101,60),[\"1920\",\"1980\",\"2040\",\"2100\"])\n",
    "\n",
    "plt.plot(gts_1850,color=\"C0\");  ## add \";\" to not print to screen plotting comments"
   ]
  },
  {
   "cell_type": "markdown",
   "metadata": {},
   "source": [
    "LEARNING GOAL #2 - Assess global warming in the ensemble and compare it to the 1850 control with constant forcing <br>\n",
    "\n",
    "With the 1850 control we have the opportunity to calculate population statistics with constant forcing. <br>\n",
    "Let's find the population mean and population standard deviation from the 1850 control.  "
   ]
  },
  {
   "cell_type": "code",
   "execution_count": null,
   "metadata": {},
   "outputs": [],
   "source": [
    "gts_1850_mean=np.mean(gts_1850)\n",
    "gts_1850_std=np.std(gts_1850)\n",
    "print(\"Mean 1850 global mean surface temperature\")\n",
    "print(np.str(np.round(gts_1850_mean.values,2)))\n",
    "print(\"Standard deviation in 1850 global mean surface temperature:\")\n",
    "print(np.str(np.round(gts_1850_std.values,2)))"
   ]
  },
  {
   "cell_type": "markdown",
   "metadata": {},
   "source": [
    "Standardize the data and plot a histogram:"
   ]
  },
  {
   "cell_type": "code",
   "execution_count": null,
   "metadata": {},
   "outputs": [],
   "source": [
    "gts_1850_norm=(gts_1850-gts_1850_mean)/gts_1850_std\n",
    "gts_1850_norm_mean=np.mean(gts_1850_norm).values\n",
    "gts_1850_norm_std=np.std(gts_1850_norm).values\n",
    "print(\"Standardized mean and std in 1850 global mean surface temperature:\")\n",
    "print(np.str(np.round(gts_1850_norm_mean,2)))\n",
    "print(np.str(np.round(gts_1850_norm_std,2)))\n",
    "\n",
    "xinc = np.arange(-3,3,.25)\n",
    "hx=np.histogram(gts_1850_norm,xinc)\n",
    "plt.rcParams[\"figure.figsize\"] = [5,5]\n",
    "plt.bar(hx[1][:-1],hx[0],edgecolor = 'C1', color = [], width = .25, linewidth = 2);\n",
    "plt.ylabel('Number of Samples');\n",
    "plt.xlabel('Standardized Value (Z)');\n",
    "\n",
    "## another histogram option to try (might be deprecated)\n",
    "#xinc = np.arange(-3,3,.25);\n",
    "#plt.hist(gts_1850_norm,xinc);\n",
    "#plt.ylabel('Number of Samples');\n",
    "#plt.xlabel('Standardized Value (Z)');"
   ]
  },
  {
   "cell_type": "markdown",
   "metadata": {},
   "source": [
    "Next let's calculate the global warming in the first ensemble member over a given time period. <br>\n",
    "Our end goal is compare the 2020-2030 average warming to the 1850 control run and assess if the warming is statistically significant.\n"
   ]
  },
  {
   "cell_type": "code",
   "execution_count": null,
   "metadata": {},
   "outputs": [],
   "source": [
    "### Start by standardizing member 1 data using the 1850 control mean and standard deviation\n",
    "startyear=2020   #Try playing with the Start and end years later.\n",
    "endyear=2030\n",
    "nyrs=(endyear-startyear)\n",
    "print(\"nyears:\"+np.str(nyrs))\n",
    "print() #printing an empty line to format things more clearly below\n",
    "gts_mem1=gts.sel(member=1).sel(year=slice(startyear,endyear-1))   #the .sel method is an easy way to subselect data\n",
    "print(gts_mem1)\n",
    "gts_mem1_norm=(gts_mem1-gts_1850_mean)/gts_1850_std\n",
    "print() \n",
    "\n",
    "print(\"Standardized mean CESM LE member 1:\")\n",
    "print(np.round(np.mean(gts_mem1_norm).values,2))\n",
    "print()\n",
    "\n",
    "## plot a histogram to see the range of values\n",
    "xinc = np.arange(-20,20,.25)\n",
    "hx=np.histogram(gts_mem1_norm,xinc);\n",
    "plt.bar(hx[1][:-1],hx[0],edgecolor = 'C1', color = 'k', width = .25, linewidth = 2);\n",
    "plt.ylabel('Number of Samples');\n",
    "plt.xlabel('Standardized Value (Z)');\n",
    "\n",
    "## another histogram option to try (might be deprecated)\n",
    "#xinc = np.arange(-20,20,.25)\n",
    "#plt.hist(gts_mem1_norm,xinc)\n",
    "#plt.ylabel('Number of Samples')\n",
    "#plt.xlabel('Standardized Value (Z)')"
   ]
  },
  {
   "cell_type": "markdown",
   "metadata": {},
   "source": [
    "Why is the mean of this standardized variable not centered at 0?"
   ]
  },
  {
   "cell_type": "markdown",
   "metadata": {},
   "source": [
    "Insert answer here."
   ]
  },
  {
   "cell_type": "markdown",
   "metadata": {},
   "source": [
    "What is the probability that the mean annual global mean temperature was X assuming no global warming? <br>\n",
    "Test that sample mean is equal to the population mean (null hypothesis) <br>\n",
    "Assume that the Global Mean Annual Temperature is standard normal. \n"
   ]
  },
  {
   "cell_type": "code",
   "execution_count": null,
   "metadata": {},
   "outputs": [],
   "source": [
    "## Using Barnes equation (1.83) to calculate probability using z-statistic\n",
    "sample_mean=np.mean(gts_mem1_norm).values\n",
    "print('sample_mean:',np.str(np.round(sample_mean,2)))\n",
    "population_mean=gts_1850_norm_mean\n",
    "population_std=gts_1850_norm_std\n",
    "xstd=population_std/np.sqrt(nyrs)\n",
    "z=(sample_mean-population_mean)/xstd\n",
    "print(\"Z-statistic:\")\n",
    "print(np.round(z,2))\n",
    "print(\"Probability (percent):\")\n",
    "prob=(1-stats.norm.cdf(z))*100\n",
    "print(np.round(prob,2))\n",
    "\n",
    "## Using Barnes equation (1.96) to calculate probability using the t-statistic\n",
    "sample_mean=np.mean(gts_mem1_norm).values\n",
    "sample_std=np.std(gts_mem1_norm).values\n",
    "print(\"T-statistic:\")\n",
    "t=(sample_mean-population_mean)/(sample_std/(np.sqrt(nyrs-1)))\n",
    "print(np.round(t,2))\n",
    "print(\"Probability (percent):\")\n",
    "prob=(1-stats.t.cdf(t,nyrs-1))*100\n",
    "print(np.round(prob,2))\n",
    "\n",
    "print('ttest function from python')\n",
    "#stats.ttest_ind(gts_1850_norm,gts_mem1_norm)\n",
    "print(stats.ttest_ind(gts_mem1_norm,gts_1850_norm,equal_var = False)) #When equal_var is false (defaults to true),\n",
    "#this means that the underlying population variances are NOT equal and this function then uses Welch's T-test\n"
   ]
  },
  {
   "cell_type": "markdown",
   "metadata": {},
   "source": [
    "What is the probability that the mean annual global mean temperature was X assuming no global warming? Do we reject the null hypothesis that the sample mean is equal to the population mean?"
   ]
  },
  {
   "cell_type": "markdown",
   "metadata": {},
   "source": [
    "Insert answer here"
   ]
  },
  {
   "cell_type": "markdown",
   "metadata": {},
   "source": [
    "LEARNING GOAL #3 - Calculate confidence intervals on CESM-LE global warming using z-statistic and t-statistic <br>\n",
    "\n",
    "Use the code below to calculate how much global warming occurred over the 21st century in both individual ensemble members and the ensemble mean."
   ]
  },
  {
   "cell_type": "code",
   "execution_count": null,
   "metadata": {},
   "outputs": [],
   "source": [
    "## Compare 21st century global warming: one member vs. ensemble mean\n",
    "gw_mem1=gts.sel(member=1).sel(year=slice(2080,2100)).mean(\"year\")- \\\n",
    "        gts.sel(member=1).sel(year=slice(2000,2020)).mean(\"year\")\n",
    "gw_mean=(gts.sel(year=slice(2080,2100)).mean(\"year\").mean(\"member\"))- \\\n",
    "        (gts.sel(year=slice(2000,2020)).mean(\"year\").mean(\"member\"))\n",
    "print(np.round(gw_mem1.values,2))\n",
    "print(np.round(gw_mean.values,2))"
   ]
  },
  {
   "cell_type": "markdown",
   "metadata": {},
   "source": [
    "Next - let's calculate emsemble statistics about 21st century global warming"
   ]
  },
  {
   "cell_type": "code",
   "execution_count": null,
   "metadata": {},
   "outputs": [],
   "source": [
    "nmembers=30\n",
    "temp=(gts.sel(member=slice(1,nmembers)).sel(year=slice(2080,2100)).mean(\"year\")-\\\n",
    "      gts.sel(member=slice(1,nmembers)).sel(year=slice(2000,2020)).mean(\"year\"))\n",
    "gw_mean_mem=temp.mean(\"member\")\n",
    "gw_std_mem=temp.std(\"member\")\n",
    "gw_min_mem=temp.min(\"member\")\n",
    "gw_max_mem=temp.max(\"member\")\n",
    "print(\"mean: \",np.str(np.round(gw_mean_mem.values,2)))\n",
    "print(\"stdev: \",np.str(np.round(gw_std_mem.values,2)))\n",
    "print(\"min: \",np.str(np.round(gw_min_mem.values,2)))\n",
    "print(\"max: \",np.str(np.round(gw_max_mem.values,2)))"
   ]
  },
  {
   "cell_type": "markdown",
   "metadata": {},
   "source": [
    "Let's add confidence intervals to the estimated global warming <br>\n",
    "Specifically - we'll compare confidence intervals calculated using t-statistic and z-statistic <br>\n",
    "\n",
    "Calculate the 95% and 99% confidence limits on the 21st century warming using t-statistic <br>\n",
    "Assume that the global warming is normally distributed."
   ]
  },
  {
   "cell_type": "code",
   "execution_count": null,
   "metadata": {},
   "outputs": [],
   "source": [
    "N=nmembers\n",
    "df=N-1\n",
    "\n",
    "## Note: Python calculates left/lower-tail probabilities by default, so for the 95% confidence interval, use 0.975\n",
    "tstat95=stats.t.ppf(0.975,df)\n",
    "low_limit95=gw_mean_mem-tstat95*(gw_std_mem/np.sqrt(nmembers-1))\n",
    "high_limit95=gw_mean_mem+tstat95*(gw_std_mem/np.sqrt(nmembers-1))\n",
    "print(\"95% confidence limits - t-statistic\")\n",
    "print(np.round(low_limit95.values,2))\n",
    "print(np.round(high_limit95.values,2))\n",
    "print()\n",
    "\n",
    "## Note: Python calculates left/lower-tail probabilities by default, so for the 99% confidence interval, use 0.995\n",
    "tstat99=stats.t.ppf(0.995,df)\n",
    "low_limit99=gw_mean_mem-tstat99*(gw_std_mem/np.sqrt(nmembers-1))\n",
    "high_limit99=gw_mean_mem+tstat99*(gw_std_mem/np.sqrt(nmembers-1))\n",
    "print(\"99% confidence limits - t-statistic\")\n",
    "print(np.round(low_limit99.values,2))\n",
    "print(np.round(high_limit99.values,2))\n",
    "print()\n",
    "\n",
    "#### Calculate the 95% and 99% confidence limits on the 21st century warming using z-statistic\n",
    "#### Assume that the global warming is normally distributed.\n",
    "\n",
    "## Note: Python calculates left/lower-tail probabilities by default, so for the 95% confidence interval, use 0.975\n",
    "zstat95=stats.norm.ppf(0.975)\n",
    "low_limit95=gw_mean_mem-zstat95*(gw_std_mem/np.sqrt(nmembers))\n",
    "high_limit95=gw_mean_mem+zstat95*(gw_std_mem/np.sqrt(nmembers))\n",
    "print(\"95% confidence limits - z-statistic\")\n",
    "print(np.round(low_limit95.values,2))\n",
    "print(np.round(high_limit95.values,2))\n",
    "print()\n",
    "\n",
    "## Note: Python calculates left/lower-tail probabilities by default, so for the 99% confidence interval, use 0.995\n",
    "zstat99=stats.norm.ppf(0.995)\n",
    "low_limit99=gw_mean_mem-zstat99*(gw_std_mem/np.sqrt(nmembers))\n",
    "high_limit99=gw_mean_mem+zstat99*(gw_std_mem/np.sqrt(nmembers))\n",
    "print(\"99% confidence limits - z-statistic\")\n",
    "print(np.round(low_limit99.values,2))\n",
    "print(np.round(high_limit99.values,2))\n",
    "print()"
   ]
  },
  {
   "cell_type": "markdown",
   "metadata": {},
   "source": [
    "Plot a histogram of global warming - "
   ]
  },
  {
   "cell_type": "code",
   "execution_count": null,
   "metadata": {},
   "outputs": [],
   "source": [
    "gw_allmem=gts.sel(member=slice(1,nmembers)).sel(year=slice(2080,2100)).mean(\"year\")- \\\n",
    "        gts.sel(member=slice(1,nmembers)).sel(year=slice(2000,2020)).mean(\"year\")\n",
    "print(gw_allmem.values)\n",
    "\n",
    "## plot a histogram to see the range of values\n",
    "wid=0.05\n",
    "xinc = np.arange(3.45,3.8,wid)\n",
    "print(xinc)\n",
    "hx=np.histogram(gw_allmem,xinc)\n",
    "plt.bar(hx[1][:-1],hx[0],edgecolor = 'k', color = 'C1', width = wid, linewidth = 2);\n",
    "plt.ylabel('Number of Samples');\n",
    "plt.xlabel('Standardized Value (Z)');\n",
    "\n",
    "### another histogram option\n",
    "#xinc = np.arange(3.5,3.8,.05)\n",
    "#plt.hist(gw_allmem,xinc);\n",
    "#plt.ylabel('Number of Samples');\n",
    "#plt.xlabel('Standardized Value (Z)');"
   ]
  },
  {
   "cell_type": "markdown",
   "metadata": {},
   "source": [
    "Was normal distribution a good approximation?"
   ]
  },
  {
   "cell_type": "markdown",
   "metadata": {},
   "source": [
    "Insert answer here"
   ]
  },
  {
   "cell_type": "markdown",
   "metadata": {},
   "source": [
    "What if you you only had 6 ensemble members?  Estimate your confidence interval using a t-statistic.\n",
    "Calculate statistics for the 21st century global warming"
   ]
  },
  {
   "cell_type": "code",
   "execution_count": null,
   "metadata": {},
   "outputs": [],
   "source": [
    "nmembers=6\n",
    "temp=(gts.sel(member=slice(1,nmembers)).sel(year=slice(2080,2100)).mean(\"year\")-\\\n",
    "      gts.sel(member=slice(1,nmembers)).sel(year=slice(2000,2020)).mean(\"year\"))\n",
    "print(temp)\n",
    "gw_mean_mem=temp.mean(\"member\")\n",
    "gw_std_mem=temp.std(\"member\")\n",
    "gw_min_mem=temp.min(\"member\")\n",
    "gw_max_mem=temp.max(\"member\")\n",
    "\n",
    "print(\"mean: \",np.str(np.round(gw_mean_mem.values,2)))\n",
    "print(\"stdev: \",np.str(np.round(gw_std_mem.values,2)))\n",
    "print(\"min: \",np.str(np.round(gw_min_mem.values,2)))\n",
    "print(\"max: \",np.str(np.round(gw_max_mem.values,2)))"
   ]
  },
  {
   "cell_type": "code",
   "execution_count": null,
   "metadata": {},
   "outputs": [],
   "source": [
    "#### Calculate the 95% and 99% confidence limits on the 21st century warming using t-statistic\n",
    "#### Assume that the global warming is normally distributed.  (See page 18 of Barnes notes)\n",
    "N=nmembers\n",
    "df=N-1\n",
    "\n",
    "## Note: Python calculates left/lower-tail probabilities by default, so for the 95% confidence interval, use 0.975\n",
    "tstat95=stats.t.ppf(0.975,df)\n",
    "low_limit95=gw_mean_mem-tstat95*(gw_std_mem/np.sqrt(nmembers-1))\n",
    "high_limit95=gw_mean_mem+tstat95*(gw_std_mem/np.sqrt(nmembers-1))\n",
    "print(\"95% confidence limits - t-statistic\")\n",
    "print(low_limit95.values)\n",
    "print(high_limit95.values)\n",
    "print()\n",
    "\n",
    "## Note: Python calculates left/lower-tail probabilities by default, so for the 99% confidence interval, use 0.995\n",
    "tstat99=stats.t.ppf(0.995,df)  #### FIXED - this said stats.norm.ppf instead of stats.t.ppf\n",
    "low_limit99=gw_mean_mem-tstat99*(gw_std_mem/np.sqrt(nmembers-1))\n",
    "high_limit99=gw_mean_mem+tstat99*(gw_std_mem/np.sqrt(nmembers-1))\n",
    "print(\"99% confidence limits - t-statistic\")\n",
    "print(low_limit99.values)\n",
    "print(high_limit99.values)"
   ]
  },
  {
   "cell_type": "markdown",
   "metadata": {},
   "source": [
    "Based on what you've learned in this exercise, what can you conclude about the CESM's projected global temperature during this decade? "
   ]
  },
  {
   "cell_type": "markdown",
   "metadata": {},
   "source": [
    "Insert answer here"
   ]
  },
  {
   "cell_type": "code",
   "execution_count": null,
   "metadata": {},
   "outputs": [],
   "source": []
  },
  {
   "cell_type": "code",
   "execution_count": null,
   "metadata": {},
   "outputs": [],
   "source": []
  }
 ],
 "metadata": {
  "kernelspec": {
   "display_name": "Python 3",
   "language": "python",
   "name": "python3"
  },
  "language_info": {
   "codemirror_mode": {
    "name": "ipython",
    "version": 3
   },
   "file_extension": ".py",
   "mimetype": "text/x-python",
   "name": "python",
   "nbconvert_exporter": "python",
   "pygments_lexer": "ipython3",
   "version": "3.7.3"
  }
 },
 "nbformat": 4,
 "nbformat_minor": 4
}
