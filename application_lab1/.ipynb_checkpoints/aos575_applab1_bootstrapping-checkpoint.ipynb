{
 "cells": [
  {
   "cell_type": "markdown",
   "metadata": {},
   "source": [
    "#### AOS 575 Application Lab 1: Bootstrapping\n",
    "Originally coded by Prof. Kay (CU) with input from Vineel Yettella (CU ATOC Ph.D. 2018), last updated September 2, 2020 <br>\n",
    "Updated/adapted for UW AOS by Prof. Maroon (UWisc); Switched from Loveland SWE -> Madison Total Snow<br>\n",
    "Last Updated: September 14, 2020"
   ]
  },
  {
   "cell_type": "markdown",
   "metadata": {},
   "source": [
    "LEARNING GOALS:<br>\n",
    "1) Working in an ipython notebook: read in csv file, make histogram plot<br>\n",
    "2) Assessing statistical significance using bootstrapping <br>\n",
    "3) Compare statistical significance via bootstrapping to significance via t-test\n"
   ]
  },
  {
   "cell_type": "code",
   "execution_count": null,
   "metadata": {},
   "outputs": [],
   "source": [
    "#import packages\n",
    "import matplotlib                   # library for plotting\n",
    "import matplotlib.pyplot as plt     #  later you will type plt.$COMMAND\n",
    "import numpy as np                  # basic math library  you will type np.$STUFF  e.g., np.cos(1)\n",
    "import pandas as pd                 # library for data analysis for text files (everything but netcdf files)\n",
    "import scipy.stats as stats         # imports stats functions https://docs.scipy.org/doc/scipy/reference/stats.html "
   ]
  },
  {
   "cell_type": "code",
   "execution_count": null,
   "metadata": {},
   "outputs": [],
   "source": [
    "### Read in the data\n",
    "filename='snow_enso_data.csv'\n",
    "data=pd.read_csv(filename,sep=',')\n",
    "data.head()"
   ]
  },
  {
   "cell_type": "markdown",
   "metadata": {},
   "source": [
    "Print the data column names so that we know what we've got:"
   ]
  },
  {
   "cell_type": "code",
   "execution_count": null,
   "metadata": {},
   "outputs": [],
   "source": [
    "print(data.columns[0])\n",
    "print(data.columns[1])\n",
    "print(data.columns[2])"
   ]
  },
  {
   "cell_type": "markdown",
   "metadata": {},
   "source": [
    "Print the data values - LOOK AT YOUR DATA.  If new to Python - check out what happens when you remove .values. Uncomment the lines below:"
   ]
  },
  {
   "cell_type": "code",
   "execution_count": null,
   "metadata": {},
   "outputs": [],
   "source": [
    "#print(data['Year'].values)\n",
    "#print(data['Madison_TotalSnow_inches'].values)\n",
    "#print(data['Nino34_anomaly_prevDec'].values)"
   ]
  },
  {
   "cell_type": "markdown",
   "metadata": {},
   "source": [
    "Calculate the average and standard deviation of total snowfall in Madison, WI. "
   ]
  },
  {
   "cell_type": "code",
   "execution_count": null,
   "metadata": {},
   "outputs": [],
   "source": [
    "snow_avg=data['Madison_TotalSnow_inches'].mean()\n",
    "snow_std=data['Madison_TotalSnow_inches'].std()\n",
    "N_snow=len(data['Madison_TotalSnow_inches'])\n",
    "print('Average Total Snow (inches):',np.str(np.round(snow_avg,2)))\n",
    "print('Standard Deviation Total Snow (inches):',np.str(np.round(snow_std,2)))\n",
    "print('N:',np.str(N_snow))"
   ]
  },
  {
   "cell_type": "markdown",
   "metadata": {},
   "source": [
    "Print to figure out how to condition and make sure it is working. Uncomment as needed:"
   ]
  },
  {
   "cell_type": "code",
   "execution_count": null,
   "metadata": {},
   "outputs": [],
   "source": [
    "#print(data['Nino34_anomaly_prevDec']>1)        ## this gives True/False\n",
    "#print(data[data['Nino34_anomaly_prevDec']>1])  ## where it is True, values will print"
   ]
  },
  {
   "cell_type": "markdown",
   "metadata": {},
   "source": [
    "Calculate the average snowfall when it was an El Niño year:"
   ]
  },
  {
   "cell_type": "code",
   "execution_count": null,
   "metadata": {},
   "outputs": [],
   "source": [
    "snow_avg_nino=data[data['Nino34_anomaly_prevDec']>1.0]['Madison_TotalSnow_inches'].mean()\n",
    "snow_std_nino=data[data['Nino34_anomaly_prevDec']>1.0]['Madison_TotalSnow_inches'].std()\n",
    "N_snow_nino=len(data[data['Nino34_anomaly_prevDec']>1.0]['Madison_TotalSnow_inches'])\n",
    "print('Average Snow during El Nino (inches):',np.str(np.round(snow_avg_nino,2)))\n",
    "print('Standard Deviation Total Snow El Nino (inches):',np.str(np.round(snow_std_nino,2)))\n",
    "print('N El Nino:',np.str(N_snow_nino))"
   ]
  },
  {
   "cell_type": "markdown",
   "metadata": {},
   "source": [
    "What is the sample size of our subselected El Niño years?"
   ]
  },
  {
   "cell_type": "code",
   "execution_count": null,
   "metadata": {},
   "outputs": [],
   "source": [
    "snow_avg_nina=data[data['Nino34_anomaly_prevDec']<-1.0]['Madison_TotalSnow_inches'].mean()\n",
    "snow_std_nina=data[data['Nino34_anomaly_prevDec']<-1.0]['Madison_TotalSnow_inches'].std()\n",
    "N_snow_nina=len(data[data['Nino34_anomaly_prevDec']<-1.0]['Madison_TotalSnow_inches'])\n",
    "print('Average Total La Nina (inches):',np.str(np.round(snow_avg_nina,2)))\n",
    "print('Standard Deviation Total Snow La Nina (inches):',np.str(np.round(snow_std_nina,2)))\n",
    "print('N La Nina:',np.str(N_snow_nina))"
   ]
  },
  {
   "cell_type": "markdown",
   "metadata": {},
   "source": [
    "Here's where the bootstrapping occurs!! Generate random samples of size N_snow_nino and N_snow_nina. Do it a couple of times to see what happens"
   ]
  },
  {
   "cell_type": "code",
   "execution_count": null,
   "metadata": {},
   "outputs": [],
   "source": [
    "P_random=np.random.choice(data['Madison_TotalSnow_inches'],N_snow_nino) \n",
    "print(P_random)  ## LOOK AT YOUR DATA"
   ]
  },
  {
   "cell_type": "markdown",
   "metadata": {},
   "source": [
    "Now Bootstrap Nbs times to generate a distribution of randomly selected mean snow total. Make sure you understand what each of the printed numbers means:"
   ]
  },
  {
   "cell_type": "code",
   "execution_count": null,
   "metadata": {},
   "outputs": [],
   "source": [
    "Nbs=1000\n",
    "## initialize empty array\n",
    "P_Bootstrap=np.empty((Nbs,N_snow_nino))\n",
    "## loop over to fill in array with randomly selected values\n",
    "for ii in range(Nbs):\n",
    "    P_Bootstrap[ii,:]=np.random.choice(data['Madison_TotalSnow_inches'],N_snow_nino)\n",
    "\n",
    "## Calculate the means of your randomly selected snowfall values.\n",
    "P_Bootstrap_mean=np.mean(P_Bootstrap,axis=1)\n",
    "print(len(P_Bootstrap_mean))  ## check length to see if you averaged across the correct axis\n",
    "print(np.shape(P_Bootstrap_mean)) ## another option to look at the dimensions of a variable\n",
    "\n",
    "P_Bootstrap_mean_avg=np.mean(P_Bootstrap_mean)\n",
    "print(P_Bootstrap_mean_avg)\n",
    "P_Bootstrap_mean_std=np.std(P_Bootstrap_mean)\n",
    "print(P_Bootstrap_mean_std)\n",
    "P_Bootstrap_mean_min=np.min(P_Bootstrap_mean)\n",
    "print(P_Bootstrap_mean_min)\n",
    "P_Bootstrap_mean_max=np.max(P_Bootstrap_mean)\n",
    "print(P_Bootstrap_mean_max)"
   ]
  },
  {
   "cell_type": "markdown",
   "metadata": {},
   "source": [
    "What happens if you re-submit the cell above? Why? "
   ]
  },
  {
   "cell_type": "markdown",
   "metadata": {},
   "source": [
    "Insert answer here."
   ]
  },
  {
   "cell_type": "markdown",
   "metadata": {},
   "source": [
    "Use matplotlib to plot a histogram of the bootstrapped means to compare to the conditioned snowfall mean:"
   ]
  },
  {
   "cell_type": "code",
   "execution_count": null,
   "metadata": {},
   "outputs": [],
   "source": [
    "binsize=0.5\n",
    "min4hist=np.round(np.min(P_Bootstrap_mean),1)-binsize\n",
    "max4hist=np.round(np.max(P_Bootstrap_mean),1)+binsize\n",
    "nbins=int((max4hist-min4hist)/binsize)\n",
    "\n",
    "plt.hist(P_Bootstrap_mean,nbins,edgecolor='black')\n",
    "plt.xlabel('Mean Total Snow (inches)');\n",
    "plt.ylabel('Count');\n",
    "plt.title('Bootstrapped Randomly Selected Mean Snowfall Values');"
   ]
  },
  {
   "cell_type": "markdown",
   "metadata": {},
   "source": [
    "In your own words, describe what this histogram means:"
   ]
  },
  {
   "cell_type": "markdown",
   "metadata": {},
   "source": [
    "Insert answer here."
   ]
  },
  {
   "cell_type": "markdown",
   "metadata": {},
   "source": [
    "#### Strategy 1: Let's assess probability of El Niño years having different snowpack using our bootstrapped distribution\n",
    "What is the probability that the snowfall was lower during El Niño by chance? <br>\n",
    "Using Barnes equation (1.83) on page 21  to calculate probability using the z-statistic from our bootstrapped distribution:"
   ]
  },
  {
   "cell_type": "code",
   "execution_count": null,
   "metadata": {},
   "outputs": [],
   "source": [
    "sample_mean=snow_avg_nino\n",
    "sample_N=1\n",
    "population_mean=np.mean(P_Bootstrap_mean)\n",
    "population_std=np.std(P_Bootstrap_mean)\n",
    "xstd=population_std/np.sqrt(sample_N)\n",
    "z_nino=(sample_mean-population_mean)/xstd\n",
    "print(\"sample_mean - El Nino: \",np.str(np.round(sample_mean,2)))\n",
    "print(\"population_mean: \",np.str(np.round(population_mean,2)))\n",
    "print(\"population_std: \",np.str(np.round(population_std,2)))\n",
    "print(\"Z-statistic (number of standard errors that the sample mean deviates from the population mean:\")\n",
    "print(np.round(z_nino,2))\n",
    "prob=(1-stats.norm.cdf(np.abs(z_nino)))*100 ##this is a one-sided test\n",
    "print(\"Probability one-tailed test (percent):\")\n",
    "print(np.round(prob,2)) "
   ]
  },
  {
   "cell_type": "markdown",
   "metadata": {},
   "source": [
    "What is the probability that the mean snowfall during El Nino differs from the population mean by chance? <br>\n",
    "Using Barnes equation (1.83) on page 21 to calculate probability using z-statistic from our bootstrapped distribution"
   ]
  },
  {
   "cell_type": "code",
   "execution_count": null,
   "metadata": {},
   "outputs": [],
   "source": [
    "sample_mean=snow_avg_nino\n",
    "sample_N=1\n",
    "population_mean=np.mean(P_Bootstrap_mean)\n",
    "population_std=np.std(P_Bootstrap_mean)\n",
    "xstd=population_std/np.sqrt(sample_N)\n",
    "z_nino=(sample_mean-population_mean)/xstd\n",
    "print(\"sample_mean - El Nino: \",np.str(np.round(sample_mean,2)))\n",
    "print(\"population_mean: \",np.str(np.round(population_mean,2)))\n",
    "print(\"population_std: \",np.str(np.round(population_std,2)))\n",
    "print(\"Z-statistic (number of standard errors that the sample mean deviates from the population mean):\")\n",
    "print(np.round(z_nino,2))\n",
    "prob=(1-stats.norm.cdf(np.abs(z_nino)))*2*100 ##this is a two-sided test\n",
    "print(\"Probability - two-tailed test (percent):\")\n",
    "print(np.round(prob,2)) "
   ]
  },
  {
   "cell_type": "markdown",
   "metadata": {},
   "source": [
    "Why is there a different probability for these two calculations?"
   ]
  },
  {
   "cell_type": "markdown",
   "metadata": {},
   "source": [
    "Insert answer here."
   ]
  },
  {
   "cell_type": "markdown",
   "metadata": {},
   "source": [
    "Let's repeat for La Niña: <br>\n",
    "What is the probability that the snowfall was higher during La Nina just due to chance? <br>\n",
    "Using Barnes equation (1.83) on page 21 to calculate probability using z-statistic from our bootstrapped distribution"
   ]
  },
  {
   "cell_type": "code",
   "execution_count": null,
   "metadata": {},
   "outputs": [],
   "source": [
    "sample_mean=snow_avg_nina\n",
    "sample_N=1\n",
    "population_mean=np.mean(P_Bootstrap_mean)\n",
    "population_std=np.std(P_Bootstrap_mean)\n",
    "xstd=population_std/np.sqrt(sample_N)\n",
    "z_nina=(sample_mean-population_mean)/xstd\n",
    "\n",
    "print(\"sample_mean - La Nina: \",np.str(np.round(sample_mean,2)))\n",
    "print(\"population_mean: \",np.str(np.round(population_mean,2)))\n",
    "print(\"population_std: \",np.str(np.round(population_std,2)))\n",
    "print(\"Z-statistic (number of standard errors that the sample mean deviates from the population mean:\")\n",
    "print(np.round(z_nina,2))\n",
    "prob=(1-stats.norm.cdf(np.abs(z_nina)))*100 ##this is a one-sided test\n",
    "print(\"Probability one-tailed test (percent):\")\n",
    "print(np.round(prob,2)) "
   ]
  },
  {
   "cell_type": "markdown",
   "metadata": {},
   "source": [
    "What is the probability that the snowfall during La Nina differed just due to chance? <br>\n",
    "Using Barnes equation (1.83) on page 21 to calculate probability using z-statistic from our bootstrapped distribution"
   ]
  },
  {
   "cell_type": "code",
   "execution_count": null,
   "metadata": {},
   "outputs": [],
   "source": [
    "sample_mean=snow_avg_nina\n",
    "sample_N=1\n",
    "population_mean=np.mean(P_Bootstrap_mean)\n",
    "population_std=np.std(P_Bootstrap_mean)\n",
    "xstd=population_std/np.sqrt(sample_N)\n",
    "z_nina=(sample_mean-population_mean)/xstd\n",
    "\n",
    "print(\"sample_mean - La Nina: \",np.str(np.round(sample_mean,2)))\n",
    "print(\"population_mean: \",np.str(np.round(population_mean,2)))\n",
    "print(\"population_std: \",np.str(np.round(population_std,2)))\n",
    "print(\"Z-statistic (number of standard errors that the sample mean deviates from the population mean):\")\n",
    "print(np.round(z_nina,2))\n",
    "prob=(1-stats.norm.cdf(np.abs(z_nina)))*2*100 ##this is a two-sided test\n",
    "print(\"Probability - two-tailed test (percent):\")\n",
    "print(np.round(prob,2)) "
   ]
  },
  {
   "cell_type": "markdown",
   "metadata": {},
   "source": [
    "What does this say about snowfall during La Niñas as compared to the rest of the population?"
   ]
  },
  {
   "cell_type": "markdown",
   "metadata": {},
   "source": [
    "Insert answer here"
   ]
  },
  {
   "cell_type": "markdown",
   "metadata": {},
   "source": [
    "#### Strategy #2:  Forget bootstrapping, let's use a t-test...\n",
    "Apply a t-test to test the null hypothesis that the means of the two samples are the same at the 95% confidence level (alpha=0.025, two-sided test) <br>\n",
    "If pvalue < alpha - reject null hypothesis."
   ]
  },
  {
   "cell_type": "code",
   "execution_count": null,
   "metadata": {},
   "outputs": [],
   "source": [
    "print('Null Hypothesis:  ENSO snow years have the same mean as the full record.')\n",
    "t=stats.ttest_ind(data[data['Nino34_anomaly_prevDec']>1.0]['Madison_TotalSnow_inches'],data['Madison_TotalSnow_inches'],equal_var=False)\n",
    "print(t)\n",
    "if t.pvalue<0.05:\n",
    "    print('Reject null hypothesis')\n",
    "else:\n",
    "    print('Cannot reject the null hypthesis.')\n"
   ]
  },
  {
   "cell_type": "markdown",
   "metadata": {},
   "source": [
    "Wait a second - What is that function doing???  Let's check it against Barnes/Hartmann notes:"
   ]
  },
  {
   "cell_type": "markdown",
   "metadata": {},
   "source": [
    "Always code it yourself and understand what the function is doing.  \n",
    "Word to the wise - do not use python functions without checking them!!\n",
    "Let's find out what stats.ttest_ind is doing - It doesn't look like it is calculating the t-statistic\n",
    "as the difference between the sample mean and the population mean.  That calculation is below..."
   ]
  },
  {
   "cell_type": "code",
   "execution_count": null,
   "metadata": {},
   "outputs": [],
   "source": [
    "## Calculate the t-statistic using the Barnes Notes - Compare a sample mean and a population mean.\n",
    "## Barnes Eq. (1.96)\n",
    "N=len(data[data['Nino34_anomaly_prevDec']>1.0]['Madison_TotalSnow_inches'])\n",
    "print(N)\n",
    "sample_mean=np.mean(data[data['Nino34_anomaly_prevDec']>1.0]['Madison_TotalSnow_inches'])\n",
    "print(sample_mean)\n",
    "sample_std=np.std(data[data['Nino34_anomaly_prevDec']>1.0]['Madison_TotalSnow_inches'])\n",
    "print(sample_std)\n",
    "population_mean=np.mean(data['Madison_TotalSnow_inches'])\n",
    "\n",
    "## Using Barnes equation (1.96) to calculate probability using the t-statistic\n",
    "print(\"T-statistic:\")\n",
    "t=(sample_mean-population_mean)/(sample_std/(np.sqrt(N-1)))\n",
    "print(np.round(t,2))\n",
    "print(\"Probability (percent):\")\n",
    "prob=(1-stats.t.cdf(t,N-1))*100\n",
    "print(np.round(prob,2))"
   ]
  },
  {
   "cell_type": "markdown",
   "metadata": {},
   "source": [
    "Calculate the t-statistic using the Barnes Notes - Compare two sample means.  Equation (1.108) <br>\n",
    "This is also called Welch's t-test <br>\n",
    "It doesn't look like the function is calculating the t-statistic using Welch's t-test! <br>\n",
    "as the difference between the sample mean and the population mean.  That calculation is below... <br>\n",
    "Guess using the two sample means test (i.e., Eq. 100) vs sample/population means test (i.e., Barnes Eq. ) <br>"
   ]
  },
  {
   "cell_type": "code",
   "execution_count": null,
   "metadata": {},
   "outputs": [],
   "source": [
    "sampledata1=data['Madison_TotalSnow_inches']\n",
    "sampledata2=data[data.Nino34_anomaly_prevDec>1.0]['Madison_TotalSnow_inches']\n",
    "\n",
    "N1=len(sampledata1)\n",
    "N2=len(sampledata2)\n",
    "print(N1)\n",
    "print(N2)\n",
    "print()\n",
    "sample_mean1=np.mean(sampledata1)\n",
    "sample_mean2=np.mean(sampledata2)\n",
    "print(sample_mean1)\n",
    "print(sample_mean2)\n",
    "print()\n",
    "sample_std1=np.std(sampledata1)\n",
    "sample_std2=np.std(sampledata2)\n",
    "print(sample_std1)\n",
    "print(sample_std2)\n",
    "print()\n",
    "\n",
    "## Using Barnes equation (1.108) to calculate probability using the t-statistic\n",
    "s=np.sqrt((N1*sample_std1**2+N2*sample_std2**2)/(N1+N2-2))\n",
    "print('s:',s)\n",
    "#t=(sample_mean1-sample_mean2-0)/(s*np.sqrt(1/N1+1/N2))\n",
    "print(\"T-statistic using Welch's t-test:\")\n",
    "print(np.round(t,2))\n",
    "print(\"Probability (percent):\")\n",
    "prob=(1-stats.t.cdf(t,N-1))*100\n",
    "print(np.round(prob,2))"
   ]
  },
  {
   "cell_type": "markdown",
   "metadata": {},
   "source": [
    "#### Strategy #3 (provided by Vineel Yettella, now works at Apple)\n",
    "How different is the El Niño sample mean from the population mean? This time we use bootstrap the difference of the sample means."
   ]
  },
  {
   "cell_type": "code",
   "execution_count": null,
   "metadata": {},
   "outputs": [],
   "source": [
    "snow = data['Madison_TotalSnow_inches']\n",
    "snow_nino = data[data['Nino34_anomaly_prevDec']>1.0]['Madison_TotalSnow_inches']"
   ]
  },
  {
   "cell_type": "code",
   "execution_count": null,
   "metadata": {},
   "outputs": [],
   "source": [
    "#1. We choose a significance level for the hypothesis test\n",
    "alpha = 0.05\n",
    "\n",
    "#2. We start by setting up a null hypothesis H0.<br>\n",
    "#Our H0 will be that the difference in means of the two populations that the samples came from is equal to zero. <br>\n",
    "#We will use the bootstrap to test this null hypothesis. <br>\n",
    "\n",
    "#All hypothesis tests need a test statistic.\n",
    "#Here, we'll use the difference in sample means as the test statistic.\n",
    "#create array to hold bootstrapped test statistic values\n",
    "bootstrap_statistic = np.empty(10000)\n",
    "\n",
    "#bootstrap 10000 times\n",
    "for i in range(1,10000):\n",
    "\n",
    "    #create a resample of snowfall by sampling with replacement (same length as snowfall)\n",
    "    resample_original = np.random.choice(snow, len(snow), replace=True)\n",
    "    \n",
    "    #create a resample of snow_nino by sampling with replacement (same length as snow_nino)\n",
    "    resample_nino = np.random.choice(snow_nino, len(snow_nino), replace=True)\n",
    "    \n",
    "    #Compute the test statistic from the resampled data, i.e., the difference in means\n",
    "    bootstrap_statistic[i] = np.mean(resample_original) - np.mean(resample_nino)\n",
    "\n"
   ]
  },
  {
   "cell_type": "markdown",
   "metadata": {},
   "source": [
    "Let's plot the distribution of the test statistic - gives us the confidence interval (CI) <br>\n",
    "\n",
    "Create 95% CI from the bootstrapped distribution. The upper limit of the CI is defined as the 97.5% percentile and the lower limit as the 2.5% percentile of the boostrap distribution, so that 95% of the distribution lies within the two limits"
   ]
  },
  {
   "cell_type": "code",
   "execution_count": null,
   "metadata": {},
   "outputs": [],
   "source": [
    "plt.hist(bootstrap_statistic,np.arange(-12,12.1,0.5),edgecolor='black')\n",
    "plt.xlabel('Difference in sample means')\n",
    "plt.ylabel('Count')\n",
    "plt.title('Bootstrap distribution of difference in sample means')\n",
    "\n",
    "CI_up = np.percentile(bootstrap_statistic, 100*(1 - alpha/2.0))\n",
    "CI_lo = np.percentile(bootstrap_statistic, 100*(alpha/2.0))\n",
    "\n",
    "print(CI_up)\n",
    "print(CI_lo)"
   ]
  },
  {
   "cell_type": "markdown",
   "metadata": {},
   "source": [
    "We see that the confidence interval contains zero, so we fail to reject the null hypothesis that the difference in means is equal to zero."
   ]
  },
  {
   "cell_type": "markdown",
   "metadata": {},
   "source": [
    "Looking back on all three strategies, what overall conclusion do you take away regarding Madison snowpack during El Niño and La Niña years?"
   ]
  },
  {
   "cell_type": "markdown",
   "metadata": {},
   "source": [
    "Insert answer here."
   ]
  },
  {
   "cell_type": "markdown",
   "metadata": {},
   "source": [
    "What other research strategies might you try if you wanted to determine if there is a relationship between ENSO and Madison snowpack?"
   ]
  },
  {
   "cell_type": "markdown",
   "metadata": {},
   "source": [
    "Insert answer here."
   ]
  },
  {
   "cell_type": "code",
   "execution_count": null,
   "metadata": {},
   "outputs": [],
   "source": []
  }
 ],
 "metadata": {
  "kernelspec": {
   "display_name": "Python 3",
   "language": "python",
   "name": "python3"
  },
  "language_info": {
   "codemirror_mode": {
    "name": "ipython",
    "version": 3
   },
   "file_extension": ".py",
   "mimetype": "text/x-python",
   "name": "python",
   "nbconvert_exporter": "python",
   "pygments_lexer": "ipython3",
   "version": "3.7.3"
  }
 },
 "nbformat": 4,
 "nbformat_minor": 4
}
