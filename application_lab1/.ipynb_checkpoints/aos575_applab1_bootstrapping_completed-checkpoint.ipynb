{
 "cells": [
  {
   "cell_type": "markdown",
   "metadata": {},
   "source": [
    "#### AOS 575 Application Lab 1: Bootstrapping\n",
    "Originally coded by Prof. Kay (CU) with input from Vineel Yettella (CU ATOC Ph.D. 2018), last updated September 2, 2020 <br>\n",
    "Updated/adapted for UW AOS by Prof. Maroon (UWisc); Switched from Loveland SWE -> Madison Total Snow<br>\n",
    "Last Updated: September 14, 2020"
   ]
  },
  {
   "cell_type": "markdown",
   "metadata": {},
   "source": [
    "LEARNING GOALS:<br>\n",
    "1) Working in an ipython notebook: read in csv file, make histogram plot<br>\n",
    "2) Assessing statistical significance using bootstrapping <br>\n",
    "3) Compare statistical significance via bootstrapping to significance via t-test\n"
   ]
  },
  {
   "cell_type": "code",
   "execution_count": 1,
   "metadata": {},
   "outputs": [],
   "source": [
    "#import packages\n",
    "import matplotlib                   # library for plotting\n",
    "import matplotlib.pyplot as plt     #  later you will type plt.$COMMAND\n",
    "import numpy as np                  # basic math library  you will type np.$STUFF  e.g., np.cos(1)\n",
    "import pandas as pd                 # library for data analysis for text files (everything but netcdf files)\n",
    "import scipy.stats as stats         # imports stats functions https://docs.scipy.org/doc/scipy/reference/stats.html "
   ]
  },
  {
   "cell_type": "code",
   "execution_count": 2,
   "metadata": {},
   "outputs": [
    {
     "data": {
      "text/html": [
       "<div>\n",
       "<style scoped>\n",
       "    .dataframe tbody tr th:only-of-type {\n",
       "        vertical-align: middle;\n",
       "    }\n",
       "\n",
       "    .dataframe tbody tr th {\n",
       "        vertical-align: top;\n",
       "    }\n",
       "\n",
       "    .dataframe thead th {\n",
       "        text-align: right;\n",
       "    }\n",
       "</style>\n",
       "<table border=\"1\" class=\"dataframe\">\n",
       "  <thead>\n",
       "    <tr style=\"text-align: right;\">\n",
       "      <th></th>\n",
       "      <th>Year</th>\n",
       "      <th>Madison_TotalSnow_inches</th>\n",
       "      <th>Nino34_anomaly_prevDec</th>\n",
       "    </tr>\n",
       "  </thead>\n",
       "  <tbody>\n",
       "    <tr>\n",
       "      <th>0</th>\n",
       "      <td>1936</td>\n",
       "      <td>52.5</td>\n",
       "      <td>-0.04</td>\n",
       "    </tr>\n",
       "    <tr>\n",
       "      <th>1</th>\n",
       "      <td>1937</td>\n",
       "      <td>28.5</td>\n",
       "      <td>0.63</td>\n",
       "    </tr>\n",
       "    <tr>\n",
       "      <th>2</th>\n",
       "      <td>1938</td>\n",
       "      <td>28.0</td>\n",
       "      <td>0.22</td>\n",
       "    </tr>\n",
       "    <tr>\n",
       "      <th>3</th>\n",
       "      <td>1939</td>\n",
       "      <td>34.3</td>\n",
       "      <td>-0.79</td>\n",
       "    </tr>\n",
       "    <tr>\n",
       "      <th>4</th>\n",
       "      <td>1940</td>\n",
       "      <td>35.9</td>\n",
       "      <td>0.05</td>\n",
       "    </tr>\n",
       "  </tbody>\n",
       "</table>\n",
       "</div>"
      ],
      "text/plain": [
       "   Year  Madison_TotalSnow_inches  Nino34_anomaly_prevDec\n",
       "0  1936                      52.5                   -0.04\n",
       "1  1937                      28.5                    0.63\n",
       "2  1938                      28.0                    0.22\n",
       "3  1939                      34.3                   -0.79\n",
       "4  1940                      35.9                    0.05"
      ]
     },
     "execution_count": 2,
     "metadata": {},
     "output_type": "execute_result"
    }
   ],
   "source": [
    "### Read in the data\n",
    "filename='snow_enso_data.csv'\n",
    "data=pd.read_csv(filename,sep=',')\n",
    "data.head()"
   ]
  },
  {
   "cell_type": "markdown",
   "metadata": {},
   "source": [
    "Print the data column names so that we know what we've got:"
   ]
  },
  {
   "cell_type": "code",
   "execution_count": 3,
   "metadata": {},
   "outputs": [
    {
     "name": "stdout",
     "output_type": "stream",
     "text": [
      "Year\n",
      "Madison_TotalSnow_inches\n",
      "Nino34_anomaly_prevDec\n"
     ]
    }
   ],
   "source": [
    "print(data.columns[0])\n",
    "print(data.columns[1])\n",
    "print(data.columns[2])"
   ]
  },
  {
   "cell_type": "markdown",
   "metadata": {},
   "source": [
    "Print the data values - LOOK AT YOUR DATA.  If new to Python - check out what happens when you remove .values. Uncomment the lines below:"
   ]
  },
  {
   "cell_type": "code",
   "execution_count": 4,
   "metadata": {},
   "outputs": [],
   "source": [
    "#print(data['Year'].values)\n",
    "#print(data['Madison_TotalSnow_inches'].values)\n",
    "#print(data['Nino34_anomaly_prevDec'].values)"
   ]
  },
  {
   "cell_type": "markdown",
   "metadata": {},
   "source": [
    "Calculate the average and standard deviation of snowfall on April 1 at Loveland Pass, Colorado. "
   ]
  },
  {
   "cell_type": "code",
   "execution_count": 5,
   "metadata": {},
   "outputs": [
    {
     "name": "stdout",
     "output_type": "stream",
     "text": [
      "Average Total Snow (inches): 44.04\n",
      "Standard Deviation Total Snow (inches): 15.87\n",
      "N: 75\n"
     ]
    }
   ],
   "source": [
    "snow_avg=data['Madison_TotalSnow_inches'].mean()\n",
    "snow_std=data['Madison_TotalSnow_inches'].std()\n",
    "N_snow=len(data['Madison_TotalSnow_inches'])\n",
    "print('Average Total Snow (inches):',np.str(np.round(snow_avg,2)))\n",
    "print('Standard Deviation Total Snow (inches):',np.str(np.round(snow_std,2)))\n",
    "print('N:',np.str(N_snow))"
   ]
  },
  {
   "cell_type": "markdown",
   "metadata": {},
   "source": [
    "Print to figure out how to condition and make sure it is working. Uncomment as needed:"
   ]
  },
  {
   "cell_type": "code",
   "execution_count": 6,
   "metadata": {},
   "outputs": [],
   "source": [
    "#print(data['Nino34_anomaly_prevDec']>1)        ## this gives True/False\n",
    "#print(data[data['Nino34_anomaly_prevDec']>1])  ## where it is True, values will print"
   ]
  },
  {
   "cell_type": "markdown",
   "metadata": {},
   "source": [
    "Calculate the average SWE when it was an El Niño year:"
   ]
  },
  {
   "cell_type": "code",
   "execution_count": 7,
   "metadata": {},
   "outputs": [
    {
     "name": "stdout",
     "output_type": "stream",
     "text": [
      "Average SWE El Nino (inches): 42.21\n",
      "Standard Deviation Total Snow El Nino (inches): 12.94\n",
      "N El Nino: 15\n"
     ]
    }
   ],
   "source": [
    "thresh= 1.0\n",
    "\n",
    "snow_avg_nino=data[data['Nino34_anomaly_prevDec']>thresh]['Madison_TotalSnow_inches'].mean()\n",
    "snow_std_nino=data[data['Nino34_anomaly_prevDec']>thresh]['Madison_TotalSnow_inches'].std()\n",
    "N_snow_nino=len(data[data['Nino34_anomaly_prevDec']>thresh]['Madison_TotalSnow_inches'])\n",
    "print('Average SWE El Nino (inches):',np.str(np.round(snow_avg_nino,2)))\n",
    "print('Standard Deviation Total Snow El Nino (inches):',np.str(np.round(snow_std_nino,2)))\n",
    "print('N El Nino:',np.str(N_snow_nino))"
   ]
  },
  {
   "cell_type": "markdown",
   "metadata": {},
   "source": [
    "What is the sample size of our subselected El Niño years?"
   ]
  },
  {
   "cell_type": "code",
   "execution_count": 8,
   "metadata": {},
   "outputs": [
    {
     "name": "stdout",
     "output_type": "stream",
     "text": [
      "Average Total La Nina (inches): 49.08\n",
      "Standard Deviation Total Snow La Nina (inches): 19.76\n",
      "N La Nina: 13\n"
     ]
    }
   ],
   "source": [
    "snow_avg_nina=data[data['Nino34_anomaly_prevDec']<-thresh]['Madison_TotalSnow_inches'].mean()\n",
    "snow_std_nina=data[data['Nino34_anomaly_prevDec']<-thresh]['Madison_TotalSnow_inches'].std()\n",
    "N_snow_nina=len(data[data['Nino34_anomaly_prevDec']<-thresh]['Madison_TotalSnow_inches'])\n",
    "print('Average Total La Nina (inches):',np.str(np.round(snow_avg_nina,2)))\n",
    "print('Standard Deviation Total Snow La Nina (inches):',np.str(np.round(snow_std_nina,2)))\n",
    "print('N La Nina:',np.str(N_snow_nina))"
   ]
  },
  {
   "cell_type": "markdown",
   "metadata": {},
   "source": [
    "Here's where the bootstrapping occurs!! Generate random samples of size N_SWE_nino and N_SWE_nina. Do it a couple of times to see what happens"
   ]
  },
  {
   "cell_type": "code",
   "execution_count": 9,
   "metadata": {},
   "outputs": [
    {
     "name": "stdout",
     "output_type": "stream",
     "text": [
      "[ 60.5  43.9  52.2 101.4  21.9  31.1  55.   42.9  72.4  56.7  52.2  50.3\n",
      "  51.6  31.6  31.8]\n"
     ]
    }
   ],
   "source": [
    "P_random=np.random.choice(data['Madison_TotalSnow_inches'],N_snow_nino) \n",
    "print(P_random)  ## LOOK AT YOUR DATA"
   ]
  },
  {
   "cell_type": "markdown",
   "metadata": {},
   "source": [
    "Now Bootstrap Nbs times to generate a distribution of randomly selected mean SWE. Make sure you understand what each of the printed numbers means:"
   ]
  },
  {
   "cell_type": "code",
   "execution_count": 10,
   "metadata": {},
   "outputs": [
    {
     "name": "stdout",
     "output_type": "stream",
     "text": [
      "1000\n",
      "(1000,)\n",
      "43.92758\n",
      "4.212185161230319\n",
      "32.17333333333333\n",
      "58.81333333333334\n"
     ]
    }
   ],
   "source": [
    "Nbs=1000\n",
    "## initialize empty array\n",
    "P_Bootstrap=np.empty((Nbs,N_snow_nino))\n",
    "## loop over to fill in array with randomly selected values\n",
    "for ii in range(Nbs):\n",
    "    P_Bootstrap[ii,:]=np.random.choice(data['Madison_TotalSnow_inches'],N_snow_nino)\n",
    "\n",
    "## Calculate the means of your randomly selected SWE values.\n",
    "P_Bootstrap_mean=np.mean(P_Bootstrap,axis=1)\n",
    "print(len(P_Bootstrap_mean))  ## check length to see if you averaged across the correct axis\n",
    "print(np.shape(P_Bootstrap_mean)) ## another option to look at the dimensions of a variable\n",
    "\n",
    "P_Bootstrap_mean_avg=np.mean(P_Bootstrap_mean)\n",
    "print(P_Bootstrap_mean_avg)\n",
    "P_Bootstrap_mean_std=np.std(P_Bootstrap_mean)\n",
    "print(P_Bootstrap_mean_std)\n",
    "P_Bootstrap_mean_min=np.min(P_Bootstrap_mean)\n",
    "print(P_Bootstrap_mean_min)\n",
    "P_Bootstrap_mean_max=np.max(P_Bootstrap_mean)\n",
    "print(P_Bootstrap_mean_max)"
   ]
  },
  {
   "cell_type": "markdown",
   "metadata": {},
   "source": [
    "What happens if you re-submit the cell above? Why? "
   ]
  },
  {
   "cell_type": "markdown",
   "metadata": {},
   "source": [
    "<b>Insert answer here:</b> The bootstrapped means, stds, mins, and maxes all change very slightly. This is because the bootstrapping routine relies on a random number generator, so the answers will be slightly different each time. With a larger Nbs (say 10000), the run-to-run differences are smaller."
   ]
  },
  {
   "cell_type": "markdown",
   "metadata": {},
   "source": [
    "Use matplotlib to plot a histogram of the bootstrapped means to compare to the conditioned SWE mean:"
   ]
  },
  {
   "cell_type": "code",
   "execution_count": 11,
   "metadata": {},
   "outputs": [
    {
     "data": {
      "image/png": "[encoded data removed]",
      "text/plain": [
       "<Figure size 432x288 with 1 Axes>"
      ]
     },
     "metadata": {
      "needs_background": "light"
     },
     "output_type": "display_data"
    }
   ],
   "source": [
    "binsize=0.5\n",
    "min4hist=np.round(np.min(P_Bootstrap_mean),1)-binsize\n",
    "max4hist=np.round(np.max(P_Bootstrap_mean),1)+binsize\n",
    "nbins=int((max4hist-min4hist)/binsize)\n",
    "\n",
    "plt.hist(P_Bootstrap_mean,nbins,edgecolor='black')\n",
    "plt.xlabel('Mean Total Snow (inches)');\n",
    "plt.ylabel('Count');\n",
    "plt.title('Bootstrapped Randomly Selected Mean Total Snow Values');"
   ]
  },
  {
   "cell_type": "markdown",
   "metadata": {},
   "source": [
    "In your own words, describe what this histogram means:"
   ]
  },
  {
   "cell_type": "markdown",
   "metadata": {},
   "source": [
    "<b>Insert answer here:</b> The sample means in the above histogram are calculated from subselections that have the same size as N_snow_nino (the number 15 El Nino winters). Each count = one mean calculated from randomly-subselected values from the whole dataset. The histogram is built of 1000 repititions of this process.  The mean of all of these bootstrapped sample means is close to the true population mean (44 inches). The maximum mean of 57 inches is the maximum possible sample mean when drawing random possible values.  "
   ]
  },
  {
   "cell_type": "markdown",
   "metadata": {},
   "source": [
    "#### Strategy 1: Let's assess probability of El Niño years having different snowpack using our bootstrapped distribution\n",
    "What is the probability that the snowfall was lower during El Niño by chance? <br>\n",
    "Using Barnes equation (1.83) on page 21  to calculate probability using the z-statistic from our bootstrapped distribution:"
   ]
  },
  {
   "cell_type": "code",
   "execution_count": 12,
   "metadata": {},
   "outputs": [
    {
     "name": "stdout",
     "output_type": "stream",
     "text": [
      "sample_mean - El Nino:  42.21\n",
      "population_mean:  43.93\n",
      "population_std:  4.21\n",
      "Z-statistic (number of standard errors that the sample mean deviates from the population mean:\n",
      "-0.41\n",
      "Probability one-tailed test (percent):\n",
      "34.14\n"
     ]
    }
   ],
   "source": [
    "sample_mean=snow_avg_nino\n",
    "sample_N=1\n",
    "population_mean=np.mean(P_Bootstrap_mean)\n",
    "population_std=np.std(P_Bootstrap_mean)\n",
    "xstd=population_std/np.sqrt(sample_N)\n",
    "z_nino=(sample_mean-population_mean)/xstd\n",
    "print(\"sample_mean - El Nino: \",np.str(np.round(sample_mean,2)))\n",
    "print(\"population_mean: \",np.str(np.round(population_mean,2)))\n",
    "print(\"population_std: \",np.str(np.round(population_std,2)))\n",
    "print(\"Z-statistic (number of standard errors that the sample mean deviates from the population mean:\")\n",
    "print(np.round(z_nino,2))\n",
    "prob=(1-stats.norm.cdf(np.abs(z_nino)))*100 ##this is a one-sided test\n",
    "print(\"Probability one-tailed test (percent):\")\n",
    "print(np.round(prob,2)) "
   ]
  },
  {
   "cell_type": "markdown",
   "metadata": {},
   "source": [
    "What is the probability that the mean snowfall during El Nino differs from the population mean by chance? <br>\n",
    "Using Barnes equation (1.83) on page 21 to calculate probability using z-statistic from our bootstrapped distribution"
   ]
  },
  {
   "cell_type": "code",
   "execution_count": 13,
   "metadata": {},
   "outputs": [
    {
     "name": "stdout",
     "output_type": "stream",
     "text": [
      "sample_mean - El Nino:  42.21\n",
      "population_mean:  43.93\n",
      "population_std:  4.21\n",
      "Z-statistic (number of standard errors that the sample mean deviates from the population mean):\n",
      "-0.41\n",
      "Probability - two-tailed test (percent):\n",
      "68.29\n"
     ]
    }
   ],
   "source": [
    "sample_mean=snow_avg_nino\n",
    "sample_N=1\n",
    "population_mean=np.mean(P_Bootstrap_mean)\n",
    "population_std=np.std(P_Bootstrap_mean)\n",
    "xstd=population_std/np.sqrt(sample_N)\n",
    "z_nino=(sample_mean-population_mean)/xstd\n",
    "print(\"sample_mean - El Nino: \",np.str(np.round(sample_mean,2)))\n",
    "print(\"population_mean: \",np.str(np.round(population_mean,2)))\n",
    "print(\"population_std: \",np.str(np.round(population_std,2)))\n",
    "print(\"Z-statistic (number of standard errors that the sample mean deviates from the population mean):\")\n",
    "print(np.round(z_nino,2))\n",
    "prob=(1-stats.norm.cdf(np.abs(z_nino)))*2*100 ##this is a two-sided test\n",
    "print(\"Probability - two-tailed test (percent):\")\n",
    "print(np.round(prob,2)) "
   ]
  },
  {
   "cell_type": "markdown",
   "metadata": {},
   "source": [
    "Why is there a different probability for these two calculations?"
   ]
  },
  {
   "cell_type": "markdown",
   "metadata": {},
   "source": [
    "<b>Insert answer here:</b> These two calculations have different a priori questions that allow for one to use a 1-tailed rather than 2-tailed test. \"What is the probability that the snowfall was <b>lower</b> during El Niño by chance?\" has a sign (lower) assigned to it. That means we're only testing one side of the distribution (the lower end).  while \"What is the probability that the mean snowfall during El Nino differs from the population mean by chance?\" has no sign assumptions attached. "
   ]
  },
  {
   "cell_type": "markdown",
   "metadata": {},
   "source": [
    "Let's repeat for La Niña: <br>\n",
    "What is the probability that the snowfall was higher during La Nina just due to chance? <br>\n",
    "Using Barnes equation (1.83) on page 21 to calculate probability using z-statistic from our bootstrapped distribution"
   ]
  },
  {
   "cell_type": "code",
   "execution_count": 14,
   "metadata": {},
   "outputs": [
    {
     "name": "stdout",
     "output_type": "stream",
     "text": [
      "1000\n",
      "(1000,)\n",
      "43.771269230769235\n",
      "4.507748088227988\n",
      "30.10769230769231\n",
      "62.53076923076924\n"
     ]
    }
   ],
   "source": [
    "Nbs=1000\n",
    "## initialize empty array\n",
    "P_Bootstrap=np.empty((Nbs,N_snow_nina))\n",
    "## loop over to fill in array with randomly selected values\n",
    "for ii in range(Nbs):\n",
    "    P_Bootstrap[ii,:]=np.random.choice(data['Madison_TotalSnow_inches'],N_snow_nina)\n",
    "\n",
    "## Calculate the means of your randomly selected snow total values.\n",
    "P_Bootstrap_mean=np.mean(P_Bootstrap,axis=1)\n",
    "print(len(P_Bootstrap_mean))  ## check length to see if you averaged across the correct axis\n",
    "print(np.shape(P_Bootstrap_mean)) ## another option to look at the dimensions of a variable\n",
    "\n",
    "P_Bootstrap_mean_avg=np.mean(P_Bootstrap_mean)\n",
    "print(P_Bootstrap_mean_avg)\n",
    "P_Bootstrap_mean_std=np.std(P_Bootstrap_mean)\n",
    "print(P_Bootstrap_mean_std)\n",
    "P_Bootstrap_mean_min=np.min(P_Bootstrap_mean)\n",
    "print(P_Bootstrap_mean_min)\n",
    "P_Bootstrap_mean_max=np.max(P_Bootstrap_mean)\n",
    "print(P_Bootstrap_mean_max)"
   ]
  },
  {
   "cell_type": "code",
   "execution_count": 15,
   "metadata": {},
   "outputs": [
    {
     "name": "stdout",
     "output_type": "stream",
     "text": [
      "sample_mean - La Nina:  49.08\n",
      "population_mean:  43.77\n",
      "population_std:  4.51\n",
      "Z-statistic (number of standard errors that the sample mean deviates from the population mean:\n",
      "1.18\n",
      "Probability one-tailed test (percent):\n",
      "11.96\n"
     ]
    }
   ],
   "source": [
    "sample_mean=snow_avg_nina\n",
    "sample_N=1\n",
    "population_mean=np.mean(P_Bootstrap_mean)\n",
    "population_std=np.std(P_Bootstrap_mean)\n",
    "xstd=population_std/np.sqrt(sample_N)\n",
    "z_nina=(sample_mean-population_mean)/xstd\n",
    "\n",
    "print(\"sample_mean - La Nina: \",np.str(np.round(sample_mean,2)))\n",
    "print(\"population_mean: \",np.str(np.round(population_mean,2)))\n",
    "print(\"population_std: \",np.str(np.round(population_std,2)))\n",
    "print(\"Z-statistic (number of standard errors that the sample mean deviates from the population mean:\")\n",
    "print(np.round(z_nina,2))\n",
    "prob=(1-stats.norm.cdf(np.abs(z_nina)))*100 ##this is a one-sided test\n",
    "print(\"Probability one-tailed test (percent):\")\n",
    "print(np.round(prob,2)) "
   ]
  },
  {
   "cell_type": "markdown",
   "metadata": {},
   "source": [
    "What is the probability that the snowfall during La Nina differed just due to chance? <br>\n",
    "Using Barnes equation (1.83) on page 21 to calculate probability using z-statistic from our bootstrapped distribution"
   ]
  },
  {
   "cell_type": "code",
   "execution_count": 16,
   "metadata": {},
   "outputs": [
    {
     "name": "stdout",
     "output_type": "stream",
     "text": [
      "sample_mean - La Nina:  49.08\n",
      "population_mean:  43.77\n",
      "population_std:  4.51\n",
      "Z-statistic (number of standard errors that the sample mean deviates from the population mean):\n",
      "1.18\n",
      "Probability - two-tailed test (percent):\n",
      "23.92\n"
     ]
    }
   ],
   "source": [
    "sample_mean=snow_avg_nina\n",
    "sample_N=1\n",
    "population_mean=np.mean(P_Bootstrap_mean)\n",
    "population_std=np.std(P_Bootstrap_mean)\n",
    "xstd=population_std/np.sqrt(sample_N)\n",
    "z_nina=(sample_mean-population_mean)/xstd\n",
    "\n",
    "print(\"sample_mean - La Nina: \",np.str(np.round(sample_mean,2)))\n",
    "print(\"population_mean: \",np.str(np.round(population_mean,2)))\n",
    "print(\"population_std: \",np.str(np.round(population_std,2)))\n",
    "print(\"Z-statistic (number of standard errors that the sample mean deviates from the population mean):\")\n",
    "print(np.round(z_nina,2))\n",
    "prob=(1-stats.norm.cdf(np.abs(z_nina)))*2*100 ##this is a two-sided test\n",
    "print(\"Probability - two-tailed test (percent):\")\n",
    "print(np.round(prob,2)) "
   ]
  },
  {
   "cell_type": "markdown",
   "metadata": {},
   "source": [
    "What does this say about snowfall during La Niñas as compared to the rest of the population?"
   ]
  },
  {
   "cell_type": "markdown",
   "metadata": {},
   "source": [
    "<b>Insert answer here:</b> To 5% significance, we cannot statistically distinguish snow fall during La Nina years compared to the climatology. Statistically and without another line of evidence, it's likely that La Nina snowfall is no different from what occurs in any other year."
   ]
  },
  {
   "cell_type": "markdown",
   "metadata": {},
   "source": [
    "#### Strategy #2:  Forget bootstrapping, let's use a t-test...\n",
    "Apply a t-test to test the null hypothesis that the means of the two samples are the same at the 95% confidence level (alpha=0.025, two-sided test) <br>\n",
    "If pvalue < alpha - reject null hypothesis."
   ]
  },
  {
   "cell_type": "code",
   "execution_count": 17,
   "metadata": {},
   "outputs": [
    {
     "name": "stdout",
     "output_type": "stream",
     "text": [
      "Null Hypothesis:  ENSO snow years have the same mean as the full record.\n",
      "Ttest_indResult(statistic=-0.4810062342641833, pvalue=0.6350002524982791)\n",
      "Cannot reject the null hypthesis.\n"
     ]
    }
   ],
   "source": [
    "print('Null Hypothesis:  ENSO snow years have the same mean as the full record.')\n",
    "t=stats.ttest_ind(data[data['Nino34_anomaly_prevDec']>1.0]['Madison_TotalSnow_inches'],data['Madison_TotalSnow_inches'],equal_var=False)\n",
    "print(t)\n",
    "if t.pvalue<0.05:\n",
    "    print('Reject null hypothesis')\n",
    "else:\n",
    "    print('Cannot reject the null hypthesis.')\n"
   ]
  },
  {
   "cell_type": "markdown",
   "metadata": {},
   "source": [
    "Wait a second - What is that function doing???  Let's check it against Barnes/Hartmann notes:"
   ]
  },
  {
   "cell_type": "markdown",
   "metadata": {},
   "source": [
    "Always code it yourself and understand what the function is doing.  \n",
    "Word to the wise - do not use python functions without checking them!!\n",
    "Let's find out what stats.ttest_ind is doing - It doesn't look like it is calculating the t-statistic\n",
    "as the difference between the sample mean and the population mean.  That calculation is below..."
   ]
  },
  {
   "cell_type": "code",
   "execution_count": 18,
   "metadata": {},
   "outputs": [
    {
     "name": "stdout",
     "output_type": "stream",
     "text": [
      "15\n",
      "42.20666666666667\n",
      "12.504157530819723\n",
      "T-statistic:\n",
      "-0.55\n",
      "Probability (percent):\n",
      "70.4\n"
     ]
    }
   ],
   "source": [
    "## Calculate the t-statistic using the Barnes Notes - Compare a sample mean and a population mean.\n",
    "## Barnes Eq. (1.96)\n",
    "N=len(data[data['Nino34_anomaly_prevDec']>1.0]['Madison_TotalSnow_inches'])\n",
    "print(N)\n",
    "sample_mean=np.mean(data[data['Nino34_anomaly_prevDec']>1.0]['Madison_TotalSnow_inches'])\n",
    "print(sample_mean)\n",
    "sample_std=np.std(data[data['Nino34_anomaly_prevDec']>1.0]['Madison_TotalSnow_inches'])\n",
    "print(sample_std)\n",
    "population_mean=np.mean(data['Madison_TotalSnow_inches'])\n",
    "\n",
    "## Using Barnes equation (1.96) to calculate probability using the t-statistic\n",
    "print(\"T-statistic:\")\n",
    "t=(sample_mean-population_mean)/(sample_std/(np.sqrt(N-1)))\n",
    "print(np.round(t,2))\n",
    "print(\"Probability (percent):\")\n",
    "prob=(1-stats.t.cdf(t,N-1))*100\n",
    "print(np.round(prob,2))"
   ]
  },
  {
   "cell_type": "markdown",
   "metadata": {},
   "source": [
    "Calculate the t-statistic using the Barnes Notes - Compare two sample means.  Equation (1.108) <br>\n",
    "This is also called Welch's t-test <br>\n",
    "It doesn't look like the function is calculating the t-statistic using Welch's t-test! <br>\n",
    "as the difference between the sample mean and the population mean.  That calculation is below... <br>\n",
    "Guess using the two sample means test (i.e., Eq. 100) vs sample/population means test (i.e., Barnes Eq. ) <br>"
   ]
  },
  {
   "cell_type": "code",
   "execution_count": 19,
   "metadata": {},
   "outputs": [
    {
     "name": "stdout",
     "output_type": "stream",
     "text": [
      "75\n",
      "15\n",
      "\n",
      "44.040000000000006\n",
      "42.20666666666667\n",
      "\n",
      "15.766081736859459\n",
      "12.504157530819723\n",
      "\n",
      "s: 15.443448645319027\n",
      "T-statistic using Welch's t-test:\n",
      "-0.55\n",
      "Probability (percent):\n",
      "70.4\n"
     ]
    }
   ],
   "source": [
    "sampledata1=data['Madison_TotalSnow_inches']\n",
    "sampledata2=data[data.Nino34_anomaly_prevDec>1.0]['Madison_TotalSnow_inches']\n",
    "\n",
    "N1=len(sampledata1)\n",
    "N2=len(sampledata2)\n",
    "print(N1)\n",
    "print(N2)\n",
    "print()\n",
    "sample_mean1=np.mean(sampledata1)\n",
    "sample_mean2=np.mean(sampledata2)\n",
    "print(sample_mean1)\n",
    "print(sample_mean2)\n",
    "print()\n",
    "sample_std1=np.std(sampledata1)\n",
    "sample_std2=np.std(sampledata2)\n",
    "print(sample_std1)\n",
    "print(sample_std2)\n",
    "print()\n",
    "\n",
    "## Using Barnes equation (1.108) to calculate probability using the t-statistic\n",
    "s=np.sqrt((N1*sample_std1**2+N2*sample_std2**2)/(N1+N2-2))\n",
    "print('s:',s)\n",
    "#t=(sample_mean1-sample_mean2-0)/(s*np.sqrt(1/N1+1/N2))\n",
    "print(\"T-statistic using Welch's t-test:\")\n",
    "print(np.round(t,2))\n",
    "print(\"Probability (percent):\")\n",
    "prob=(1-stats.t.cdf(t,N-1))*100\n",
    "print(np.round(prob,2))"
   ]
  },
  {
   "cell_type": "markdown",
   "metadata": {},
   "source": [
    "#### Strategy #3 (provided by Vineel Yettella, now works at Apple)\n",
    "How different is the El Niño sample mean from the population mean? This time we use bootstrap the difference of the sample means."
   ]
  },
  {
   "cell_type": "code",
   "execution_count": 20,
   "metadata": {},
   "outputs": [],
   "source": [
    "snow = data['Madison_TotalSnow_inches']\n",
    "snow_nino = data[data['Nino34_anomaly_prevDec']>1.0]['Madison_TotalSnow_inches']"
   ]
  },
  {
   "cell_type": "code",
   "execution_count": 21,
   "metadata": {},
   "outputs": [],
   "source": [
    "#1. We choose a significance level for the hypothesis test\n",
    "alpha = 0.05\n",
    "\n",
    "#2. We start by setting up a null hypothesis H0.<br>\n",
    "#Our H0 will be that the difference in means of the two populations that the samples came from is equal to zero. <br>\n",
    "#We will use the bootstrap to test this null hypothesis. <br>\n",
    "\n",
    "#All hypothesis tests need a test statistic.\n",
    "#Here, we'll use the difference in sample means as the test statistic.\n",
    "#create array to hold bootstrapped test statistic values\n",
    "bootstrap_statistic = np.empty(10000)\n",
    "\n",
    "#bootstrap 10000 times\n",
    "for i in range(1,10000):\n",
    "    \n",
    "    #create a resample of snow total by sampling with replacement (same length as snow total)\n",
    "    resample_original = np.random.choice(snow, len(snow), replace=True)\n",
    "    \n",
    "    #create a resample of snow total by sampling with replacement (same length as snow_nino)\n",
    "    resample_nino = np.random.choice(snow_nino, len(snow_nino), replace=True)\n",
    "    \n",
    "    #Compute the test statistic from the resampled data, i.e., the difference in means\n",
    "    bootstrap_statistic[i] = np.mean(resample_original) - np.mean(resample_nino)\n",
    "\n"
   ]
  },
  {
   "cell_type": "markdown",
   "metadata": {},
   "source": [
    "Let's plot the distribution of the test statistic - gives us the confidence interval (CI) <br>\n",
    "\n",
    "Create 95% CI from the bootstrapped distribution. The upper limit of the CI is defined as the 97.5% percentile and the lower limit as the 2.5% percentile of the boostrap distribution, so that 95% of the distribution lies within the two limits"
   ]
  },
  {
   "cell_type": "code",
   "execution_count": 22,
   "metadata": {},
   "outputs": [
    {
     "name": "stdout",
     "output_type": "stream",
     "text": [
      "9.098733333333332\n",
      "-5.402833333333342\n"
     ]
    },
    {
     "data": {
      "image/png": "[encoded data removed]",
      "text/plain": [
       "<Figure size 432x288 with 1 Axes>"
      ]
     },
     "metadata": {
      "needs_background": "light"
     },
     "output_type": "display_data"
    }
   ],
   "source": [
    "plt.hist(bootstrap_statistic,np.arange(-12,12.1,0.5),edgecolor='black')\n",
    "plt.xlabel('Difference in sample means')\n",
    "plt.ylabel('Count')\n",
    "plt.title('Bootstrap distribution of difference in sample means')\n",
    "\n",
    "CI_up = np.percentile(bootstrap_statistic, 100*(1 - alpha/2.0))\n",
    "CI_lo = np.percentile(bootstrap_statistic, 100*(alpha/2.0))\n",
    "\n",
    "print(CI_up)\n",
    "print(CI_lo)"
   ]
  },
  {
   "cell_type": "markdown",
   "metadata": {},
   "source": [
    "We see that the confidence interval contains zero, so we fail to reject the null hypothesis that the difference in means is equal to zero."
   ]
  },
  {
   "cell_type": "markdown",
   "metadata": {},
   "source": [
    "Looking back on all three strategies, what overall conclusion do you take away regarding Madison snowpack during El Niño and La Niña years?"
   ]
  },
  {
   "cell_type": "markdown",
   "metadata": {},
   "source": [
    "<b>Insert answer here:</b>  Statistically, we cannot distinguish snowfall in El Nino or La Nina years from any other years. "
   ]
  },
  {
   "cell_type": "markdown",
   "metadata": {},
   "source": [
    "What other research strategies might you try if you wanted to determine if there is a relationship between ENSO and Madison snowpack?"
   ]
  },
  {
   "cell_type": "markdown",
   "metadata": {},
   "source": [
    "<b>Insert answer here:</b> A few possible ideas: <br>\n",
    "1) Use climate model simulations that have a larger sample size so that you can reassess the question with a greater sample. <br>\n",
    "2) Go back to the books and determine a physical mechanism that could connect the tropical Pacific to Wisconsin. Statistically examine data for each step in the process.<br>\n",
    "3) Conduct numerical model experiments (WRF? CESM? some other model) where you remove part of the key mechanism to see if Wisconsin snowfall is affected.  <br>\n",
    "4) Try other observational datasets to test the uncertainty in the observations. Observations contain errors in them!"
   ]
  },
  {
   "cell_type": "markdown",
   "metadata": {},
   "source": [
    "#### Questions from pdf:\n"
   ]
  },
  {
   "cell_type": "markdown",
   "metadata": {},
   "source": [
    "1. Complete the following table: \n",
    "\n",
    "\n",
    "|         | Population | El Nino | La Nina |\n",
    "|---------|------------|---------|---------|\n",
    "| Mean    | 44.04 in   | 42.21 in| 49.08 in|\n",
    "| Std dev | 15.87 in   | 12.94 in| 19.76 in|\n",
    "| N       | 75         | 15      | 13      |"
   ]
  },
  {
   "cell_type": "markdown",
   "metadata": {},
   "source": [
    "2. Use hypothesis testing to assess if the differences in snowpark are statistically significant.\n",
    "Write out the 5 steps and apply. Test your hypothesis using bootstrapping.\n"
   ]
  },
  {
   "cell_type": "markdown",
   "metadata": {},
   "source": [
    "a. State significance level: $\\alpha=0.05$. <br>\n",
    "b. State the null hypothesis H0 and alternative hypothesis H1: H0: Snowfall during El Nino/La Nina years is no different from the climatological snowfall. H1: Snowfall during El Nino/La Nina years is different from climatological snowfall. <br>\n",
    "c. State the statistic to be used and assumptions required to use it: If using bootstrapping, then we can use the Z-statistic because we are creating a distribution of sample means.  <br>\n",
    "d. State the critical region: Two-tailed test. z =  -1.96 to 1.96 for 95% significance <br>\n",
    "e. Evaluate the statistic and state the conclusion: Probability for El Nino (0.6511) and La Nina (0.2394) are both above the critical p-value (0.025). Equivalently, Z_El_Nino=-0.45 and Z_La_Nina=1.18: neither is outside the critical region.<br>\n"
   ]
  },
  {
   "cell_type": "markdown",
   "metadata": {},
   "source": [
    "3. Test the sensitivity of the results. Change the number of bootstraps. Change the\n",
    "significance level. Change the temperature threshold for El Niño/La Niña to +/-0.5 degrees\n",
    "Celsius or +/-2 degrees Celsius. Comment on how things change and how your conclusions\n",
    "are altered."
   ]
  },
  {
   "cell_type": "markdown",
   "metadata": {},
   "source": [
    "<b> Changing number of bootstraps:</b> <br>\n",
    "Increasing to 10,000: Results don't change much. Still can't reject null hypothesis. Distribution looks even more normal. <br>\n",
    "Decrease to 100: Distribution of sample means is less filled out. Still can't reject null hypothesis though! <br>\n",
    "\n",
    "<b>Change significance level to 10%:</b> <br>\n",
    "El Nino/La Nina snowfall still not statistically different from climatology. <br>\n",
    "Decreasing significance any further than this (especially after the fact!) is Hartmann's \"mush-headed\" tactic and should be avoided.\n",
    "\n",
    "<b>Change El Nino/La Nina threshold to +2/-2 degrees C:</b> Sample size gets real small (N_elnino=3, N_lanina=1), but still no statistically significant results appear when using bootstrapping or traditional t/z tests.<br>\n",
    "<b>Change El Nino/La Nina threshold to +0.5/-0.5 degrees C:</b> Sample size for El Nino and La Nina increase (23 and 25 respectively). If using a one-tailed test, La Nina snowfall becomes statistically significant. But did we really have a a priori relationship in mind for how La Nina impacts Madison snowfall? Or are we really fishing for correlations...  "
   ]
  },
  {
   "cell_type": "code",
   "execution_count": null,
   "metadata": {},
   "outputs": [],
   "source": []
  }
 ],
 "metadata": {
  "kernelspec": {
   "display_name": "Python 3",
   "language": "python",
   "name": "python3"
  },
  "language_info": {
   "codemirror_mode": {
    "name": "ipython",
    "version": 3
   },
   "file_extension": ".py",
   "mimetype": "text/x-python",
   "name": "python",
   "nbconvert_exporter": "python",
   "pygments_lexer": "ipython3",
   "version": "3.7.3"
  }
 },
 "nbformat": 4,
 "nbformat_minor": 4
}
