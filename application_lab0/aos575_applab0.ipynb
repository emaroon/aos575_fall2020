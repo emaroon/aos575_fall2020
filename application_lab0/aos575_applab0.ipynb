{
 "cells": [
  {
   "cell_type": "markdown",
   "metadata": {},
   "source": [
    "#### Application Lab 0: Python Essentials for Geoscientific Data Analysis\n",
    "Prof. Maroon, AOS 575, UWisc <br>\n",
    "Last updated: 9/8/2020\n"
   ]
  },
  {
   "cell_type": "markdown",
   "metadata": {},
   "source": [
    "#### Objectives \n",
    "The objectives of this application lab are:<br>\n",
    "1. Understand how to interpret the structure of csv and netcdf files\n",
    "2. Manipulate pandas and xarray objects\n",
    "3. Explore different types of matplotlib plots "
   ]
  },
  {
   "cell_type": "code",
   "execution_count": 1,
   "metadata": {},
   "outputs": [],
   "source": [
    "#import packages\n",
    "import numpy as np \n",
    "import matplotlib.pyplot as plt\n",
    "import pandas as pd\n",
    "import xarray as xr"
   ]
  },
  {
   "cell_type": "markdown",
   "metadata": {},
   "source": [
    "#### Dataset 1: Daily Madison Data\n",
    "\n",
    "First things first, let's load in our dataset. Daily Madison data from 1939-2017 is saved as a CSV file, so we use pandas."
   ]
  },
  {
   "cell_type": "code",
   "execution_count": 2,
   "metadata": {},
   "outputs": [],
   "source": [
    "filename1='KMSN_1939_10_01_GHCN.csv'\n",
    "df1=pd.read_csv(filename1)"
   ]
  },
  {
   "cell_type": "markdown",
   "metadata": {},
   "source": [
    "<b>Always, always, always print out your data!</b> In jupyter notebooks, you can do this with just writing the variable name as the last thing in the cell. In a plain-jane python script, you'd need to instead write print(df1)."
   ]
  },
  {
   "cell_type": "code",
   "execution_count": 3,
   "metadata": {},
   "outputs": [
    {
     "data": {
      "text/html": [
       "<div>\n",
       "<style scoped>\n",
       "    .dataframe tbody tr th:only-of-type {\n",
       "        vertical-align: middle;\n",
       "    }\n",
       "\n",
       "    .dataframe tbody tr th {\n",
       "        vertical-align: top;\n",
       "    }\n",
       "\n",
       "    .dataframe thead th {\n",
       "        text-align: right;\n",
       "    }\n",
       "</style>\n",
       "<table border=\"1\" class=\"dataframe\">\n",
       "  <thead>\n",
       "    <tr style=\"text-align: right;\">\n",
       "      <th></th>\n",
       "      <th>STATION</th>\n",
       "      <th>STATION_NAME</th>\n",
       "      <th>DATE</th>\n",
       "      <th>PRCP</th>\n",
       "      <th>SNWD</th>\n",
       "      <th>SNOW</th>\n",
       "      <th>TAVG</th>\n",
       "      <th>TMAX</th>\n",
       "      <th>TMIN</th>\n",
       "      <th>WESD</th>\n",
       "    </tr>\n",
       "  </thead>\n",
       "  <tbody>\n",
       "    <tr>\n",
       "      <th>0</th>\n",
       "      <td>GHCND:USW00014837</td>\n",
       "      <td>MADISON DANE CO REGIONAL AIRPORT WI US</td>\n",
       "      <td>19391001</td>\n",
       "      <td>0.00</td>\n",
       "      <td>0.0</td>\n",
       "      <td>0.0</td>\n",
       "      <td>-9999</td>\n",
       "      <td>67</td>\n",
       "      <td>33</td>\n",
       "      <td>-9999.0</td>\n",
       "    </tr>\n",
       "    <tr>\n",
       "      <th>1</th>\n",
       "      <td>GHCND:USW00014837</td>\n",
       "      <td>MADISON DANE CO REGIONAL AIRPORT WI US</td>\n",
       "      <td>19391002</td>\n",
       "      <td>0.00</td>\n",
       "      <td>0.0</td>\n",
       "      <td>0.0</td>\n",
       "      <td>-9999</td>\n",
       "      <td>70</td>\n",
       "      <td>38</td>\n",
       "      <td>-9999.0</td>\n",
       "    </tr>\n",
       "    <tr>\n",
       "      <th>2</th>\n",
       "      <td>GHCND:USW00014837</td>\n",
       "      <td>MADISON DANE CO REGIONAL AIRPORT WI US</td>\n",
       "      <td>19391003</td>\n",
       "      <td>0.00</td>\n",
       "      <td>0.0</td>\n",
       "      <td>0.0</td>\n",
       "      <td>-9999</td>\n",
       "      <td>74</td>\n",
       "      <td>48</td>\n",
       "      <td>-9999.0</td>\n",
       "    </tr>\n",
       "    <tr>\n",
       "      <th>3</th>\n",
       "      <td>GHCND:USW00014837</td>\n",
       "      <td>MADISON DANE CO REGIONAL AIRPORT WI US</td>\n",
       "      <td>19391004</td>\n",
       "      <td>0.00</td>\n",
       "      <td>0.0</td>\n",
       "      <td>0.0</td>\n",
       "      <td>-9999</td>\n",
       "      <td>81</td>\n",
       "      <td>51</td>\n",
       "      <td>-9999.0</td>\n",
       "    </tr>\n",
       "    <tr>\n",
       "      <th>4</th>\n",
       "      <td>GHCND:USW00014837</td>\n",
       "      <td>MADISON DANE CO REGIONAL AIRPORT WI US</td>\n",
       "      <td>19391005</td>\n",
       "      <td>0.00</td>\n",
       "      <td>0.0</td>\n",
       "      <td>0.0</td>\n",
       "      <td>-9999</td>\n",
       "      <td>70</td>\n",
       "      <td>56</td>\n",
       "      <td>-9999.0</td>\n",
       "    </tr>\n",
       "    <tr>\n",
       "      <th>...</th>\n",
       "      <td>...</td>\n",
       "      <td>...</td>\n",
       "      <td>...</td>\n",
       "      <td>...</td>\n",
       "      <td>...</td>\n",
       "      <td>...</td>\n",
       "      <td>...</td>\n",
       "      <td>...</td>\n",
       "      <td>...</td>\n",
       "      <td>...</td>\n",
       "    </tr>\n",
       "    <tr>\n",
       "      <th>28230</th>\n",
       "      <td>GHCND:USW00014837</td>\n",
       "      <td>MADISON DANE CO REGIONAL AIRPORT WI US</td>\n",
       "      <td>20170114</td>\n",
       "      <td>0.00</td>\n",
       "      <td>1.2</td>\n",
       "      <td>0.0</td>\n",
       "      <td>16</td>\n",
       "      <td>27</td>\n",
       "      <td>10</td>\n",
       "      <td>-9999.0</td>\n",
       "    </tr>\n",
       "    <tr>\n",
       "      <th>28231</th>\n",
       "      <td>GHCND:USW00014837</td>\n",
       "      <td>MADISON DANE CO REGIONAL AIRPORT WI US</td>\n",
       "      <td>20170115</td>\n",
       "      <td>0.00</td>\n",
       "      <td>1.2</td>\n",
       "      <td>0.0</td>\n",
       "      <td>17</td>\n",
       "      <td>33</td>\n",
       "      <td>6</td>\n",
       "      <td>-9999.0</td>\n",
       "    </tr>\n",
       "    <tr>\n",
       "      <th>28232</th>\n",
       "      <td>GHCND:USW00014837</td>\n",
       "      <td>MADISON DANE CO REGIONAL AIRPORT WI US</td>\n",
       "      <td>20170116</td>\n",
       "      <td>0.61</td>\n",
       "      <td>1.2</td>\n",
       "      <td>0.0</td>\n",
       "      <td>27</td>\n",
       "      <td>34</td>\n",
       "      <td>20</td>\n",
       "      <td>-9999.0</td>\n",
       "    </tr>\n",
       "    <tr>\n",
       "      <th>28233</th>\n",
       "      <td>GHCND:USW00014837</td>\n",
       "      <td>MADISON DANE CO REGIONAL AIRPORT WI US</td>\n",
       "      <td>20170117</td>\n",
       "      <td>-9999.00</td>\n",
       "      <td>-9999.0</td>\n",
       "      <td>-9999.0</td>\n",
       "      <td>33</td>\n",
       "      <td>-9999</td>\n",
       "      <td>-9999</td>\n",
       "      <td>-9999.0</td>\n",
       "    </tr>\n",
       "    <tr>\n",
       "      <th>28234</th>\n",
       "      <td>GHCND:USW00014837</td>\n",
       "      <td>MADISON DANE CO REGIONAL AIRPORT WI US</td>\n",
       "      <td>20170118</td>\n",
       "      <td>-9999.00</td>\n",
       "      <td>-9999.0</td>\n",
       "      <td>-9999.0</td>\n",
       "      <td>33</td>\n",
       "      <td>-9999</td>\n",
       "      <td>-9999</td>\n",
       "      <td>-9999.0</td>\n",
       "    </tr>\n",
       "  </tbody>\n",
       "</table>\n",
       "<p>28235 rows × 10 columns</p>\n",
       "</div>"
      ],
      "text/plain": [
       "                 STATION                            STATION_NAME      DATE  \\\n",
       "0      GHCND:USW00014837  MADISON DANE CO REGIONAL AIRPORT WI US  19391001   \n",
       "1      GHCND:USW00014837  MADISON DANE CO REGIONAL AIRPORT WI US  19391002   \n",
       "2      GHCND:USW00014837  MADISON DANE CO REGIONAL AIRPORT WI US  19391003   \n",
       "3      GHCND:USW00014837  MADISON DANE CO REGIONAL AIRPORT WI US  19391004   \n",
       "4      GHCND:USW00014837  MADISON DANE CO REGIONAL AIRPORT WI US  19391005   \n",
       "...                  ...                                     ...       ...   \n",
       "28230  GHCND:USW00014837  MADISON DANE CO REGIONAL AIRPORT WI US  20170114   \n",
       "28231  GHCND:USW00014837  MADISON DANE CO REGIONAL AIRPORT WI US  20170115   \n",
       "28232  GHCND:USW00014837  MADISON DANE CO REGIONAL AIRPORT WI US  20170116   \n",
       "28233  GHCND:USW00014837  MADISON DANE CO REGIONAL AIRPORT WI US  20170117   \n",
       "28234  GHCND:USW00014837  MADISON DANE CO REGIONAL AIRPORT WI US  20170118   \n",
       "\n",
       "          PRCP    SNWD    SNOW  TAVG  TMAX  TMIN    WESD  \n",
       "0         0.00     0.0     0.0 -9999    67    33 -9999.0  \n",
       "1         0.00     0.0     0.0 -9999    70    38 -9999.0  \n",
       "2         0.00     0.0     0.0 -9999    74    48 -9999.0  \n",
       "3         0.00     0.0     0.0 -9999    81    51 -9999.0  \n",
       "4         0.00     0.0     0.0 -9999    70    56 -9999.0  \n",
       "...        ...     ...     ...   ...   ...   ...     ...  \n",
       "28230     0.00     1.2     0.0    16    27    10 -9999.0  \n",
       "28231     0.00     1.2     0.0    17    33     6 -9999.0  \n",
       "28232     0.61     1.2     0.0    27    34    20 -9999.0  \n",
       "28233 -9999.00 -9999.0 -9999.0    33 -9999 -9999 -9999.0  \n",
       "28234 -9999.00 -9999.0 -9999.0    33 -9999 -9999 -9999.0  \n",
       "\n",
       "[28235 rows x 10 columns]"
      ]
     },
     "execution_count": 3,
     "metadata": {},
     "output_type": "execute_result"
    }
   ],
   "source": [
    "df1"
   ]
  },
  {
   "cell_type": "markdown",
   "metadata": {},
   "source": [
    "To select just the names of the columns:"
   ]
  },
  {
   "cell_type": "code",
   "execution_count": 4,
   "metadata": {},
   "outputs": [
    {
     "data": {
      "text/plain": [
       "Index(['STATION', 'STATION_NAME', 'DATE', 'PRCP', 'SNWD', 'SNOW', 'TAVG',\n",
       "       'TMAX', 'TMIN', 'WESD'],\n",
       "      dtype='object')"
      ]
     },
     "execution_count": 4,
     "metadata": {},
     "output_type": "execute_result"
    }
   ],
   "source": [
    "df1.columns"
   ]
  },
  {
   "cell_type": "markdown",
   "metadata": {},
   "source": [
    "To select one of the variables out of the dataset for manipulation, use the name of the column as a string and then create a new object "
   ]
  },
  {
   "cell_type": "code",
   "execution_count": 5,
   "metadata": {},
   "outputs": [
    {
     "name": "stdout",
     "output_type": "stream",
     "text": [
      "0           0.00\n",
      "1           0.00\n",
      "2           0.00\n",
      "3           0.00\n",
      "4           0.00\n",
      "          ...   \n",
      "28230       0.00\n",
      "28231       0.00\n",
      "28232       0.61\n",
      "28233   -9999.00\n",
      "28234   -9999.00\n",
      "Name: PRCP, Length: 28235, dtype: float64\n"
     ]
    }
   ],
   "source": [
    "prcp=df1['PRCP']\n",
    "print(prcp)"
   ]
  },
  {
   "cell_type": "markdown",
   "metadata": {},
   "source": [
    "In this dataset, you'll notice that there're lots of -9999.00 floating around. This number indicates missing values for this dataset (other datasets will use other numbers!). With numpy its easier to deal with missing values if you replace them with a NaN object (np.nan). There are multiple ways to do this in Python. Here's one example taking advantage of numpy-based subsetting:"
   ]
  },
  {
   "cell_type": "code",
   "execution_count": 6,
   "metadata": {},
   "outputs": [
    {
     "name": "stdout",
     "output_type": "stream",
     "text": [
      "0        0.00\n",
      "1        0.00\n",
      "2        0.00\n",
      "3        0.00\n",
      "4        0.00\n",
      "         ... \n",
      "28230    0.00\n",
      "28231    0.00\n",
      "28232    0.61\n",
      "28233     NaN\n",
      "28234     NaN\n",
      "Name: PRCP, Length: 28235, dtype: float64\n"
     ]
    }
   ],
   "source": [
    "prcp_nan=prcp.copy()              #sometimes it's helpful to make fully copies of objects. If we didn't, then setting \n",
    "                                  #these two variables equal would point to the same object in memory.\n",
    "                                  #sometimes pointing to the same object in memory can lead to confusion... let's avoid!\n",
    "prcp_nan[prcp_nan<-1000]=np.nan   #this step \"corrects\" the NaN\n",
    "print(prcp_nan)  "
   ]
  },
  {
   "cell_type": "markdown",
   "metadata": {},
   "source": [
    "Let's plot a time series of prcp:"
   ]
  },
  {
   "cell_type": "code",
   "execution_count": 7,
   "metadata": {},
   "outputs": [
    {
     "data": {
      "image/png": "[encoded data removed]",
      "text/plain": [
       "<Figure size 432x288 with 1 Axes>"
      ]
     },
     "metadata": {
      "needs_background": "light"
     },
     "output_type": "display_data"
    }
   ],
   "source": [
    "plt.plot(prcp_nan)\n",
    "plt.title('precip')\n",
    "plt.xlabel('time index')\n",
    "plt.ylabel('precip amount (units?)')\n",
    "plt.ylim([0,4.5]);"
   ]
  },
  {
   "cell_type": "markdown",
   "metadata": {},
   "source": [
    "What if we only want to plot a time series of the times when there's measurable precip?  We can use numpy-based boolean selection to do that:"
   ]
  },
  {
   "cell_type": "code",
   "execution_count": 8,
   "metadata": {},
   "outputs": [
    {
     "data": {
      "image/png": "[encoded data removed]",
      "text/plain": [
       "<Figure size 432x288 with 1 Axes>"
      ]
     },
     "metadata": {
      "needs_background": "light"
     },
     "output_type": "display_data"
    }
   ],
   "source": [
    "thresh=0.0\n",
    "prcp_meas=prcp[prcp>thresh]  #This step does the subsetting\n",
    "\n",
    "plt.plot(prcp_meas)\n",
    "plt.title('measurable precip > '+str(thresh)+' in')\n",
    "plt.xlabel('time index')\n",
    "plt.ylabel('precip amount (in?)')\n",
    "plt.ylim([0,4.5]);"
   ]
  },
  {
   "cell_type": "markdown",
   "metadata": {},
   "source": [
    "From the figure, it's hard to determine if that worked or not, so let's use a more strigent subselection for visual confirmation. Let's select events where precip is greater than 0.5\": "
   ]
  },
  {
   "cell_type": "code",
   "execution_count": 9,
   "metadata": {},
   "outputs": [
    {
     "data": {
      "image/png": "[encoded data removed]",
      "text/plain": [
       "<Figure size 432x288 with 1 Axes>"
      ]
     },
     "metadata": {
      "needs_background": "light"
     },
     "output_type": "display_data"
    }
   ],
   "source": [
    "thresh=0.5\n",
    "prcp_meas2=prcp[prcp>thresh]  #This step does the subsetting\n",
    "\n",
    "plt.plot(prcp_meas2)\n",
    "plt.title('measurable precip > '+str(thresh)+' in')\n",
    "plt.xlabel('time index')\n",
    "plt.ylabel('precip amount (in?)')\n",
    "plt.ylim([0,4.5]);"
   ]
  },
  {
   "cell_type": "markdown",
   "metadata": {},
   "source": [
    "Ok, I think that's working, don't you? <br><br>\n",
    "Next, let's check out what measurable precip looks like as a distribution. For this we are going to use function called histogram. We're specifying our bins to be more evenly divisible. This is an option the function would work fine without it, but it makes our bins cleaner."
   ]
  },
  {
   "cell_type": "code",
   "execution_count": 10,
   "metadata": {},
   "outputs": [
    {
     "name": "stdout",
     "output_type": "stream",
     "text": [
      "This is the histogram counts per bin:  [6317 1428  664  375  199  105   68   53   25   17   20    6    5    5\n",
      "    6    2    1    1    1    0]\n",
      "These are the edges for each bin:  [0.   0.25 0.5  0.75 1.   1.25 1.5  1.75 2.   2.25 2.5  2.75 3.   3.25\n",
      " 3.5  3.75 4.   4.25 4.5  4.75 5.  ]\n",
      "These are the centers for each bin:  [0.125 0.375 0.625 0.875 1.125 1.375 1.625 1.875 2.125 2.375 2.625 2.875\n",
      " 3.125 3.375 3.625 3.875 4.125 4.375 4.625 4.875]\n"
     ]
    }
   ],
   "source": [
    "pr_min=0\n",
    "pr_max=np.ceil(prcp.max())  #ceil=ceiling. It rounds up to the nearest integer. \n",
    "nbins=20\n",
    "\n",
    "hist, bin_edges = np.histogram(prcp_meas, range=(pr_min,pr_max),bins=nbins)\n",
    "bin_cents=(bin_edges[0:-1]+bin_edges[1:])/2\n",
    "\n",
    "print('This is the histogram counts per bin: ',hist)\n",
    "print('These are the edges for each bin: ',bin_edges)\n",
    "print('These are the centers for each bin: ',bin_cents)"
   ]
  },
  {
   "cell_type": "markdown",
   "metadata": {},
   "source": [
    "We can use this information to calculate the probability of being in each bin by normalizing by a sum of all the counts, and also create a probability density function:"
   ]
  },
  {
   "cell_type": "code",
   "execution_count": 11,
   "metadata": {},
   "outputs": [
    {
     "name": "stdout",
     "output_type": "stream",
     "text": [
      "Probability in each bin:  [6.79393418e-01 1.53581415e-01 7.14132071e-02 4.03312540e-02\n",
      " 2.14024521e-02 1.12927511e-02 7.31340073e-03 5.70015057e-03\n",
      " 2.68875027e-03 1.82835018e-03 2.15100022e-03 6.45300065e-04\n",
      " 5.37750054e-04 5.37750054e-04 6.45300065e-04 2.15100022e-04\n",
      " 1.07550011e-04 1.07550011e-04 1.07550011e-04 0.00000000e+00]\n",
      "This should add to 1:  1.0\n"
     ]
    }
   ],
   "source": [
    "probability=hist/np.sum(hist)   #normalization = range(0,1)\n",
    "\n",
    "binwidth=((pr_max-pr_min)/nbins)\n",
    "pdf=probability/binwidth  #making a pdf by dividing by the bin-width\n",
    "\n",
    "print('Probability in each bin: ',probability)\n",
    "print('This should add to 1: ',np.sum(probability))\n"
   ]
  },
  {
   "cell_type": "code",
   "execution_count": 12,
   "metadata": {},
   "outputs": [
    {
     "data": {
      "text/plain": [
       "Text(0.5, 1.0, 'pdf')"
      ]
     },
     "execution_count": 12,
     "metadata": {},
     "output_type": "execute_result"
    },
    {
     "data": {
      "image/png": "[encoded data removed]",
      "text/plain": [
       "<Figure size 432x288 with 1 Axes>"
      ]
     },
     "metadata": {
      "needs_background": "light"
     },
     "output_type": "display_data"
    },
    {
     "data": {
      "image/png": "[encoded data removed]",
      "text/plain": [
       "<Figure size 432x288 with 1 Axes>"
      ]
     },
     "metadata": {
      "needs_background": "light"
     },
     "output_type": "display_data"
    },
    {
     "data": {
      "image/png": "[encoded data removed]",
      "text/plain": [
       "<Figure size 432x288 with 1 Axes>"
      ]
     },
     "metadata": {
      "needs_background": "light"
     },
     "output_type": "display_data"
    }
   ],
   "source": [
    "f=plt.figure()\n",
    "plt.plot(bin_cents,hist,marker='+') # a quick line plot - better would be a bar plot!\n",
    "plt.xlabel('precip (in)')\n",
    "plt.ylabel('# of counts')\n",
    "plt.title('raw counts')\n",
    "\n",
    "f=plt.figure()\n",
    "plt.plot(bin_cents,probability,marker='+') # a quick line plot - better would be a bar plot!\n",
    "plt.xlabel('precip (in)')\n",
    "plt.ylabel('probability')  #not a PDF because not normalizing by the bin width!!\n",
    "plt.title('probability')\n",
    "\n",
    "f=plt.figure()\n",
    "plt.plot(bin_cents,pdf,marker='+') # a quick line plot - better would be a bar plot!\n",
    "plt.xlabel('precip (in)')\n",
    "plt.ylabel('pdf (1/in)')  #Yes a PDF!\n",
    "plt.title('pdf')"
   ]
  },
  {
   "cell_type": "markdown",
   "metadata": {},
   "source": [
    "What if we want to figure out of the total days when precip occurred, what's the probability of there being greater than 1.47\"?"
   ]
  },
  {
   "cell_type": "code",
   "execution_count": 13,
   "metadata": {},
   "outputs": [
    {
     "name": "stdout",
     "output_type": "stream",
     "text": [
      "The probability of greater than 1.47 inches of rain on days with measurable precip is: 0.02301570230157023\n"
     ]
    }
   ],
   "source": [
    "#first subselect the number of days where greater than 1.47 and determine how many days are in that array:\n",
    "thresh=1.47\n",
    "prob_gt=prcp_meas[prcp_meas>thresh] #subselect just the greater than days\n",
    "num_days_gt=len(prob_gt)            #count the number of days left\n",
    "\n",
    "#next, determine how many total days there are:\n",
    "total_days=len(prcp_meas)\n",
    "\n",
    "#The probability is then:\n",
    "print('The probability of greater than '+str(thresh)+' inches of rain on days with measurable precip is:',num_days_gt/total_days)"
   ]
  },
  {
   "cell_type": "markdown",
   "metadata": {},
   "source": [
    "How about the cumulative probability?"
   ]
  },
  {
   "cell_type": "code",
   "execution_count": 14,
   "metadata": {},
   "outputs": [
    {
     "name": "stdout",
     "output_type": "stream",
     "text": [
      "Probability in each bin:  [0.67939342 0.83297483 0.90438804 0.94471929 0.96612175 0.9774145\n",
      " 0.9847279  0.99042805 0.9931168  0.99494515 0.99709615 0.99774145\n",
      " 0.9982792  0.99881695 0.99946225 0.99967735 0.9997849  0.99989245\n",
      " 1.         1.        ]\n",
      "The last index should be 1:  1.0\n"
     ]
    },
    {
     "data": {
      "text/plain": [
       "Text(0, 0.5, 'cumulative probability')"
      ]
     },
     "execution_count": 14,
     "metadata": {},
     "output_type": "execute_result"
    },
    {
     "data": {
      "image/png": "[encoded data removed]",
      "text/plain": [
       "<Figure size 432x288 with 1 Axes>"
      ]
     },
     "metadata": {
      "needs_background": "light"
     },
     "output_type": "display_data"
    }
   ],
   "source": [
    "cumulative_prob=np.cumsum(hist)/np.sum(hist)  #normalization = range(0,1)\n",
    "\n",
    "print('Probability in each bin: ',cumulative_prob)\n",
    "print('The last index should be 1: ',cumulative_prob[-1])\n",
    "\n",
    "f=plt.figure()\n",
    "plt.plot(bin_cents,cumulative_prob,marker='+') # a quick line plot - better would be a bar plot!\n",
    "plt.xlabel('precip (in)')\n",
    "plt.ylabel('cumulative probability') "
   ]
  },
  {
   "cell_type": "markdown",
   "metadata": {},
   "source": [
    "The better way to plot this is using the matplotlib.pyplot.hist function - we'll get bars easily that way. It will do the whole histogramming process for us. "
   ]
  },
  {
   "cell_type": "code",
   "execution_count": 15,
   "metadata": {},
   "outputs": [
    {
     "data": {
      "text/plain": [
       "Text(0.5, 0, 'precip (in)')"
      ]
     },
     "execution_count": 15,
     "metadata": {},
     "output_type": "execute_result"
    },
    {
     "data": {
      "image/png": "[encoded data removed]",
      "text/plain": [
       "<Figure size 432x288 with 1 Axes>"
      ]
     },
     "metadata": {
      "needs_background": "light"
     },
     "output_type": "display_data"
    }
   ],
   "source": [
    "plt.hist(prcp_meas,range=(pr_min,pr_max),bins=nbins)\n",
    "plt.ylabel('counts')\n",
    "plt.xlabel('precip (in)')"
   ]
  },
  {
   "cell_type": "markdown",
   "metadata": {},
   "source": [
    "That's effectively the same plot as before, but using bars, which visually cues that the bins are discrete rather than continuous (as the line plot implies). Note that by default it's expressing the bar height in counts. It also has options for density (pdf) and cumulative histogram."
   ]
  },
  {
   "cell_type": "code",
   "execution_count": 16,
   "metadata": {},
   "outputs": [
    {
     "data": {
      "text/plain": [
       "Text(0.5, 1.0, 'cumulative probability')"
      ]
     },
     "execution_count": 16,
     "metadata": {},
     "output_type": "execute_result"
    },
    {
     "data": {
      "image/png": "[encoded data removed]",
      "text/plain": [
       "<Figure size 432x288 with 1 Axes>"
      ]
     },
     "metadata": {
      "needs_background": "light"
     },
     "output_type": "display_data"
    },
    {
     "data": {
      "image/png": "[encoded data removed]",
      "text/plain": [
       "<Figure size 432x288 with 1 Axes>"
      ]
     },
     "metadata": {
      "needs_background": "light"
     },
     "output_type": "display_data"
    }
   ],
   "source": [
    "f=plt.figure()\n",
    "plt.hist(prcp_meas,range=(pr_min,pr_max),bins=nbins,density=True)\n",
    "plt.ylabel('pdf (1/in)')\n",
    "plt.xlabel('precip (in)')\n",
    "plt.title('probability density function')\n",
    "\n",
    "f=plt.figure()\n",
    "plt.hist(prcp_meas,range=(pr_min,pr_max),bins=nbins,cumulative=True,density=True)\n",
    "plt.ylabel('cumulative prob')\n",
    "plt.xlabel('precip (in)')\n",
    "plt.title('cumulative probability')"
   ]
  },
  {
   "cell_type": "markdown",
   "metadata": {},
   "source": [
    "#### Dataset 2: Hourly Madison Data\n",
    "Our hourly Madison dataset is also saved as a CSV files, so we use pandas again. "
   ]
  },
  {
   "cell_type": "code",
   "execution_count": 17,
   "metadata": {},
   "outputs": [],
   "source": [
    "filename2='truax_2019.csv'\n",
    "df2=pd.read_csv(filename2)"
   ]
  },
  {
   "cell_type": "markdown",
   "metadata": {},
   "source": [
    "This time, it's your turn to practice. Print out the dataset. What variables are present in this dataset?"
   ]
  },
  {
   "cell_type": "markdown",
   "metadata": {},
   "source": [
    "Type your answer here. See the dropdown menu above that says either Code, Markdown or Raw? Change a cell's mode to \"Markdown\" when you want to type in an answer. Leave as \"Code\" for code."
   ]
  },
  {
   "cell_type": "markdown",
   "metadata": {},
   "source": [
    "Select the variable for air temperature:"
   ]
  },
  {
   "cell_type": "code",
   "execution_count": null,
   "metadata": {},
   "outputs": [],
   "source": []
  },
  {
   "cell_type": "markdown",
   "metadata": {},
   "source": [
    "Replace any missing values with np.nan:"
   ]
  },
  {
   "cell_type": "code",
   "execution_count": null,
   "metadata": {},
   "outputs": [],
   "source": []
  },
  {
   "cell_type": "markdown",
   "metadata": {},
   "source": [
    "Make a time series plot of air temperature:"
   ]
  },
  {
   "cell_type": "code",
   "execution_count": null,
   "metadata": {},
   "outputs": [],
   "source": []
  },
  {
   "cell_type": "markdown",
   "metadata": {},
   "source": [
    "Subselect for only the times where temperature is above freezing:"
   ]
  },
  {
   "cell_type": "code",
   "execution_count": null,
   "metadata": {},
   "outputs": [],
   "source": []
  },
  {
   "cell_type": "markdown",
   "metadata": {},
   "source": [
    "Make a histogram of temperatures above freezing:"
   ]
  },
  {
   "cell_type": "code",
   "execution_count": null,
   "metadata": {},
   "outputs": [],
   "source": []
  },
  {
   "cell_type": "markdown",
   "metadata": {},
   "source": [
    "#### Dataset 3: HadISST SST\n",
    "HadISST is an observation-based gridded SST product. Since it has three dimensions (time by lat by lon), we now use xarray. After we open up and print the dataset object, we're going to take a careful look at the structure of the dataset"
   ]
  },
  {
   "cell_type": "code",
   "execution_count": 18,
   "metadata": {},
   "outputs": [
    {
     "name": "stdout",
     "output_type": "stream",
     "text": [
      "<xarray.Dataset>\n",
      "Dimensions:    (latitude: 180, longitude: 360, nv: 2, time: 1769)\n",
      "Coordinates:\n",
      "  * time       (time) datetime64[ns] 1870-01-16T11:59:59.505615234 ... 2017-0...\n",
      "  * latitude   (latitude) float32 89.5 88.5 87.5 86.5 ... -87.5 -88.5 -89.5\n",
      "  * longitude  (longitude) float32 -179.5 -178.5 -177.5 ... 177.5 178.5 179.5\n",
      "Dimensions without coordinates: nv\n",
      "Data variables:\n",
      "    time_bnds  (time, nv) float32 ...\n",
      "    sst        (time, latitude, longitude) float32 ...\n",
      "Attributes:\n",
      "    Title:                      Monthly version of HadISST sea surface temper...\n",
      "    description:                HadISST 1.1 monthly average sea surface tempe...\n",
      "    institution:                Met Office Hadley Centre\n",
      "    source:                     HadISST\n",
      "    reference:                  Rayner, N. A., Parker, D. E., Horton, E. B., ...\n",
      "    Conventions:                CF-1.0\n",
      "    history:                    7/7/2017 converted to netcdf from pp format\n",
      "    supplementary_information:  Updates and supplementary information will be...\n",
      "    comment:                    Data restrictions: for academic research use ...\n"
     ]
    }
   ],
   "source": [
    "filename3='HadISST_sst.nc'\n",
    "ds1=xr.open_dataset(filename3)\n",
    "print(ds1)"
   ]
  },
  {
   "cell_type": "markdown",
   "metadata": {},
   "source": [
    "First, notice that the object type is \"xarray.Dataset\".  If you wanted to know more about that type of object you could try print(help(ds1)), or you could google xarray Dataset and find the documentation online. <br><br>\n",
    "The Dataset object has 5 sections: dimensions, coordinates, dimensions without coordinates, data variables, and attributes. Let's start with the attributes. You can select them by:"
   ]
  },
  {
   "cell_type": "code",
   "execution_count": 19,
   "metadata": {},
   "outputs": [
    {
     "data": {
      "text/plain": [
       "{'Title': 'Monthly version of HadISST sea surface temperature component',\n",
       " 'description': 'HadISST 1.1 monthly average sea surface temperature',\n",
       " 'institution': 'Met Office Hadley Centre',\n",
       " 'source': 'HadISST',\n",
       " 'reference': 'Rayner, N. A., Parker, D. E., Horton, E. B., Folland, C. K., Alexander, L. V., Rowell, D. P., Kent, E. C., Kaplan, A.  Global analyses of sea surface temperature, sea ice, and night marine air temperature since the late nineteenth century J. Geophys. Res.Vol. 108, No. D14, 4407 10.1029/2002JD002670',\n",
       " 'Conventions': 'CF-1.0',\n",
       " 'history': '7/7/2017 converted to netcdf from pp format',\n",
       " 'supplementary_information': 'Updates and supplementary information will be available from http://www.metoffice.gov.uk/hadobs/hadisst',\n",
       " 'comment': 'Data restrictions: for academic research use only. Data are Crown copyright see (http://www.opsi.gov.uk/advice/crown-copyright/copyright-guidance/index.htm)'}"
      ]
     },
     "execution_count": 19,
     "metadata": {},
     "output_type": "execute_result"
    }
   ],
   "source": [
    "ds1.attrs"
   ]
  },
  {
   "cell_type": "code",
   "execution_count": 20,
   "metadata": {},
   "outputs": [
    {
     "data": {
      "text/plain": [
       "'7/7/2017 converted to netcdf from pp format'"
      ]
     },
     "execution_count": 20,
     "metadata": {},
     "output_type": "execute_result"
    }
   ],
   "source": [
    "ds1.attrs['history']"
   ]
  },
  {
   "cell_type": "markdown",
   "metadata": {},
   "source": [
    "The dimensions are just a single number indicating the length of each dimension. "
   ]
  },
  {
   "cell_type": "code",
   "execution_count": 21,
   "metadata": {},
   "outputs": [
    {
     "data": {
      "text/plain": [
       "Frozen(SortedKeysDict({'time': 1769, 'nv': 2, 'latitude': 180, 'longitude': 360}))"
      ]
     },
     "execution_count": 21,
     "metadata": {},
     "output_type": "execute_result"
    }
   ],
   "source": [
    "ds1_dims=ds1.dims\n",
    "ds1_dims"
   ]
  },
  {
   "cell_type": "markdown",
   "metadata": {},
   "source": [
    "The dims object is just a fancy type of dictionary, so you could select the dimension by its name (as a string):"
   ]
  },
  {
   "cell_type": "code",
   "execution_count": 22,
   "metadata": {},
   "outputs": [
    {
     "data": {
      "text/plain": [
       "180"
      ]
     },
     "execution_count": 22,
     "metadata": {},
     "output_type": "execute_result"
    }
   ],
   "source": [
    "lat_dim=ds1_dims['latitude']\n",
    "lat_dim"
   ]
  },
  {
   "cell_type": "markdown",
   "metadata": {},
   "source": [
    "Coordinates contains the actual values for the latitude and longitude. You can select the coordinates for "
   ]
  },
  {
   "cell_type": "code",
   "execution_count": 23,
   "metadata": {},
   "outputs": [
    {
     "data": {
      "text/plain": [
       "Coordinates:\n",
       "  * time       (time) datetime64[ns] 1870-01-16T11:59:59.505615234 ... 2017-0...\n",
       "  * latitude   (latitude) float32 89.5 88.5 87.5 86.5 ... -87.5 -88.5 -89.5\n",
       "  * longitude  (longitude) float32 -179.5 -178.5 -177.5 ... 177.5 178.5 179.5"
      ]
     },
     "execution_count": 23,
     "metadata": {},
     "output_type": "execute_result"
    }
   ],
   "source": [
    "ds1_coords=ds1.coords\n",
    "ds1_coords"
   ]
  },
  {
   "cell_type": "markdown",
   "metadata": {},
   "source": [
    "Here you'll notice that the coords are single arrays and are named the same as the dimensions. For all the datasets that we'll use this term, this will be the case, but it isn't always this way. If you have a non-Cartesian grid, you can have 2-dimensional coordinates that are functions of both the lon and lat dimensions; this is common for ocean model output. "
   ]
  },
  {
   "cell_type": "code",
   "execution_count": 24,
   "metadata": {},
   "outputs": [
    {
     "data": {
      "text/html": [
       "<div><svg style=\"position: absolute; width: 0; height: 0; overflow: hidden\">\n",
       "<defs>\n",
       "<symbol id=\"icon-database\" viewBox=\"0 0 32 32\">\n",
       "<path d=\"M16 0c-8.837 0-16 2.239-16 5v4c0 2.761 7.163 5 16 5s16-2.239 16-5v-4c0-2.761-7.163-5-16-5z\"></path>\n",
       "<path d=\"M16 17c-8.837 0-16-2.239-16-5v6c0 2.761 7.163 5 16 5s16-2.239 16-5v-6c0 2.761-7.163 5-16 5z\"></path>\n",
       "<path d=\"M16 26c-8.837 0-16-2.239-16-5v6c0 2.761 7.163 5 16 5s16-2.239 16-5v-6c0 2.761-7.163 5-16 5z\"></path>\n",
       "</symbol>\n",
       "<symbol id=\"icon-file-text2\" viewBox=\"0 0 32 32\">\n",
       "<path d=\"M28.681 7.159c-0.694-0.947-1.662-2.053-2.724-3.116s-2.169-2.030-3.116-2.724c-1.612-1.182-2.393-1.319-2.841-1.319h-15.5c-1.378 0-2.5 1.121-2.5 2.5v27c0 1.378 1.122 2.5 2.5 2.5h23c1.378 0 2.5-1.122 2.5-2.5v-19.5c0-0.448-0.137-1.23-1.319-2.841zM24.543 5.457c0.959 0.959 1.712 1.825 2.268 2.543h-4.811v-4.811c0.718 0.556 1.584 1.309 2.543 2.268zM28 29.5c0 0.271-0.229 0.5-0.5 0.5h-23c-0.271 0-0.5-0.229-0.5-0.5v-27c0-0.271 0.229-0.5 0.5-0.5 0 0 15.499-0 15.5 0v7c0 0.552 0.448 1 1 1h7v19.5z\"></path>\n",
       "<path d=\"M23 26h-14c-0.552 0-1-0.448-1-1s0.448-1 1-1h14c0.552 0 1 0.448 1 1s-0.448 1-1 1z\"></path>\n",
       "<path d=\"M23 22h-14c-0.552 0-1-0.448-1-1s0.448-1 1-1h14c0.552 0 1 0.448 1 1s-0.448 1-1 1z\"></path>\n",
       "<path d=\"M23 18h-14c-0.552 0-1-0.448-1-1s0.448-1 1-1h14c0.552 0 1 0.448 1 1s-0.448 1-1 1z\"></path>\n",
       "</symbol>\n",
       "</defs>\n",
       "</svg>\n",
       "<style>/* CSS stylesheet for displaying xarray objects in jupyterlab.\n",
       " *\n",
       " */\n",
       "\n",
       ":root {\n",
       "  --xr-font-color0: var(--jp-content-font-color0, rgba(0, 0, 0, 1));\n",
       "  --xr-font-color2: var(--jp-content-font-color2, rgba(0, 0, 0, 0.54));\n",
       "  --xr-font-color3: var(--jp-content-font-color3, rgba(0, 0, 0, 0.38));\n",
       "  --xr-border-color: var(--jp-border-color2, #e0e0e0);\n",
       "  --xr-disabled-color: var(--jp-layout-color3, #bdbdbd);\n",
       "  --xr-background-color: var(--jp-layout-color0, white);\n",
       "  --xr-background-color-row-even: var(--jp-layout-color1, white);\n",
       "  --xr-background-color-row-odd: var(--jp-layout-color2, #eeeeee);\n",
       "}\n",
       "\n",
       "html[theme=dark],\n",
       "body.vscode-dark {\n",
       "  --xr-font-color0: rgba(255, 255, 255, 1);\n",
       "  --xr-font-color2: rgba(255, 255, 255, 0.54);\n",
       "  --xr-font-color3: rgba(255, 255, 255, 0.38);\n",
       "  --xr-border-color: #1F1F1F;\n",
       "  --xr-disabled-color: #515151;\n",
       "  --xr-background-color: #111111;\n",
       "  --xr-background-color-row-even: #111111;\n",
       "  --xr-background-color-row-odd: #313131;\n",
       "}\n",
       "\n",
       ".xr-wrap {\n",
       "  display: block;\n",
       "  min-width: 300px;\n",
       "  max-width: 700px;\n",
       "}\n",
       "\n",
       ".xr-text-repr-fallback {\n",
       "  /* fallback to plain text repr when CSS is not injected (untrusted notebook) */\n",
       "  display: none;\n",
       "}\n",
       "\n",
       ".xr-header {\n",
       "  padding-top: 6px;\n",
       "  padding-bottom: 6px;\n",
       "  margin-bottom: 4px;\n",
       "  border-bottom: solid 1px var(--xr-border-color);\n",
       "}\n",
       "\n",
       ".xr-header > div,\n",
       ".xr-header > ul {\n",
       "  display: inline;\n",
       "  margin-top: 0;\n",
       "  margin-bottom: 0;\n",
       "}\n",
       "\n",
       ".xr-obj-type,\n",
       ".xr-array-name {\n",
       "  margin-left: 2px;\n",
       "  margin-right: 10px;\n",
       "}\n",
       "\n",
       ".xr-obj-type {\n",
       "  color: var(--xr-font-color2);\n",
       "}\n",
       "\n",
       ".xr-sections {\n",
       "  padding-left: 0 !important;\n",
       "  display: grid;\n",
       "  grid-template-columns: 150px auto auto 1fr 20px 20px;\n",
       "}\n",
       "\n",
       ".xr-section-item {\n",
       "  display: contents;\n",
       "}\n",
       "\n",
       ".xr-section-item input {\n",
       "  display: none;\n",
       "}\n",
       "\n",
       ".xr-section-item input + label {\n",
       "  color: var(--xr-disabled-color);\n",
       "}\n",
       "\n",
       ".xr-section-item input:enabled + label {\n",
       "  cursor: pointer;\n",
       "  color: var(--xr-font-color2);\n",
       "}\n",
       "\n",
       ".xr-section-item input:enabled + label:hover {\n",
       "  color: var(--xr-font-color0);\n",
       "}\n",
       "\n",
       ".xr-section-summary {\n",
       "  grid-column: 1;\n",
       "  color: var(--xr-font-color2);\n",
       "  font-weight: 500;\n",
       "}\n",
       "\n",
       ".xr-section-summary > span {\n",
       "  display: inline-block;\n",
       "  padding-left: 0.5em;\n",
       "}\n",
       "\n",
       ".xr-section-summary-in:disabled + label {\n",
       "  color: var(--xr-font-color2);\n",
       "}\n",
       "\n",
       ".xr-section-summary-in + label:before {\n",
       "  display: inline-block;\n",
       "  content: '►';\n",
       "  font-size: 11px;\n",
       "  width: 15px;\n",
       "  text-align: center;\n",
       "}\n",
       "\n",
       ".xr-section-summary-in:disabled + label:before {\n",
       "  color: var(--xr-disabled-color);\n",
       "}\n",
       "\n",
       ".xr-section-summary-in:checked + label:before {\n",
       "  content: '▼';\n",
       "}\n",
       "\n",
       ".xr-section-summary-in:checked + label > span {\n",
       "  display: none;\n",
       "}\n",
       "\n",
       ".xr-section-summary,\n",
       ".xr-section-inline-details {\n",
       "  padding-top: 4px;\n",
       "  padding-bottom: 4px;\n",
       "}\n",
       "\n",
       ".xr-section-inline-details {\n",
       "  grid-column: 2 / -1;\n",
       "}\n",
       "\n",
       ".xr-section-details {\n",
       "  display: none;\n",
       "  grid-column: 1 / -1;\n",
       "  margin-bottom: 5px;\n",
       "}\n",
       "\n",
       ".xr-section-summary-in:checked ~ .xr-section-details {\n",
       "  display: contents;\n",
       "}\n",
       "\n",
       ".xr-array-wrap {\n",
       "  grid-column: 1 / -1;\n",
       "  display: grid;\n",
       "  grid-template-columns: 20px auto;\n",
       "}\n",
       "\n",
       ".xr-array-wrap > label {\n",
       "  grid-column: 1;\n",
       "  vertical-align: top;\n",
       "}\n",
       "\n",
       ".xr-preview {\n",
       "  color: var(--xr-font-color3);\n",
       "}\n",
       "\n",
       ".xr-array-preview,\n",
       ".xr-array-data {\n",
       "  padding: 0 5px !important;\n",
       "  grid-column: 2;\n",
       "}\n",
       "\n",
       ".xr-array-data,\n",
       ".xr-array-in:checked ~ .xr-array-preview {\n",
       "  display: none;\n",
       "}\n",
       "\n",
       ".xr-array-in:checked ~ .xr-array-data,\n",
       ".xr-array-preview {\n",
       "  display: inline-block;\n",
       "}\n",
       "\n",
       ".xr-dim-list {\n",
       "  display: inline-block !important;\n",
       "  list-style: none;\n",
       "  padding: 0 !important;\n",
       "  margin: 0;\n",
       "}\n",
       "\n",
       ".xr-dim-list li {\n",
       "  display: inline-block;\n",
       "  padding: 0;\n",
       "  margin: 0;\n",
       "}\n",
       "\n",
       ".xr-dim-list:before {\n",
       "  content: '(';\n",
       "}\n",
       "\n",
       ".xr-dim-list:after {\n",
       "  content: ')';\n",
       "}\n",
       "\n",
       ".xr-dim-list li:not(:last-child):after {\n",
       "  content: ',';\n",
       "  padding-right: 5px;\n",
       "}\n",
       "\n",
       ".xr-has-index {\n",
       "  font-weight: bold;\n",
       "}\n",
       "\n",
       ".xr-var-list,\n",
       ".xr-var-item {\n",
       "  display: contents;\n",
       "}\n",
       "\n",
       ".xr-var-item > div,\n",
       ".xr-var-item label,\n",
       ".xr-var-item > .xr-var-name span {\n",
       "  background-color: var(--xr-background-color-row-even);\n",
       "  margin-bottom: 0;\n",
       "}\n",
       "\n",
       ".xr-var-item > .xr-var-name:hover span {\n",
       "  padding-right: 5px;\n",
       "}\n",
       "\n",
       ".xr-var-list > li:nth-child(odd) > div,\n",
       ".xr-var-list > li:nth-child(odd) > label,\n",
       ".xr-var-list > li:nth-child(odd) > .xr-var-name span {\n",
       "  background-color: var(--xr-background-color-row-odd);\n",
       "}\n",
       "\n",
       ".xr-var-name {\n",
       "  grid-column: 1;\n",
       "}\n",
       "\n",
       ".xr-var-dims {\n",
       "  grid-column: 2;\n",
       "}\n",
       "\n",
       ".xr-var-dtype {\n",
       "  grid-column: 3;\n",
       "  text-align: right;\n",
       "  color: var(--xr-font-color2);\n",
       "}\n",
       "\n",
       ".xr-var-preview {\n",
       "  grid-column: 4;\n",
       "}\n",
       "\n",
       ".xr-var-name,\n",
       ".xr-var-dims,\n",
       ".xr-var-dtype,\n",
       ".xr-preview,\n",
       ".xr-attrs dt {\n",
       "  white-space: nowrap;\n",
       "  overflow: hidden;\n",
       "  text-overflow: ellipsis;\n",
       "  padding-right: 10px;\n",
       "}\n",
       "\n",
       ".xr-var-name:hover,\n",
       ".xr-var-dims:hover,\n",
       ".xr-var-dtype:hover,\n",
       ".xr-attrs dt:hover {\n",
       "  overflow: visible;\n",
       "  width: auto;\n",
       "  z-index: 1;\n",
       "}\n",
       "\n",
       ".xr-var-attrs,\n",
       ".xr-var-data {\n",
       "  display: none;\n",
       "  background-color: var(--xr-background-color) !important;\n",
       "  padding-bottom: 5px !important;\n",
       "}\n",
       "\n",
       ".xr-var-attrs-in:checked ~ .xr-var-attrs,\n",
       ".xr-var-data-in:checked ~ .xr-var-data {\n",
       "  display: block;\n",
       "}\n",
       "\n",
       ".xr-var-data > table {\n",
       "  float: right;\n",
       "}\n",
       "\n",
       ".xr-var-name span,\n",
       ".xr-var-data,\n",
       ".xr-attrs {\n",
       "  padding-left: 25px !important;\n",
       "}\n",
       "\n",
       ".xr-attrs,\n",
       ".xr-var-attrs,\n",
       ".xr-var-data {\n",
       "  grid-column: 1 / -1;\n",
       "}\n",
       "\n",
       "dl.xr-attrs {\n",
       "  padding: 0;\n",
       "  margin: 0;\n",
       "  display: grid;\n",
       "  grid-template-columns: 125px auto;\n",
       "}\n",
       "\n",
       ".xr-attrs dt, dd {\n",
       "  padding: 0;\n",
       "  margin: 0;\n",
       "  float: left;\n",
       "  padding-right: 10px;\n",
       "  width: auto;\n",
       "}\n",
       "\n",
       ".xr-attrs dt {\n",
       "  font-weight: normal;\n",
       "  grid-column: 1;\n",
       "}\n",
       "\n",
       ".xr-attrs dt:hover span {\n",
       "  display: inline-block;\n",
       "  background: var(--xr-background-color);\n",
       "  padding-right: 10px;\n",
       "}\n",
       "\n",
       ".xr-attrs dd {\n",
       "  grid-column: 2;\n",
       "  white-space: pre-wrap;\n",
       "  word-break: break-all;\n",
       "}\n",
       "\n",
       ".xr-icon-database,\n",
       ".xr-icon-file-text2 {\n",
       "  display: inline-block;\n",
       "  vertical-align: middle;\n",
       "  width: 1em;\n",
       "  height: 1.5em !important;\n",
       "  stroke-width: 0;\n",
       "  stroke: currentColor;\n",
       "  fill: currentColor;\n",
       "}\n",
       "</style><pre class='xr-text-repr-fallback'>&lt;xarray.DataArray &#x27;longitude&#x27; (longitude: 360)&gt;\n",
       "array([-179.5, -178.5, -177.5, ...,  177.5,  178.5,  179.5], dtype=float32)\n",
       "Coordinates:\n",
       "  * longitude  (longitude) float32 -179.5 -178.5 -177.5 ... 177.5 178.5 179.5\n",
       "Attributes:\n",
       "    units:          degrees_east\n",
       "    long_name:      Longitude\n",
       "    standard_name:  longitude</pre><div class='xr-wrap' hidden><div class='xr-header'><div class='xr-obj-type'>xarray.DataArray</div><div class='xr-array-name'>'longitude'</div><ul class='xr-dim-list'><li><span class='xr-has-index'>longitude</span>: 360</li></ul></div><ul class='xr-sections'><li class='xr-section-item'><div class='xr-array-wrap'><input id='section-d25f21e7-47ef-40bb-96c3-45d630ddaf6e' class='xr-array-in' type='checkbox' checked><label for='section-d25f21e7-47ef-40bb-96c3-45d630ddaf6e' title='Show/hide data repr'><svg class='icon xr-icon-database'><use xlink:href='#icon-database'></use></svg></label><div class='xr-array-preview xr-preview'><span>-179.5 -178.5 -177.5 -176.5 -175.5 ... 175.5 176.5 177.5 178.5 179.5</span></div><div class='xr-array-data'><pre>array([-179.5, -178.5, -177.5, ...,  177.5,  178.5,  179.5], dtype=float32)</pre></div></div></li><li class='xr-section-item'><input id='section-622a9d64-8f47-4483-91bc-29f242a2b692' class='xr-section-summary-in' type='checkbox'  checked><label for='section-622a9d64-8f47-4483-91bc-29f242a2b692' class='xr-section-summary' >Coordinates: <span>(1)</span></label><div class='xr-section-inline-details'></div><div class='xr-section-details'><ul class='xr-var-list'><li class='xr-var-item'><div class='xr-var-name'><span class='xr-has-index'>longitude</span></div><div class='xr-var-dims'>(longitude)</div><div class='xr-var-dtype'>float32</div><div class='xr-var-preview xr-preview'>-179.5 -178.5 ... 178.5 179.5</div><input id='attrs-b16e4c3f-457b-4426-b340-307334ca954e' class='xr-var-attrs-in' type='checkbox' ><label for='attrs-b16e4c3f-457b-4426-b340-307334ca954e' title='Show/Hide attributes'><svg class='icon xr-icon-file-text2'><use xlink:href='#icon-file-text2'></use></svg></label><input id='data-023578a1-5932-4643-b021-7e2d031fca3b' class='xr-var-data-in' type='checkbox'><label for='data-023578a1-5932-4643-b021-7e2d031fca3b' title='Show/Hide data repr'><svg class='icon xr-icon-database'><use xlink:href='#icon-database'></use></svg></label><div class='xr-var-attrs'><dl class='xr-attrs'><dt><span>units :</span></dt><dd>degrees_east</dd><dt><span>long_name :</span></dt><dd>Longitude</dd><dt><span>standard_name :</span></dt><dd>longitude</dd></dl></div><div class='xr-var-data'><pre>array([-179.5, -178.5, -177.5, ...,  177.5,  178.5,  179.5], dtype=float32)</pre></div></li></ul></div></li><li class='xr-section-item'><input id='section-0bf82a0e-eabb-443a-8ccb-0ef4a0cac0b3' class='xr-section-summary-in' type='checkbox'  checked><label for='section-0bf82a0e-eabb-443a-8ccb-0ef4a0cac0b3' class='xr-section-summary' >Attributes: <span>(3)</span></label><div class='xr-section-inline-details'></div><div class='xr-section-details'><dl class='xr-attrs'><dt><span>units :</span></dt><dd>degrees_east</dd><dt><span>long_name :</span></dt><dd>Longitude</dd><dt><span>standard_name :</span></dt><dd>longitude</dd></dl></div></li></ul></div></div>"
      ],
      "text/plain": [
       "<xarray.DataArray 'longitude' (longitude: 360)>\n",
       "array([-179.5, -178.5, -177.5, ...,  177.5,  178.5,  179.5], dtype=float32)\n",
       "Coordinates:\n",
       "  * longitude  (longitude) float32 -179.5 -178.5 -177.5 ... 177.5 178.5 179.5\n",
       "Attributes:\n",
       "    units:          degrees_east\n",
       "    long_name:      Longitude\n",
       "    standard_name:  longitude"
      ]
     },
     "execution_count": 24,
     "metadata": {},
     "output_type": "execute_result"
    }
   ],
   "source": [
    "ds1_coords['longitude']"
   ]
  },
  {
   "cell_type": "markdown",
   "metadata": {},
   "source": [
    "Note that when we print out longitude, this object also has its own attributes: units, long_name, standard_name. If you wanted to select one of these attributes individually, you could do it like this:"
   ]
  },
  {
   "cell_type": "code",
   "execution_count": 25,
   "metadata": {},
   "outputs": [
    {
     "data": {
      "text/plain": [
       "'degrees_east'"
      ]
     },
     "execution_count": 25,
     "metadata": {},
     "output_type": "execute_result"
    }
   ],
   "source": [
    "ds1_coords['longitude'].attrs['units']"
   ]
  },
  {
   "cell_type": "markdown",
   "metadata": {},
   "source": [
    "The data variable is the piece that we will do most of our manipulation on. Again, we can select just the variable we want using square brackets and the name of the variable (as a string). Variables have attributes that can also be selected by .attr['name_of_attr']"
   ]
  },
  {
   "cell_type": "code",
   "execution_count": 26,
   "metadata": {},
   "outputs": [
    {
     "data": {
      "text/html": [
       "<div><svg style=\"position: absolute; width: 0; height: 0; overflow: hidden\">\n",
       "<defs>\n",
       "<symbol id=\"icon-database\" viewBox=\"0 0 32 32\">\n",
       "<path d=\"M16 0c-8.837 0-16 2.239-16 5v4c0 2.761 7.163 5 16 5s16-2.239 16-5v-4c0-2.761-7.163-5-16-5z\"></path>\n",
       "<path d=\"M16 17c-8.837 0-16-2.239-16-5v6c0 2.761 7.163 5 16 5s16-2.239 16-5v-6c0 2.761-7.163 5-16 5z\"></path>\n",
       "<path d=\"M16 26c-8.837 0-16-2.239-16-5v6c0 2.761 7.163 5 16 5s16-2.239 16-5v-6c0 2.761-7.163 5-16 5z\"></path>\n",
       "</symbol>\n",
       "<symbol id=\"icon-file-text2\" viewBox=\"0 0 32 32\">\n",
       "<path d=\"M28.681 7.159c-0.694-0.947-1.662-2.053-2.724-3.116s-2.169-2.030-3.116-2.724c-1.612-1.182-2.393-1.319-2.841-1.319h-15.5c-1.378 0-2.5 1.121-2.5 2.5v27c0 1.378 1.122 2.5 2.5 2.5h23c1.378 0 2.5-1.122 2.5-2.5v-19.5c0-0.448-0.137-1.23-1.319-2.841zM24.543 5.457c0.959 0.959 1.712 1.825 2.268 2.543h-4.811v-4.811c0.718 0.556 1.584 1.309 2.543 2.268zM28 29.5c0 0.271-0.229 0.5-0.5 0.5h-23c-0.271 0-0.5-0.229-0.5-0.5v-27c0-0.271 0.229-0.5 0.5-0.5 0 0 15.499-0 15.5 0v7c0 0.552 0.448 1 1 1h7v19.5z\"></path>\n",
       "<path d=\"M23 26h-14c-0.552 0-1-0.448-1-1s0.448-1 1-1h14c0.552 0 1 0.448 1 1s-0.448 1-1 1z\"></path>\n",
       "<path d=\"M23 22h-14c-0.552 0-1-0.448-1-1s0.448-1 1-1h14c0.552 0 1 0.448 1 1s-0.448 1-1 1z\"></path>\n",
       "<path d=\"M23 18h-14c-0.552 0-1-0.448-1-1s0.448-1 1-1h14c0.552 0 1 0.448 1 1s-0.448 1-1 1z\"></path>\n",
       "</symbol>\n",
       "</defs>\n",
       "</svg>\n",
       "<style>/* CSS stylesheet for displaying xarray objects in jupyterlab.\n",
       " *\n",
       " */\n",
       "\n",
       ":root {\n",
       "  --xr-font-color0: var(--jp-content-font-color0, rgba(0, 0, 0, 1));\n",
       "  --xr-font-color2: var(--jp-content-font-color2, rgba(0, 0, 0, 0.54));\n",
       "  --xr-font-color3: var(--jp-content-font-color3, rgba(0, 0, 0, 0.38));\n",
       "  --xr-border-color: var(--jp-border-color2, #e0e0e0);\n",
       "  --xr-disabled-color: var(--jp-layout-color3, #bdbdbd);\n",
       "  --xr-background-color: var(--jp-layout-color0, white);\n",
       "  --xr-background-color-row-even: var(--jp-layout-color1, white);\n",
       "  --xr-background-color-row-odd: var(--jp-layout-color2, #eeeeee);\n",
       "}\n",
       "\n",
       "html[theme=dark],\n",
       "body.vscode-dark {\n",
       "  --xr-font-color0: rgba(255, 255, 255, 1);\n",
       "  --xr-font-color2: rgba(255, 255, 255, 0.54);\n",
       "  --xr-font-color3: rgba(255, 255, 255, 0.38);\n",
       "  --xr-border-color: #1F1F1F;\n",
       "  --xr-disabled-color: #515151;\n",
       "  --xr-background-color: #111111;\n",
       "  --xr-background-color-row-even: #111111;\n",
       "  --xr-background-color-row-odd: #313131;\n",
       "}\n",
       "\n",
       ".xr-wrap {\n",
       "  display: block;\n",
       "  min-width: 300px;\n",
       "  max-width: 700px;\n",
       "}\n",
       "\n",
       ".xr-text-repr-fallback {\n",
       "  /* fallback to plain text repr when CSS is not injected (untrusted notebook) */\n",
       "  display: none;\n",
       "}\n",
       "\n",
       ".xr-header {\n",
       "  padding-top: 6px;\n",
       "  padding-bottom: 6px;\n",
       "  margin-bottom: 4px;\n",
       "  border-bottom: solid 1px var(--xr-border-color);\n",
       "}\n",
       "\n",
       ".xr-header > div,\n",
       ".xr-header > ul {\n",
       "  display: inline;\n",
       "  margin-top: 0;\n",
       "  margin-bottom: 0;\n",
       "}\n",
       "\n",
       ".xr-obj-type,\n",
       ".xr-array-name {\n",
       "  margin-left: 2px;\n",
       "  margin-right: 10px;\n",
       "}\n",
       "\n",
       ".xr-obj-type {\n",
       "  color: var(--xr-font-color2);\n",
       "}\n",
       "\n",
       ".xr-sections {\n",
       "  padding-left: 0 !important;\n",
       "  display: grid;\n",
       "  grid-template-columns: 150px auto auto 1fr 20px 20px;\n",
       "}\n",
       "\n",
       ".xr-section-item {\n",
       "  display: contents;\n",
       "}\n",
       "\n",
       ".xr-section-item input {\n",
       "  display: none;\n",
       "}\n",
       "\n",
       ".xr-section-item input + label {\n",
       "  color: var(--xr-disabled-color);\n",
       "}\n",
       "\n",
       ".xr-section-item input:enabled + label {\n",
       "  cursor: pointer;\n",
       "  color: var(--xr-font-color2);\n",
       "}\n",
       "\n",
       ".xr-section-item input:enabled + label:hover {\n",
       "  color: var(--xr-font-color0);\n",
       "}\n",
       "\n",
       ".xr-section-summary {\n",
       "  grid-column: 1;\n",
       "  color: var(--xr-font-color2);\n",
       "  font-weight: 500;\n",
       "}\n",
       "\n",
       ".xr-section-summary > span {\n",
       "  display: inline-block;\n",
       "  padding-left: 0.5em;\n",
       "}\n",
       "\n",
       ".xr-section-summary-in:disabled + label {\n",
       "  color: var(--xr-font-color2);\n",
       "}\n",
       "\n",
       ".xr-section-summary-in + label:before {\n",
       "  display: inline-block;\n",
       "  content: '►';\n",
       "  font-size: 11px;\n",
       "  width: 15px;\n",
       "  text-align: center;\n",
       "}\n",
       "\n",
       ".xr-section-summary-in:disabled + label:before {\n",
       "  color: var(--xr-disabled-color);\n",
       "}\n",
       "\n",
       ".xr-section-summary-in:checked + label:before {\n",
       "  content: '▼';\n",
       "}\n",
       "\n",
       ".xr-section-summary-in:checked + label > span {\n",
       "  display: none;\n",
       "}\n",
       "\n",
       ".xr-section-summary,\n",
       ".xr-section-inline-details {\n",
       "  padding-top: 4px;\n",
       "  padding-bottom: 4px;\n",
       "}\n",
       "\n",
       ".xr-section-inline-details {\n",
       "  grid-column: 2 / -1;\n",
       "}\n",
       "\n",
       ".xr-section-details {\n",
       "  display: none;\n",
       "  grid-column: 1 / -1;\n",
       "  margin-bottom: 5px;\n",
       "}\n",
       "\n",
       ".xr-section-summary-in:checked ~ .xr-section-details {\n",
       "  display: contents;\n",
       "}\n",
       "\n",
       ".xr-array-wrap {\n",
       "  grid-column: 1 / -1;\n",
       "  display: grid;\n",
       "  grid-template-columns: 20px auto;\n",
       "}\n",
       "\n",
       ".xr-array-wrap > label {\n",
       "  grid-column: 1;\n",
       "  vertical-align: top;\n",
       "}\n",
       "\n",
       ".xr-preview {\n",
       "  color: var(--xr-font-color3);\n",
       "}\n",
       "\n",
       ".xr-array-preview,\n",
       ".xr-array-data {\n",
       "  padding: 0 5px !important;\n",
       "  grid-column: 2;\n",
       "}\n",
       "\n",
       ".xr-array-data,\n",
       ".xr-array-in:checked ~ .xr-array-preview {\n",
       "  display: none;\n",
       "}\n",
       "\n",
       ".xr-array-in:checked ~ .xr-array-data,\n",
       ".xr-array-preview {\n",
       "  display: inline-block;\n",
       "}\n",
       "\n",
       ".xr-dim-list {\n",
       "  display: inline-block !important;\n",
       "  list-style: none;\n",
       "  padding: 0 !important;\n",
       "  margin: 0;\n",
       "}\n",
       "\n",
       ".xr-dim-list li {\n",
       "  display: inline-block;\n",
       "  padding: 0;\n",
       "  margin: 0;\n",
       "}\n",
       "\n",
       ".xr-dim-list:before {\n",
       "  content: '(';\n",
       "}\n",
       "\n",
       ".xr-dim-list:after {\n",
       "  content: ')';\n",
       "}\n",
       "\n",
       ".xr-dim-list li:not(:last-child):after {\n",
       "  content: ',';\n",
       "  padding-right: 5px;\n",
       "}\n",
       "\n",
       ".xr-has-index {\n",
       "  font-weight: bold;\n",
       "}\n",
       "\n",
       ".xr-var-list,\n",
       ".xr-var-item {\n",
       "  display: contents;\n",
       "}\n",
       "\n",
       ".xr-var-item > div,\n",
       ".xr-var-item label,\n",
       ".xr-var-item > .xr-var-name span {\n",
       "  background-color: var(--xr-background-color-row-even);\n",
       "  margin-bottom: 0;\n",
       "}\n",
       "\n",
       ".xr-var-item > .xr-var-name:hover span {\n",
       "  padding-right: 5px;\n",
       "}\n",
       "\n",
       ".xr-var-list > li:nth-child(odd) > div,\n",
       ".xr-var-list > li:nth-child(odd) > label,\n",
       ".xr-var-list > li:nth-child(odd) > .xr-var-name span {\n",
       "  background-color: var(--xr-background-color-row-odd);\n",
       "}\n",
       "\n",
       ".xr-var-name {\n",
       "  grid-column: 1;\n",
       "}\n",
       "\n",
       ".xr-var-dims {\n",
       "  grid-column: 2;\n",
       "}\n",
       "\n",
       ".xr-var-dtype {\n",
       "  grid-column: 3;\n",
       "  text-align: right;\n",
       "  color: var(--xr-font-color2);\n",
       "}\n",
       "\n",
       ".xr-var-preview {\n",
       "  grid-column: 4;\n",
       "}\n",
       "\n",
       ".xr-var-name,\n",
       ".xr-var-dims,\n",
       ".xr-var-dtype,\n",
       ".xr-preview,\n",
       ".xr-attrs dt {\n",
       "  white-space: nowrap;\n",
       "  overflow: hidden;\n",
       "  text-overflow: ellipsis;\n",
       "  padding-right: 10px;\n",
       "}\n",
       "\n",
       ".xr-var-name:hover,\n",
       ".xr-var-dims:hover,\n",
       ".xr-var-dtype:hover,\n",
       ".xr-attrs dt:hover {\n",
       "  overflow: visible;\n",
       "  width: auto;\n",
       "  z-index: 1;\n",
       "}\n",
       "\n",
       ".xr-var-attrs,\n",
       ".xr-var-data {\n",
       "  display: none;\n",
       "  background-color: var(--xr-background-color) !important;\n",
       "  padding-bottom: 5px !important;\n",
       "}\n",
       "\n",
       ".xr-var-attrs-in:checked ~ .xr-var-attrs,\n",
       ".xr-var-data-in:checked ~ .xr-var-data {\n",
       "  display: block;\n",
       "}\n",
       "\n",
       ".xr-var-data > table {\n",
       "  float: right;\n",
       "}\n",
       "\n",
       ".xr-var-name span,\n",
       ".xr-var-data,\n",
       ".xr-attrs {\n",
       "  padding-left: 25px !important;\n",
       "}\n",
       "\n",
       ".xr-attrs,\n",
       ".xr-var-attrs,\n",
       ".xr-var-data {\n",
       "  grid-column: 1 / -1;\n",
       "}\n",
       "\n",
       "dl.xr-attrs {\n",
       "  padding: 0;\n",
       "  margin: 0;\n",
       "  display: grid;\n",
       "  grid-template-columns: 125px auto;\n",
       "}\n",
       "\n",
       ".xr-attrs dt, dd {\n",
       "  padding: 0;\n",
       "  margin: 0;\n",
       "  float: left;\n",
       "  padding-right: 10px;\n",
       "  width: auto;\n",
       "}\n",
       "\n",
       ".xr-attrs dt {\n",
       "  font-weight: normal;\n",
       "  grid-column: 1;\n",
       "}\n",
       "\n",
       ".xr-attrs dt:hover span {\n",
       "  display: inline-block;\n",
       "  background: var(--xr-background-color);\n",
       "  padding-right: 10px;\n",
       "}\n",
       "\n",
       ".xr-attrs dd {\n",
       "  grid-column: 2;\n",
       "  white-space: pre-wrap;\n",
       "  word-break: break-all;\n",
       "}\n",
       "\n",
       ".xr-icon-database,\n",
       ".xr-icon-file-text2 {\n",
       "  display: inline-block;\n",
       "  vertical-align: middle;\n",
       "  width: 1em;\n",
       "  height: 1.5em !important;\n",
       "  stroke-width: 0;\n",
       "  stroke: currentColor;\n",
       "  fill: currentColor;\n",
       "}\n",
       "</style><pre class='xr-text-repr-fallback'>&lt;xarray.DataArray &#x27;sst&#x27; (time: 1769, latitude: 180, longitude: 360)&gt;\n",
       "[114631200 values with dtype=float32]\n",
       "Coordinates:\n",
       "  * time       (time) datetime64[ns] 1870-01-16T11:59:59.505615234 ... 2017-0...\n",
       "  * latitude   (latitude) float32 89.5 88.5 87.5 86.5 ... -87.5 -88.5 -89.5\n",
       "  * longitude  (longitude) float32 -179.5 -178.5 -177.5 ... 177.5 178.5 179.5\n",
       "Attributes:\n",
       "    standard_name:  sea_surface_temperature\n",
       "    long_name:      sst\n",
       "    units:          C\n",
       "    cell_methods:   time: lat: lon: mean</pre><div class='xr-wrap' hidden><div class='xr-header'><div class='xr-obj-type'>xarray.DataArray</div><div class='xr-array-name'>'sst'</div><ul class='xr-dim-list'><li><span class='xr-has-index'>time</span>: 1769</li><li><span class='xr-has-index'>latitude</span>: 180</li><li><span class='xr-has-index'>longitude</span>: 360</li></ul></div><ul class='xr-sections'><li class='xr-section-item'><div class='xr-array-wrap'><input id='section-aed5e6a0-c22a-47b0-9fac-589676224649' class='xr-array-in' type='checkbox' checked><label for='section-aed5e6a0-c22a-47b0-9fac-589676224649' title='Show/hide data repr'><svg class='icon xr-icon-database'><use xlink:href='#icon-database'></use></svg></label><div class='xr-array-preview xr-preview'><span>...</span></div><div class='xr-array-data'><pre>[114631200 values with dtype=float32]</pre></div></div></li><li class='xr-section-item'><input id='section-46ef5720-da64-4101-b398-6cac4b0adff4' class='xr-section-summary-in' type='checkbox'  checked><label for='section-46ef5720-da64-4101-b398-6cac4b0adff4' class='xr-section-summary' >Coordinates: <span>(3)</span></label><div class='xr-section-inline-details'></div><div class='xr-section-details'><ul class='xr-var-list'><li class='xr-var-item'><div class='xr-var-name'><span class='xr-has-index'>time</span></div><div class='xr-var-dims'>(time)</div><div class='xr-var-dtype'>datetime64[ns]</div><div class='xr-var-preview xr-preview'>1870-01-16T11:59:59.505615234 .....</div><input id='attrs-e4e4601f-1859-4a1e-8a2e-7395fe525095' class='xr-var-attrs-in' type='checkbox' ><label for='attrs-e4e4601f-1859-4a1e-8a2e-7395fe525095' title='Show/Hide attributes'><svg class='icon xr-icon-file-text2'><use xlink:href='#icon-file-text2'></use></svg></label><input id='data-6abb8491-56ec-4a2c-a9b1-147c4e0e1ef2' class='xr-var-data-in' type='checkbox'><label for='data-6abb8491-56ec-4a2c-a9b1-147c4e0e1ef2' title='Show/Hide data repr'><svg class='icon xr-icon-database'><use xlink:href='#icon-database'></use></svg></label><div class='xr-var-attrs'><dl class='xr-attrs'><dt><span>long_name :</span></dt><dd>Time</dd><dt><span>standard_name :</span></dt><dd>time</dd></dl></div><div class='xr-var-data'><pre>array([&#x27;1870-01-16T11:59:59.505615234&#x27;, &#x27;1870-02-14T23:59:59.340820312&#x27;,\n",
       "       &#x27;1870-03-16T11:59:59.340820312&#x27;, ..., &#x27;2017-03-16T12:00:00.000000000&#x27;,\n",
       "       &#x27;2017-04-16T12:00:00.000000000&#x27;, &#x27;2017-05-16T12:00:00.000000000&#x27;],\n",
       "      dtype=&#x27;datetime64[ns]&#x27;)</pre></div></li><li class='xr-var-item'><div class='xr-var-name'><span class='xr-has-index'>latitude</span></div><div class='xr-var-dims'>(latitude)</div><div class='xr-var-dtype'>float32</div><div class='xr-var-preview xr-preview'>89.5 88.5 87.5 ... -88.5 -89.5</div><input id='attrs-136b7133-0dee-4f5a-b6de-18514da4d14d' class='xr-var-attrs-in' type='checkbox' ><label for='attrs-136b7133-0dee-4f5a-b6de-18514da4d14d' title='Show/Hide attributes'><svg class='icon xr-icon-file-text2'><use xlink:href='#icon-file-text2'></use></svg></label><input id='data-4ef98ac5-f609-4548-a60a-0d141f2171e4' class='xr-var-data-in' type='checkbox'><label for='data-4ef98ac5-f609-4548-a60a-0d141f2171e4' title='Show/Hide data repr'><svg class='icon xr-icon-database'><use xlink:href='#icon-database'></use></svg></label><div class='xr-var-attrs'><dl class='xr-attrs'><dt><span>units :</span></dt><dd>degrees_north</dd><dt><span>long_name :</span></dt><dd>Latitude</dd><dt><span>standard_name :</span></dt><dd>latitude</dd></dl></div><div class='xr-var-data'><pre>array([ 89.5,  88.5,  87.5,  86.5,  85.5,  84.5,  83.5,  82.5,  81.5,  80.5,\n",
       "        79.5,  78.5,  77.5,  76.5,  75.5,  74.5,  73.5,  72.5,  71.5,  70.5,\n",
       "        69.5,  68.5,  67.5,  66.5,  65.5,  64.5,  63.5,  62.5,  61.5,  60.5,\n",
       "        59.5,  58.5,  57.5,  56.5,  55.5,  54.5,  53.5,  52.5,  51.5,  50.5,\n",
       "        49.5,  48.5,  47.5,  46.5,  45.5,  44.5,  43.5,  42.5,  41.5,  40.5,\n",
       "        39.5,  38.5,  37.5,  36.5,  35.5,  34.5,  33.5,  32.5,  31.5,  30.5,\n",
       "        29.5,  28.5,  27.5,  26.5,  25.5,  24.5,  23.5,  22.5,  21.5,  20.5,\n",
       "        19.5,  18.5,  17.5,  16.5,  15.5,  14.5,  13.5,  12.5,  11.5,  10.5,\n",
       "         9.5,   8.5,   7.5,   6.5,   5.5,   4.5,   3.5,   2.5,   1.5,   0.5,\n",
       "        -0.5,  -1.5,  -2.5,  -3.5,  -4.5,  -5.5,  -6.5,  -7.5,  -8.5,  -9.5,\n",
       "       -10.5, -11.5, -12.5, -13.5, -14.5, -15.5, -16.5, -17.5, -18.5, -19.5,\n",
       "       -20.5, -21.5, -22.5, -23.5, -24.5, -25.5, -26.5, -27.5, -28.5, -29.5,\n",
       "       -30.5, -31.5, -32.5, -33.5, -34.5, -35.5, -36.5, -37.5, -38.5, -39.5,\n",
       "       -40.5, -41.5, -42.5, -43.5, -44.5, -45.5, -46.5, -47.5, -48.5, -49.5,\n",
       "       -50.5, -51.5, -52.5, -53.5, -54.5, -55.5, -56.5, -57.5, -58.5, -59.5,\n",
       "       -60.5, -61.5, -62.5, -63.5, -64.5, -65.5, -66.5, -67.5, -68.5, -69.5,\n",
       "       -70.5, -71.5, -72.5, -73.5, -74.5, -75.5, -76.5, -77.5, -78.5, -79.5,\n",
       "       -80.5, -81.5, -82.5, -83.5, -84.5, -85.5, -86.5, -87.5, -88.5, -89.5],\n",
       "      dtype=float32)</pre></div></li><li class='xr-var-item'><div class='xr-var-name'><span class='xr-has-index'>longitude</span></div><div class='xr-var-dims'>(longitude)</div><div class='xr-var-dtype'>float32</div><div class='xr-var-preview xr-preview'>-179.5 -178.5 ... 178.5 179.5</div><input id='attrs-cd30cf7e-8a56-4c83-a317-d05008fa605c' class='xr-var-attrs-in' type='checkbox' ><label for='attrs-cd30cf7e-8a56-4c83-a317-d05008fa605c' title='Show/Hide attributes'><svg class='icon xr-icon-file-text2'><use xlink:href='#icon-file-text2'></use></svg></label><input id='data-824a41cb-10b1-4635-906f-6a025f72bf68' class='xr-var-data-in' type='checkbox'><label for='data-824a41cb-10b1-4635-906f-6a025f72bf68' title='Show/Hide data repr'><svg class='icon xr-icon-database'><use xlink:href='#icon-database'></use></svg></label><div class='xr-var-attrs'><dl class='xr-attrs'><dt><span>units :</span></dt><dd>degrees_east</dd><dt><span>long_name :</span></dt><dd>Longitude</dd><dt><span>standard_name :</span></dt><dd>longitude</dd></dl></div><div class='xr-var-data'><pre>array([-179.5, -178.5, -177.5, ...,  177.5,  178.5,  179.5], dtype=float32)</pre></div></li></ul></div></li><li class='xr-section-item'><input id='section-c9728fc4-1e7c-468b-8a04-1bf36b6f50f2' class='xr-section-summary-in' type='checkbox'  checked><label for='section-c9728fc4-1e7c-468b-8a04-1bf36b6f50f2' class='xr-section-summary' >Attributes: <span>(4)</span></label><div class='xr-section-inline-details'></div><div class='xr-section-details'><dl class='xr-attrs'><dt><span>standard_name :</span></dt><dd>sea_surface_temperature</dd><dt><span>long_name :</span></dt><dd>sst</dd><dt><span>units :</span></dt><dd>C</dd><dt><span>cell_methods :</span></dt><dd>time: lat: lon: mean</dd></dl></div></li></ul></div></div>"
      ],
      "text/plain": [
       "<xarray.DataArray 'sst' (time: 1769, latitude: 180, longitude: 360)>\n",
       "[114631200 values with dtype=float32]\n",
       "Coordinates:\n",
       "  * time       (time) datetime64[ns] 1870-01-16T11:59:59.505615234 ... 2017-0...\n",
       "  * latitude   (latitude) float32 89.5 88.5 87.5 86.5 ... -87.5 -88.5 -89.5\n",
       "  * longitude  (longitude) float32 -179.5 -178.5 -177.5 ... 177.5 178.5 179.5\n",
       "Attributes:\n",
       "    standard_name:  sea_surface_temperature\n",
       "    long_name:      sst\n",
       "    units:          C\n",
       "    cell_methods:   time: lat: lon: mean"
      ]
     },
     "execution_count": 26,
     "metadata": {},
     "output_type": "execute_result"
    }
   ],
   "source": [
    "sst=ds1['sst']\n",
    "sst"
   ]
  },
  {
   "cell_type": "markdown",
   "metadata": {},
   "source": [
    "Besides attributes, variables and coordinates also contain a numpy array that is an array of JUST the values without any labels, units, attributes, just a 3-d array (for sst).  To pull the values out as a numpy object:"
   ]
  },
  {
   "cell_type": "code",
   "execution_count": 34,
   "metadata": {},
   "outputs": [],
   "source": [
    "sst_np=sst.values"
   ]
  },
  {
   "cell_type": "markdown",
   "metadata": {},
   "source": [
    "You may have noticed that there was an asterisk appeared in the [] to the left of the cell above for a few seconds before it turned into a number.  When you use .values, this forces the numpy array to be read into memory, which takes a few seconds.  xarray by default uses \"lazy computing,\" which means that it won't read anything into memory until it absolutely has to. This is why some cells may seem to execute quickly, but then the final cell with the plot takes forever. Making a plot finally forced the computation (which takes time). <br><br>\n",
    "Much of the time in this class we will use xarray objects (not the underlying numpy object) because they have properties that make them easy to work with. For example, taking a time-mean of the whole sst dataarray only requires the label for the dimension that you're taking the mean over ('time'). You don't need to remember if time was the 0-th dimension or the 1st dimension or etc.:"
   ]
  },
  {
   "cell_type": "code",
   "execution_count": 28,
   "metadata": {},
   "outputs": [
    {
     "name": "stderr",
     "output_type": "stream",
     "text": [
      "/opt/anaconda3/envs/aos575/lib/python3.8/site-packages/xarray/core/nanops.py:142: RuntimeWarning: Mean of empty slice\n",
      "  return np.nanmean(a, axis=axis, dtype=dtype)\n"
     ]
    }
   ],
   "source": [
    "sst_timemean=sst.mean('time')"
   ]
  },
  {
   "cell_type": "markdown",
   "metadata": {},
   "source": [
    "Let's make a quick map using contourf to see what the time mean sst looks like. Does it make sense?"
   ]
  },
  {
   "cell_type": "code",
   "execution_count": 29,
   "metadata": {},
   "outputs": [
    {
     "data": {
      "image/png": "[encoded data removed]",
      "text/plain": [
       "<Figure size 432x288 with 2 Axes>"
      ]
     },
     "metadata": {
      "needs_background": "light"
     },
     "output_type": "display_data"
    }
   ],
   "source": [
    "lon=sst_timemean['longitude']\n",
    "lat=sst_timemean['latitude']\n",
    "\n",
    "f=plt.figure()\n",
    "plt.contourf(lon,lat,sst_timemean,cmap=plt.cm.twilight)\n",
    "plt.xlabel('longitude')\n",
    "plt.ylabel('latitude')\n",
    "cb=plt.colorbar()\n",
    "cb.set_label('SST (degrees C)')"
   ]
  },
  {
   "cell_type": "markdown",
   "metadata": {},
   "source": [
    "Sanity check! Look at the colorbar: Values as low as -900 degC do not make physical sense! While this dataset is masking the continents correctly (white indicates masked values here), it appears that there must be a very negative number indicating where there are other negative numbers, perhaps where sea ice exists. Let's go back to replace the NaNs then recreate the mean. This time we use xarray's .where method to identify and replace very negative numbers:"
   ]
  },
  {
   "cell_type": "code",
   "execution_count": 30,
   "metadata": {},
   "outputs": [
    {
     "data": {
      "image/png": "[encoded data removed]",
      "text/plain": [
       "<Figure size 432x288 with 2 Axes>"
      ]
     },
     "metadata": {
      "needs_background": "light"
     },
     "output_type": "display_data"
    }
   ],
   "source": [
    "sst_timemean_mask=sst.where(sst>-300,np.nan).mean('time')\n",
    "\n",
    "f=plt.figure()\n",
    "plt.contourf(lon,lat,sst_timemean_mask,cmap=plt.cm.twilight)\n",
    "plt.xlabel('longitude')\n",
    "plt.ylabel('latitude')\n",
    "plt.title('time mean over all years')\n",
    "cb=plt.colorbar()\n",
    "cb.set_label('SST (degrees C)')"
   ]
  },
  {
   "cell_type": "markdown",
   "metadata": {},
   "source": [
    "Note how much more sense that makes! SST can be a little bit below 0 degC (salinity!), but not very much. Under sea ice, SST will stay pretty close to 0 degC. <br><br>\n",
    "Now, let's try one more thing with this dataset. What if we want to calculate the monthly or yearly means? xarray makes this very easy by doing a groupby operation and then a mean across groups:"
   ]
  },
  {
   "cell_type": "code",
   "execution_count": 31,
   "metadata": {},
   "outputs": [
    {
     "name": "stdout",
     "output_type": "stream",
     "text": [
      "<xarray.DataArray 'sst' (month: 12, latitude: 180, longitude: 360)>\n",
      "array([[[-1.8000001, -1.8000001, -1.8000001, ..., -1.8000001,\n",
      "         -1.8000001, -1.8000001],\n",
      "        [-1.8      , -1.8      , -1.8      , ..., -1.7999998,\n",
      "         -1.7999998, -1.7999998],\n",
      "        [-1.7999997, -1.7999997, -1.7999997, ..., -1.7999997,\n",
      "         -1.7999997, -1.7999998],\n",
      "        ...,\n",
      "        [       nan,        nan,        nan, ...,        nan,\n",
      "                nan,        nan],\n",
      "        [       nan,        nan,        nan, ...,        nan,\n",
      "                nan,        nan],\n",
      "        [       nan,        nan,        nan, ...,        nan,\n",
      "                nan,        nan]],\n",
      "\n",
      "       [[-1.8      , -1.8      , -1.8      , ..., -1.8      ,\n",
      "         -1.8      , -1.8      ],\n",
      "        [-1.7999998, -1.7999998, -1.7999998, ..., -1.7999998,\n",
      "         -1.7999998, -1.7999998],\n",
      "        [-1.8      , -1.8000001, -1.8000001, ..., -1.8000001,\n",
      "         -1.8000001, -1.8000001],\n",
      "...\n",
      "        [       nan,        nan,        nan, ...,        nan,\n",
      "                nan,        nan],\n",
      "        [       nan,        nan,        nan, ...,        nan,\n",
      "                nan,        nan],\n",
      "        [       nan,        nan,        nan, ...,        nan,\n",
      "                nan,        nan]],\n",
      "\n",
      "       [[-1.8000001, -1.8000001, -1.8000001, ..., -1.8      ,\n",
      "         -1.8      , -1.8      ],\n",
      "        [-1.7999998, -1.7999998, -1.7999998, ..., -1.7999998,\n",
      "         -1.7999998, -1.7999998],\n",
      "        [-1.7999996, -1.7999997, -1.7999997, ..., -1.7999996,\n",
      "         -1.7999996, -1.7999996],\n",
      "        ...,\n",
      "        [       nan,        nan,        nan, ...,        nan,\n",
      "                nan,        nan],\n",
      "        [       nan,        nan,        nan, ...,        nan,\n",
      "                nan,        nan],\n",
      "        [       nan,        nan,        nan, ...,        nan,\n",
      "                nan,        nan]]], dtype=float32)\n",
      "Coordinates:\n",
      "  * latitude   (latitude) float32 89.5 88.5 87.5 86.5 ... -87.5 -88.5 -89.5\n",
      "  * longitude  (longitude) float32 -179.5 -178.5 -177.5 ... 177.5 178.5 179.5\n",
      "  * month      (month) int64 1 2 3 4 5 6 7 8 9 10 11 12\n"
     ]
    }
   ],
   "source": [
    "sst_monthly_mean=sst.where(sst>-300,np.nan).groupby('time.month').mean('time')\n",
    "print(sst_monthly_mean)"
   ]
  },
  {
   "cell_type": "markdown",
   "metadata": {},
   "source": [
    "Notice how we now have dimensions and coordinates of (month, latitude, longitude).  We can now use the .sel method to plot just one month, in this case June:"
   ]
  },
  {
   "cell_type": "code",
   "execution_count": 32,
   "metadata": {},
   "outputs": [
    {
     "data": {
      "image/png": "[encoded data removed]",
      "text/plain": [
       "<Figure size 432x288 with 2 Axes>"
      ]
     },
     "metadata": {
      "needs_background": "light"
     },
     "output_type": "display_data"
    }
   ],
   "source": [
    "sst_junemean=sst_monthly_mean.sel(month=6)\n",
    "\n",
    "f=plt.figure()\n",
    "plt.contourf(lon,lat,sst_junemean,cmap=plt.cm.twilight)\n",
    "plt.xlabel('longitude')\n",
    "plt.ylabel('latitude')\n",
    "plt.title('June mean over all years using xarray methods')\n",
    "cb=plt.colorbar()\n",
    "cb.set_label('SST (degrees C)')"
   ]
  },
  {
   "cell_type": "markdown",
   "metadata": {},
   "source": [
    "Here's an equivalent numpy method for selecting the June monthly means:"
   ]
  },
  {
   "cell_type": "code",
   "execution_count": 38,
   "metadata": {},
   "outputs": [
    {
     "name": "stderr",
     "output_type": "stream",
     "text": [
      "<ipython-input-38-4ecce7568e4b>:2: RuntimeWarning: Mean of empty slice\n",
      "  sst_junemean_np=np.nanmean(sst_np[5::12],axis=0)\n"
     ]
    },
    {
     "data": {
      "image/png": "[encoded data removed]",
      "text/plain": [
       "<Figure size 432x288 with 2 Axes>"
      ]
     },
     "metadata": {
      "needs_background": "light"
     },
     "output_type": "display_data"
    }
   ],
   "source": [
    "sst_np[sst_np<-300]=np.nan\n",
    "sst_junemean_np=np.nanmean(sst_np[5::12],axis=0)  \n",
    "#Python is zero-indexed, so to get the 6th month, use 5 as the index. Note how we had to remember that June=5. \n",
    "#And we really should've checked that the first index really did correspond to January. xarray's labeled indexing\n",
    "#prevents these kinds of mistakes using labeled time series. We also didn't have to remember that there are 12 months...\n",
    "                           \n",
    "\n",
    "f=plt.figure()\n",
    "plt.contourf(lon,lat,sst_junemean_np,cmap=plt.cm.twilight)\n",
    "plt.xlabel('longitude')\n",
    "plt.ylabel('latitude')\n",
    "plt.title('June mean over all years using numpy methods: Same plot as above!')\n",
    "cb=plt.colorbar()\n",
    "cb.set_label('SST (degrees C)')"
   ]
  },
  {
   "cell_type": "markdown",
   "metadata": {},
   "source": [
    "#### Dataset 4: ERA-Interim Reanalysis sea level pressure\n",
    "Many datasets are available over the web to stream. For example, NASA maintains a THREDDS server with multiple reanalysis datasets (ERA, MERRA, CSFR, NCEP, JRA, etc.). To access these remote datasets, all we need is the URL. <br><br>\n",
    "Using multiple reanalysis in an analysis is a strategy for gaining more evidence toward proving your hypothesis. Multiple lines of evidence are more convincing than only one line of evidence! Using the THREDDS server saves us the step of needing to download all the reanalyses ourselves and allows us to do more convincing science faster.  \n"
   ]
  },
  {
   "cell_type": "code",
   "execution_count": null,
   "metadata": {},
   "outputs": [],
   "source": [
    "url='https://ds.nccs.nasa.gov/thredds/dodsC/bypass/CREATE-IP/reanalysis/ECMWF/IFS-Cy31r2/ERA-Interim/mon/atmos/psl.ncml'\n",
    "ds2=xr.open_dataset(url)\n",
    "print(ds2)"
   ]
  },
  {
   "cell_type": "markdown",
   "metadata": {},
   "source": [
    "Now it's your turn. Identify the dimensions, coordinates, and variables in this dataset. What dimensions does sea level pressure have?:"
   ]
  },
  {
   "cell_type": "markdown",
   "metadata": {},
   "source": []
  },
  {
   "cell_type": "markdown",
   "metadata": {},
   "source": [
    "Identify the attributes for sea level pressure (not the full dataset's global attributes!):"
   ]
  },
  {
   "cell_type": "markdown",
   "metadata": {},
   "source": []
  },
  {
   "cell_type": "markdown",
   "metadata": {},
   "source": [
    "What do you think lat_bnds and lon_bnds are for?  "
   ]
  },
  {
   "cell_type": "code",
   "execution_count": null,
   "metadata": {},
   "outputs": [],
   "source": []
  },
  {
   "cell_type": "markdown",
   "metadata": {},
   "source": [
    "Make three new objects by selecting sea level pressure, longitude, and latitude from ds2:"
   ]
  },
  {
   "cell_type": "code",
   "execution_count": null,
   "metadata": {},
   "outputs": [],
   "source": []
  },
  {
   "cell_type": "markdown",
   "metadata": {},
   "source": [
    "Take the monthly climatology of sea level pressure:"
   ]
  },
  {
   "cell_type": "code",
   "execution_count": null,
   "metadata": {},
   "outputs": [],
   "source": []
  },
  {
   "cell_type": "markdown",
   "metadata": {},
   "source": [
    "Plot a map of the March-mean sea level pressure, making sure to correctly set the x-axis and y-axis to longitude and latitude, respectively. Include a colorbar. Pick a fun colormap if you want (see https://matplotlib.org/3.1.0/tutorials/colors/colormaps.html): "
   ]
  },
  {
   "cell_type": "code",
   "execution_count": null,
   "metadata": {},
   "outputs": [],
   "source": []
  }
 ],
 "metadata": {
  "kernelspec": {
   "display_name": "Python [conda env:aos575]",
   "language": "python",
   "name": "conda-env-aos575-py"
  },
  "language_info": {
   "codemirror_mode": {
    "name": "ipython",
    "version": 3
   },
   "file_extension": ".py",
   "mimetype": "text/x-python",
   "name": "python",
   "nbconvert_exporter": "python",
   "pygments_lexer": "ipython3",
   "version": "3.8.5"
  }
 },
 "nbformat": 4,
 "nbformat_minor": 4
}
